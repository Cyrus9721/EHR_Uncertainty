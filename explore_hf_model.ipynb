{
 "cells": [
  {
   "cell_type": "code",
   "execution_count": 1,
   "metadata": {},
   "outputs": [],
   "source": [
    "import femr.models.transformer\n",
    "import torch\n",
    "import femr.models.tokenizer\n",
    "import femr.models.processor\n",
    "import datetime\n",
    "from collections import defaultdict\n",
    "import json\n",
    "model_name = \"StanfordShahLab/clmbr-t-base\""
   ]
  },
  {
   "cell_type": "code",
   "execution_count": 2,
   "metadata": {},
   "outputs": [],
   "source": [
    "# !pip install xformers"
   ]
  },
  {
   "cell_type": "code",
   "execution_count": 3,
   "metadata": {},
   "outputs": [
    {
     "data": {
      "application/vnd.jupyter.widget-view+json": {
       "model_id": "d45da14d21e046d1a807f48c3eb5745a",
       "version_major": 2,
       "version_minor": 0
      },
      "text/plain": [
       "dictionary.msgpack:   0%|          | 0.00/6.84M [00:00<?, ?B/s]"
      ]
     },
     "metadata": {},
     "output_type": "display_data"
    },
    {
     "data": {
      "application/vnd.jupyter.widget-view+json": {
       "model_id": "474ebe32692f44549e0a02922bf4e9c5",
       "version_major": 2,
       "version_minor": 0
      },
      "text/plain": [
       "model.safetensors:   0%|          | 0.00/567M [00:00<?, ?B/s]"
      ]
     },
     "metadata": {},
     "output_type": "display_data"
    }
   ],
   "source": [
    "tokenizer = femr.models.tokenizer.FEMRTokenizer.from_pretrained(model_name)\n",
    "batch_processor = femr.models.processor.FEMRBatchProcessor(tokenizer)\n",
    "\n",
    "# Load model\n",
    "model = femr.models.transformer.FEMRModel.from_pretrained(model_name)"
   ]
  },
  {
   "cell_type": "code",
   "execution_count": 12,
   "metadata": {},
   "outputs": [
    {
     "data": {
      "text/plain": [
       "RMSNorm()"
      ]
     },
     "execution_count": 12,
     "metadata": {},
     "output_type": "execute_result"
    }
   ],
   "source": [
    "model.transformer.layers[0].norm"
   ]
  },
  {
   "cell_type": "code",
   "execution_count": 14,
   "metadata": {},
   "outputs": [
    {
     "data": {
      "text/plain": [
       "Linear(in_features=768, out_features=5376, bias=True)"
      ]
     },
     "execution_count": 14,
     "metadata": {},
     "output_type": "execute_result"
    }
   ],
   "source": [
    "model.transformer.layers[0].input_proj"
   ]
  },
  {
   "cell_type": "code",
   "execution_count": 16,
   "metadata": {},
   "outputs": [
    {
     "data": {
      "text/plain": [
       "Linear(in_features=3840, out_features=768, bias=True)"
      ]
     },
     "execution_count": 16,
     "metadata": {},
     "output_type": "execute_result"
    }
   ],
   "source": [
    "model.transformer.layers[0].output_proj"
   ]
  },
  {
   "cell_type": "code",
   "execution_count": 17,
   "metadata": {},
   "outputs": [
    {
     "data": {
      "text/plain": [
       "FEMRModel(\n",
       "  (transformer): FEMRTransformer(\n",
       "    (in_norm): RMSNorm()\n",
       "    (out_norm): RMSNorm()\n",
       "    (embed): Embedding(65536, 768)\n",
       "    (layers): ModuleList(\n",
       "      (0-11): 12 x FEMREncoderLayer(\n",
       "        (norm): RMSNorm()\n",
       "        (input_proj): Linear(in_features=768, out_features=5376, bias=True)\n",
       "        (output_proj): Linear(in_features=3840, out_features=768, bias=True)\n",
       "      )\n",
       "    )\n",
       "  )\n",
       "  (task_model): CLMBRTaskHead(\n",
       "    (final_layer): Linear(in_features=768, out_features=8192, bias=True)\n",
       "  )\n",
       ")"
      ]
     },
     "execution_count": 17,
     "metadata": {},
     "output_type": "execute_result"
    }
   ],
   "source": [
    "model"
   ]
  },
  {
   "cell_type": "code",
   "execution_count": 3,
   "metadata": {},
   "outputs": [
    {
     "data": {
      "text/plain": [
       "'/home/ubuntu/anaconda3/lib/python3.11/site-packages/femr/models/processor.py'"
      ]
     },
     "execution_count": 3,
     "metadata": {},
     "output_type": "execute_result"
    }
   ],
   "source": [
    "import inspect\n",
    "source_file = inspect.getsourcefile(femr.models.processor)\n",
    "source_file"
   ]
  },
  {
   "cell_type": "code",
   "execution_count": 4,
   "metadata": {},
   "outputs": [
    {
     "data": {
      "text/plain": [
       "-0.18811663446051943"
      ]
     },
     "execution_count": 4,
     "metadata": {},
     "output_type": "execute_result"
    }
   ],
   "source": [
    "tokenizer.dictionary['vocab'][0]['code_string']\n",
    "tokenizer.dictionary['vocab'][0]['weight']"
   ]
  },
  {
   "cell_type": "code",
   "execution_count": 5,
   "metadata": {},
   "outputs": [],
   "source": [
    "dict = defaultdict()\n",
    "for i in range(len(tokenizer.dictionary['vocab'])):\n",
    "    dict[tokenizer.dictionary['vocab'][i]['code_string']] = tokenizer.dictionary['vocab'][i]['weight']"
   ]
  },
  {
   "cell_type": "code",
   "execution_count": 6,
   "metadata": {},
   "outputs": [],
   "source": [
    "with open('femr_vocab.json', 'w') as f:\n",
    "    json.dump(dict, f)"
   ]
  },
  {
   "cell_type": "code",
   "execution_count": 7,
   "metadata": {},
   "outputs": [],
   "source": [
    "fake_event = [{\n",
    "        'time': datetime.datetime(i+10, 5, 8),\n",
    "        'measurements': [\n",
    "            {'code': 'SNOMED/184099003'},\n",
    "            {'code': 'Visit/IP'},\n",
    "        ],\n",
    "    } for i in range(5000)]\n",
    "\n",
    "fake_patient = {'patient_id':30, 'events': fake_event}"
   ]
  },
  {
   "cell_type": "code",
   "execution_count": 8,
   "metadata": {},
   "outputs": [],
   "source": [
    "patient_sample = {\n",
    "    'patient_id': 30,\n",
    "    'events': [{\n",
    "        'time': datetime.datetime(2011, 5, 8),\n",
    "        'measurements': [\n",
    "            {'code': 'SNOMED/184099003'},\n",
    "            {'code': 'Visit/IP'},\n",
    "        ],\n",
    "    },\n",
    "    {\n",
    "        'time': datetime.datetime(2012, 6, 9),\n",
    "        'measurements': [\n",
    "            {'code': 'Visit/OP'},\n",
    "            {'code': 'SNOMED/3950001'}\n",
    "        ],\n",
    "    }]\n",
    "}\n",
    "\n",
    "patient_sample_0 = {\n",
    "    'patient_id': 30,\n",
    "    'events': [{\n",
    "        'time': datetime.datetime(2011, 5, 8),\n",
    "        'measurements': [\n",
    "            {'code': 'SNOMED/184099003'},\n",
    "            {'code': 'Visit/IP'},\n",
    "        ],\n",
    "    }]\n",
    "}"
   ]
  },
  {
   "cell_type": "code",
   "execution_count": 16,
   "metadata": {},
   "outputs": [],
   "source": [
    "# len(patient_sample_1['events'])"
   ]
  },
  {
   "cell_type": "code",
   "execution_count": 10,
   "metadata": {},
   "outputs": [],
   "source": [
    "m = [{'code': 'SNOMED/3950001'} for i in range(10)]\n",
    "m = [{'code': 'Visit/OP'}] + m\n",
    "\n",
    "patient_sample_2 = {\n",
    "    'patient_id': 30,\n",
    "    'events': [{\n",
    "        'time': datetime.datetime(2011, 5, 8),\n",
    "        'measurements': m,\n",
    "    }]\n",
    "}"
   ]
  },
  {
   "cell_type": "code",
   "execution_count": 15,
   "metadata": {},
   "outputs": [],
   "source": [
    "# raw_batch = batch_processor.convert_patient(fake_patient, tensor_type=\"pt\")\n",
    "# batch = batch_processor.collate([raw_batch])\n",
    "\n",
    "# _, result = model(**batch)\n",
    "# result"
   ]
  },
  {
   "cell_type": "code",
   "execution_count": 12,
   "metadata": {},
   "outputs": [],
   "source": [
    "patient_sample_1 = {\n",
    "    'patient_id': 30,\n",
    "    'events': [{\n",
    "        'time': datetime.datetime(2011, 5, 8),\n",
    "        'measurements': [\n",
    "            {'code': 'SNOMED/184099003'},\n",
    "            {'code': 'Visit/IP'},\n",
    "            {'code': 'Gender/M'}\n",
    "        ],\n",
    "    },\n",
    "    {\n",
    "        'time': datetime.datetime(2012, 6, 9),\n",
    "        'measurements': [\n",
    "            {'code': 'Visit/OP'},\n",
    "            {'code': 'SNOMED/3950001'},\n",
    "        ],\n",
    "    }, \n",
    "    {\n",
    "        'time': datetime.datetime(2018, 6, 9),\n",
    "        'measurements': [\n",
    "            {'code': 'Visit/OP'},\n",
    "            {'code': 'SNOMED/3950001'},\n",
    "        ],\n",
    "    }, \n",
    "    {\n",
    "        'time': datetime.datetime(2018, 7, 9),\n",
    "        'measurements': [\n",
    "            {'code': 'Visit/OP'},\n",
    "            {'code': 'SNOMED/3950001'},\n",
    "        ],\n",
    "    }, \n",
    "    {\n",
    "        'time': datetime.datetime(2020, 6, 9, 9),\n",
    "        'measurements': [\n",
    "            {'code': 'SNOMED/3950001'},\n",
    "            {'code': 'Visit/OP'}\n",
    "        ],\n",
    "    }, \n",
    "    {\n",
    "        'time': datetime.datetime(2020, 6, 9, 10),\n",
    "        'measurements': [\n",
    "            {'code': 'Visit/IP'},\n",
    "            {'code': 'SNOMED/3950001'},\n",
    "        ],\n",
    "    }]\n",
    "}\n",
    "raw_batch_2 = batch_processor.convert_patient(patient_sample_1, tensor_type=\"pt\")\n",
    "batch_2 = batch_processor.collate([raw_batch_2])\n",
    "\n",
    "_, result_2 = model(**batch_2)"
   ]
  },
  {
   "cell_type": "code",
   "execution_count": 42,
   "metadata": {},
   "outputs": [
    {
     "ename": "TypeError",
     "evalue": "list indices must be integers or slices, not str",
     "output_type": "error",
     "traceback": [
      "\u001b[0;31m---------------------------------------------------------------------------\u001b[0m",
      "\u001b[0;31mTypeError\u001b[0m                                 Traceback (most recent call last)",
      "Cell \u001b[0;32mIn[42], line 1\u001b[0m\n\u001b[0;32m----> 1\u001b[0m patient_sample_1[\u001b[38;5;124m'\u001b[39m\u001b[38;5;124mevents\u001b[39m\u001b[38;5;124m'\u001b[39m][\u001b[38;5;124m'\u001b[39m\u001b[38;5;124mtime\u001b[39m\u001b[38;5;124m'\u001b[39m]\n",
      "\u001b[0;31mTypeError\u001b[0m: list indices must be integers or slices, not str"
     ]
    }
   ],
   "source": [
    "patient_sample_1['events']['time']"
   ]
  },
  {
   "cell_type": "code",
   "execution_count": 37,
   "metadata": {},
   "outputs": [
    {
     "name": "stdout",
     "output_type": "stream",
     "text": [
      "SNOMED/184099003\n",
      "Visit/IP\n",
      "Gender/M\n",
      "Visit/OP\n",
      "Visit/OP\n",
      "Visit/OP\n",
      "Visit/OP\n",
      "Visit/IP\n"
     ]
    }
   ],
   "source": [
    "for i in batch_2['batch']['transformer']['tokens'].numpy()[0]:\n",
    "    print(tokenizer.dictionary['vocab'][i]['code_string'])"
   ]
  },
  {
   "cell_type": "code",
   "execution_count": 40,
   "metadata": {},
   "outputs": [
    {
     "data": {
      "text/plain": [
       "{'num_patients': tensor(1),\n",
       " 'num_indices': tensor(0),\n",
       " 'patient_ids': tensor([30, 30, 30, 30, 30, 30, 30, 30]),\n",
       " 'offsets': tensor([0]),\n",
       " 'transformer': {'valid_tokens': tensor([True, True, True, True, True, True, True, True]),\n",
       "  'ages': tensor([   0.0000,    0.0000,    0.0000,  398.0000, 2589.0000, 2619.0000,\n",
       "          3320.3750, 3320.4167]),\n",
       "  'normalized_ages': tensor([-1.3066, -1.3066, -1.3066,  1.1699, 14.8047, 14.9922, 19.3594, 19.3594]),\n",
       "  'timestamps': tensor([1304812800, 1304812800, 1304812800, 1339200000, 1528502400, 1531094400,\n",
       "          1591693200, 1591696800]),\n",
       "  'patient_lengths': array([8]),\n",
       "  'label_indices': tensor([], dtype=torch.int64),\n",
       "  'tokens': tensor([  0, 247,   3,   4,   4,   4,   4, 247])}}"
      ]
     },
     "execution_count": 40,
     "metadata": {},
     "output_type": "execute_result"
    }
   ],
   "source": [
    "raw_batch_2"
   ]
  },
  {
   "cell_type": "code",
   "execution_count": 44,
   "metadata": {},
   "outputs": [
    {
     "data": {
      "text/plain": [
       "6"
      ]
     },
     "execution_count": 44,
     "metadata": {},
     "output_type": "execute_result"
    }
   ],
   "source": [
    "len(patient_sample_1['events'])"
   ]
  },
  {
   "cell_type": "code",
   "execution_count": null,
   "metadata": {},
   "outputs": [],
   "source": [
    "raw_batch_1 = batch_processor.convert_patient(patient_sample_1, tensor_type=\"pt\")\n",
    "batch_1 = batch_processor.collate([raw_batch_1])\n",
    "\n",
    "_, result_1 = model(**batch_1)"
   ]
  },
  {
   "cell_type": "code",
   "execution_count": null,
   "metadata": {},
   "outputs": [
    {
     "data": {
      "text/plain": [
       "{'timestamps': tensor([1304812800, 1304812800, 1339200000]),\n",
       " 'patient_ids': tensor([30, 30, 30]),\n",
       " 'representations': tensor([[ 0.0461,  0.6623, -0.6115,  ...,  0.0732, -1.2741, -0.3073],\n",
       "         [ 0.6681, -1.9489, -2.2254,  ..., -2.2320, -0.4854,  1.0614],\n",
       "         [-0.8006, -1.2952, -1.5904,  ..., -1.3272,  1.9747,  0.6058]],\n",
       "        grad_fn=<ViewBackward0>)}"
      ]
     },
     "execution_count": 26,
     "metadata": {},
     "output_type": "execute_result"
    }
   ],
   "source": [
    "result_1"
   ]
  },
  {
   "cell_type": "code",
   "execution_count": null,
   "metadata": {},
   "outputs": [
    {
     "data": {
      "text/plain": [
       "{'num_patients': tensor([1]),\n",
       " 'num_indices': tensor([0]),\n",
       " 'patient_ids': tensor([[30, 30, 30, 30]]),\n",
       " 'offsets': tensor([[0]]),\n",
       " 'transformer': {'valid_tokens': tensor([[True, True, True, True]]),\n",
       "  'ages': tensor([[  0.,   0., 398., 398.]]),\n",
       "  'normalized_ages': tensor([[-1.3066, -1.3066,  1.1699,  1.1699]]),\n",
       "  'timestamps': tensor([[1304812800, 1304812800, 1339200000, 1339200000]]),\n",
       "  'patient_lengths': array([[4]]),\n",
       "  'label_indices': tensor([], size=(1, 0), dtype=torch.int64),\n",
       "  'tokens': tensor([[   0,  247,    0, 2656]])}}"
      ]
     },
     "execution_count": 23,
     "metadata": {},
     "output_type": "execute_result"
    }
   ],
   "source": [
    "batch_1['batch']"
   ]
  },
  {
   "cell_type": "code",
   "execution_count": null,
   "metadata": {},
   "outputs": [
    {
     "data": {
      "text/plain": [
       "{'batch': {'num_patients': tensor([1]),\n",
       "  'num_indices': tensor([0]),\n",
       "  'patient_ids': tensor([[30, 30, 30, 30, 30]]),\n",
       "  'offsets': tensor([[0]]),\n",
       "  'transformer': {'valid_tokens': tensor([[True, True, True, True, True]]),\n",
       "   'ages': tensor([[  0.,   0., 398., 398., 398.]]),\n",
       "   'normalized_ages': tensor([[-1.3066, -1.3066,  1.1699,  1.1699,  1.1699]]),\n",
       "   'timestamps': tensor([[1304812800, 1304812800, 1339200000, 1339200000, 1339200000]]),\n",
       "   'patient_lengths': array([[5]]),\n",
       "   'label_indices': tensor([], size=(1, 0), dtype=torch.int64),\n",
       "   'tokens': tensor([[   0,  247,    4,    0, 2656]])}}}"
      ]
     },
     "execution_count": 19,
     "metadata": {},
     "output_type": "execute_result"
    }
   ],
   "source": [
    "batch_1"
   ]
  }
 ],
 "metadata": {
  "kernelspec": {
   "display_name": "Python [conda env:uq_ehr]",
   "language": "python",
   "name": "conda-env-uq_ehr-py"
  },
  "language_info": {
   "codemirror_mode": {
    "name": "ipython",
    "version": 3
   },
   "file_extension": ".py",
   "mimetype": "text/x-python",
   "name": "python",
   "nbconvert_exporter": "python",
   "pygments_lexer": "ipython3",
   "version": "3.10.15"
  }
 },
 "nbformat": 4,
 "nbformat_minor": 2
}
