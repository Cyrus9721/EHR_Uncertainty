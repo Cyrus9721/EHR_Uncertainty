{
 "cells": [
  {
   "cell_type": "code",
   "execution_count": 1,
   "metadata": {},
   "outputs": [],
   "source": [
    "import pandas as pd\n",
    "import numpy as np\n",
    "import os\n",
    "import pickle\n",
    "\n",
    "# explore the data\n",
    "\n",
    "import argparse\n",
    "import os\n",
    "import json\n",
    "from typing import List, Tuple\n",
    "from loguru import logger\n",
    "from ehrshot.utils import LABELING_FUNCTION_2_PAPER_NAME\n",
    "import pandas as pd\n",
    "from tqdm import tqdm\n",
    "from femr.datasets import PatientDatabase\n",
    "import femr\n",
    "from datetime import datetime\n",
    "from collections import defaultdict"
   ]
  },
  {
   "cell_type": "code",
   "execution_count": 2,
   "metadata": {},
   "outputs": [],
   "source": [
    "# one line of code to configure the patient database\n",
    "def configure_database(path_to_database: str) -> PatientDatabase:\n",
    "    return PatientDatabase(path_to_database)"
   ]
  },
  {
   "cell_type": "code",
   "execution_count": 10,
   "metadata": {},
   "outputs": [],
   "source": [
    "value_name = ['los', 'icu', 'readmission']\n",
    "df_los = pd.read_csv('EHRSHOT_ASSETS/benchmark/guo_los/labeled_patients.csv')\n",
    "df_icu = pd.read_csv('EHRSHOT_ASSETS/benchmark/guo_icu/labeled_patients.csv')\n",
    "df_readmission = pd.read_csv('EHRSHOT_ASSETS/benchmark/guo_readmission/labeled_patients.csv')"
   ]
  },
  {
   "cell_type": "code",
   "execution_count": 11,
   "metadata": {},
   "outputs": [],
   "source": [
    "df_icu = df_icu.drop(columns=['label_type'])\n",
    "df_icu = df_icu.rename(columns={'value': 'value_icu'})\n",
    "\n",
    "df_los = df_los.drop(columns=['label_type'])\n",
    "df_los = df_los.rename(columns={'value': 'value_los'})\n",
    "\n",
    "df_readmission = df_readmission.drop(columns=['label_type'])\n",
    "df_readmission = df_readmission.rename(columns={'value': 'value_readmission'})"
   ]
  },
  {
   "cell_type": "code",
   "execution_count": 18,
   "metadata": {},
   "outputs": [],
   "source": [
    "df_merged = pd.merge(df_los, df_icu, on=['prediction_time', 'patient_id'], how='inner')\n",
    "# df_merged = pd.merge(df_merged, df_readmission, on=['prediction_time', 'patient_id'], how='inner')"
   ]
  },
  {
   "cell_type": "code",
   "execution_count": 31,
   "metadata": {},
   "outputs": [
    {
     "data": {
      "text/html": [
       "<div>\n",
       "<style scoped>\n",
       "    .dataframe tbody tr th:only-of-type {\n",
       "        vertical-align: middle;\n",
       "    }\n",
       "\n",
       "    .dataframe tbody tr th {\n",
       "        vertical-align: top;\n",
       "    }\n",
       "\n",
       "    .dataframe thead th {\n",
       "        text-align: right;\n",
       "    }\n",
       "</style>\n",
       "<table border=\"1\" class=\"dataframe\">\n",
       "  <thead>\n",
       "    <tr style=\"text-align: right;\">\n",
       "      <th></th>\n",
       "      <th>patient_id</th>\n",
       "      <th>prediction_time</th>\n",
       "      <th>value_los</th>\n",
       "      <th>value_icu</th>\n",
       "    </tr>\n",
       "  </thead>\n",
       "  <tbody>\n",
       "    <tr>\n",
       "      <th>0</th>\n",
       "      <td>115973157</td>\n",
       "      <td>2022-12-09 23:59:00</td>\n",
       "      <td>False</td>\n",
       "      <td>False</td>\n",
       "    </tr>\n",
       "    <tr>\n",
       "      <th>1</th>\n",
       "      <td>115973052</td>\n",
       "      <td>2017-01-08 23:59:00</td>\n",
       "      <td>False</td>\n",
       "      <td>False</td>\n",
       "    </tr>\n",
       "    <tr>\n",
       "      <th>2</th>\n",
       "      <td>115973052</td>\n",
       "      <td>2017-02-11 23:59:00</td>\n",
       "      <td>True</td>\n",
       "      <td>True</td>\n",
       "    </tr>\n",
       "    <tr>\n",
       "      <th>3</th>\n",
       "      <td>115973052</td>\n",
       "      <td>2017-04-09 23:59:00</td>\n",
       "      <td>True</td>\n",
       "      <td>False</td>\n",
       "    </tr>\n",
       "    <tr>\n",
       "      <th>4</th>\n",
       "      <td>115973052</td>\n",
       "      <td>2017-04-21 23:59:00</td>\n",
       "      <td>True</td>\n",
       "      <td>False</td>\n",
       "    </tr>\n",
       "    <tr>\n",
       "      <th>...</th>\n",
       "      <td>...</td>\n",
       "      <td>...</td>\n",
       "      <td>...</td>\n",
       "      <td>...</td>\n",
       "    </tr>\n",
       "    <tr>\n",
       "      <th>6486</th>\n",
       "      <td>115967235</td>\n",
       "      <td>2017-09-26 23:59:00</td>\n",
       "      <td>False</td>\n",
       "      <td>False</td>\n",
       "    </tr>\n",
       "    <tr>\n",
       "      <th>6487</th>\n",
       "      <td>115967238</td>\n",
       "      <td>2016-04-29 23:59:00</td>\n",
       "      <td>False</td>\n",
       "      <td>False</td>\n",
       "    </tr>\n",
       "    <tr>\n",
       "      <th>6488</th>\n",
       "      <td>115967255</td>\n",
       "      <td>2015-04-09 23:59:00</td>\n",
       "      <td>False</td>\n",
       "      <td>False</td>\n",
       "    </tr>\n",
       "    <tr>\n",
       "      <th>6489</th>\n",
       "      <td>115967255</td>\n",
       "      <td>2021-04-20 23:59:00</td>\n",
       "      <td>False</td>\n",
       "      <td>False</td>\n",
       "    </tr>\n",
       "    <tr>\n",
       "      <th>6490</th>\n",
       "      <td>115967264</td>\n",
       "      <td>2019-09-09 23:59:00</td>\n",
       "      <td>False</td>\n",
       "      <td>False</td>\n",
       "    </tr>\n",
       "  </tbody>\n",
       "</table>\n",
       "<p>6491 rows × 4 columns</p>\n",
       "</div>"
      ],
      "text/plain": [
       "      patient_id      prediction_time  value_los  value_icu\n",
       "0      115973157  2022-12-09 23:59:00      False      False\n",
       "1      115973052  2017-01-08 23:59:00      False      False\n",
       "2      115973052  2017-02-11 23:59:00       True       True\n",
       "3      115973052  2017-04-09 23:59:00       True      False\n",
       "4      115973052  2017-04-21 23:59:00       True      False\n",
       "...          ...                  ...        ...        ...\n",
       "6486   115967235  2017-09-26 23:59:00      False      False\n",
       "6487   115967238  2016-04-29 23:59:00      False      False\n",
       "6488   115967255  2015-04-09 23:59:00      False      False\n",
       "6489   115967255  2021-04-20 23:59:00      False      False\n",
       "6490   115967264  2019-09-09 23:59:00      False      False\n",
       "\n",
       "[6491 rows x 4 columns]"
      ]
     },
     "execution_count": 31,
     "metadata": {},
     "output_type": "execute_result"
    }
   ],
   "source": [
    "# df_merged.to_csv('white_box_common_data/general_operation.csv', index=False)\n",
    "df_merged"
   ]
  },
  {
   "cell_type": "code",
   "execution_count": 33,
   "metadata": {},
   "outputs": [],
   "source": [
    "df_los_v2 = df_los.rename(columns={'prediction_time': 'admission_date'})\n",
    "df_icu_v2 = df_icu.rename(columns={'prediction_time': 'admission_date'})\n",
    "df_readmission_v2 = df_readmission.rename(columns={'prediction_time': 'discharge_date'})\n",
    "\n",
    "df_merged_v2 = pd.read_csv('common_patients_description.csv')\n",
    "df_merged_v2 = df_merged_v2.drop(columns=['description'])\n",
    "df_merged_v2 = pd.merge(df_merged_v2, df_los_v2, on=['admission_date', 'patient_id'], how='inner')\n",
    "df_merged_v2 = pd.merge(df_merged_v2, df_icu_v2, on=['admission_date', 'patient_id'], how='inner')\n",
    "df_merged_v2 = pd.merge(df_merged_v2, df_readmission_v2, on=['discharge_date', 'patient_id'], how='inner')"
   ]
  },
  {
   "cell_type": "code",
   "execution_count": 38,
   "metadata": {},
   "outputs": [],
   "source": [
    "df_merged_v2.to_csv('white_box_common_data/general_operation_v2.csv', index=False)"
   ]
  },
  {
   "cell_type": "code",
   "execution_count": null,
   "metadata": {},
   "outputs": [],
   "source": []
  }
 ],
 "metadata": {
  "kernelspec": {
   "display_name": "base",
   "language": "python",
   "name": "python3"
  },
  "language_info": {
   "codemirror_mode": {
    "name": "ipython",
    "version": 3
   },
   "file_extension": ".py",
   "mimetype": "text/x-python",
   "name": "python",
   "nbconvert_exporter": "python",
   "pygments_lexer": "ipython3",
   "version": "3.10.14"
  }
 },
 "nbformat": 4,
 "nbformat_minor": 2
}
