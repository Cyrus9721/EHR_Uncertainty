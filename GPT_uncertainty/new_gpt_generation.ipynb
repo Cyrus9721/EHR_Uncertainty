{
 "cells": [
  {
   "cell_type": "code",
   "execution_count": null,
   "metadata": {},
   "outputs": [],
   "source": [
    "from langchain_openai import AzureChatOpenAI\n",
    "from langchain.prompts import ChatPromptTemplate\n",
    "import os\n",
    "\n",
    "import truststore\n",
    "truststore.inject_into_ssl()\n",
    "import numpy as np\n",
    "import pandas as pd\n",
    "from tqdm import tqdm\n",
    "import time\n",
    "import seaborn as sns\n",
    "import numpy as np\n",
    "from sklearn.metrics import roc_curve, auc\n",
    "import matplotlib.pyplot as plt\n",
    "os.environ[\"APP_CLIENT_ID\"] = \"zizhang-chen-research-app\"\n",
    "os.environ[\"APP_CLIENT_SECRET\"] = \"cQPcueFP7tDrimbf8NW2GAHcHeQa\"\n",
    "from llm_idam_token_generator.idam_token_generator import get_idam_token\n",
    "from langchain_community.callbacks import get_openai_callback\n",
    "from langchain_openai import OpenAI\n",
    "import tiktoken\n",
    "# OpenAI Endpoint details\n",
    "OPENAI_ENDPOINT = \"https://openai-llm-frontdoor-hma7evbthrd4cugn.a01.azurefd.net\"\n",
    "# OPENAI_DEPLOYMENT_MODEL = \"gpt-4-32k-beta\"\n",
    "OPENAI_DEPLOYMENT_MODEL = \"gpt-35-turbo-16k\"\n",
    "OPENAI_AZURE_API_VERSION = \"2023-12-01-preview\"\n",
    "# OPENAI_AZURE_API_VERSION = '2024-02-01'\n",
    "OPENAI_TYPE=\"azure\""
   ]
  },
  {
   "cell_type": "code",
   "execution_count": null,
   "metadata": {},
   "outputs": [],
   "source": [
    "OPENAI_ENDPOINT= 'https://lmaas-beta.ai.gehealthcare.com'\n",
    "OPENAI_DEPLOYMENT_MODEL= \"gpt-4o\"\n",
    "OPENAI_AZURE_API_VERSION= \"2023-12-01-preview\"\n",
    "APIM_KEY= \"8b96051ed6b84e4dad762fdc9f8c809e\""
   ]
  },
  {
   "cell_type": "code",
   "execution_count": null,
   "metadata": {},
   "outputs": [],
   "source": []
  }
 ],
 "metadata": {
  "kernelspec": {
   "display_name": "base",
   "language": "python",
   "name": "python3"
  },
  "language_info": {
   "name": "python",
   "version": "3.11.7"
  }
 },
 "nbformat": 4,
 "nbformat_minor": 2
}
