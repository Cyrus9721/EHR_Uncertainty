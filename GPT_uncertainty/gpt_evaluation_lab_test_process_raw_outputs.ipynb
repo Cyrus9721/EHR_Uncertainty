{
 "cells": [
  {
   "cell_type": "code",
   "execution_count": 1,
   "metadata": {},
   "outputs": [],
   "source": [
    "import pandas as pd\n",
    "import numpy as np\n",
    "import os"
   ]
  },
  {
   "cell_type": "code",
   "execution_count": 2,
   "metadata": {},
   "outputs": [],
   "source": [
    "\n",
    "results_path = [\n",
    "    'results/gpt35_new/cross_task_labtest/multi_task_lab_test.csv',\n",
    "    'results/gpt4_new/cross_task_labtest/multi_task_lab_test.csv'\n",
    "]\n",
    "\n",
    "out_path = [\n",
    "    'results/gpt35_new/cross_task_labtest_reformulated/',\n",
    "    'results/gpt4_new/cross_task_labtest_reformulated/'\n",
    "]\n",
    "\n",
    "prediction_column_names = ['pred_1', 'pred_2', 'pred_3', 'pred_4', 'pred_5']\n",
    "ground_truth_names = ['0', '1', '2', '3', '4']\n",
    "\n",
    "test_name_list = [i.replace('value_', '') for i in ['value_anemia', 'value_hypoglycemia', 'value_hyponatremia', 'value_thrombocytopenia', 'value_hyperkalemia']]\n",
    "\n",
    "out_name_list = [i + '.csv' for i in test_name_list]"
   ]
  },
  {
   "cell_type": "code",
   "execution_count": 3,
   "metadata": {},
   "outputs": [],
   "source": [
    "def extract_single_answer(input_string):\n",
    "    lines = input_string.split('\\n')\n",
    "    # Extracting the answer part from each line\n",
    "    answers = [line.split(': ')[1].lower() for line in lines]\n",
    "\n",
    "    numerical_answers = []\n",
    "\n",
    "    for a in answers:\n",
    "        if 'yes' in a:\n",
    "            numerical_answers.append(1)\n",
    "        elif 'no' in a:\n",
    "            numerical_answers.append(0)\n",
    "        else:\n",
    "            numerical_answers.append(-1)\n",
    "    return numerical_answers\n",
    "\n",
    "\n",
    "def extract_single_answer_gpt4(input_string):\n",
    "\n",
    "    lines = input_string.split('\\n')\n",
    "    start_index_answers = 0\n",
    "    if len(lines) != 5:\n",
    "        print(lines)\n",
    "        for p in range(len(lines)):\n",
    "            if 'Anemia' in lines[p]:\n",
    "                start_index_answers = p\n",
    "    new_lines = lines[start_index_answers:]\n",
    "\n",
    "    # Extracting the answer part from each line\n",
    "    try:\n",
    "        answers = [line.split(': ')[1].lower() for line in new_lines]\n",
    "\n",
    "        numerical_answers = []\n",
    "\n",
    "        for a in answers:\n",
    "            if 'yes' in a:\n",
    "                numerical_answers.append(1)\n",
    "            elif 'no' in a:\n",
    "                numerical_answers.append(0)\n",
    "            else:\n",
    "                numerical_answers.append(-1)\n",
    "\n",
    "        return numerical_answers\n",
    "    except:\n",
    "        print(new_lines)\n",
    "        return [-1, -1, -1, -1, -1]"
   ]
  },
  {
   "cell_type": "code",
   "execution_count": 4,
   "metadata": {},
   "outputs": [
    {
     "name": "stdout",
     "output_type": "stream",
     "text": [
      "[\"Without detailed lab results, it's challenging to predict the patient's state accurately. However, based on the provided information:\", 'anemia: Yes', 'hypoglycemia: Yes', 'hyponatremia: Yes', 'thrombocytopenia: Yes', 'hyperkalemia: Yes']\n",
      "[\"Without detailed lab results, it's challenging to predict the patient's state accurately. However, based on the provided information:\", 'anemia: Yes', 'hypoglycemia: Yes', 'hyponatremia: Yes', 'thrombocytopenia: Yes', 'hyperkalemia: Yes']\n",
      "[\"Based on the provided patient information, it is not possible to predict the results of anemia, hypoglycemia, hyponatremia, thrombocytopenia, and hyperkalemia tests as the data given does not contain any specific indicators or relevant lab test results related to these conditions. A more accurate prediction could be made if the patient's complete blood count, electrolyte levels, glucose levels, and kidney function were available.\"]\n",
      "[\"Based on the provided patient information, it is not possible to predict the results of anemia, hypoglycemia, hyponatremia, thrombocytopenia, and hyperkalemia tests as the data given does not contain any specific indicators or relevant lab test results related to these conditions. A more accurate prediction could be made if the patient's complete blood count, electrolyte levels, glucose levels, and kidney function were available.\"]\n",
      "[\"Based on the provided information, no specific health issues, conditions, or symptoms were reported that could influence the lab test results. However, it's important to note that without more detailed patient medical history, responses can only be based on statistical averages and not on the individual patient's condition. \", '', 'Predictions:', 'Anemia: Yes', 'Hypoglycemia: Yes', 'Hyponatremia: Yes', 'Thrombocytopenia: Yes', 'Hyperkalemia: Yes']\n",
      "[\"Based on the provided information, there is not enough data to accurately predict the outcomes of these lab tests. The only relevant medical information given is a normal Alpha-1-Fetoprotein measurement in 2001. The reasons for termination of the Health Plan and the procedure note details were not provided, so they cannot be used for prediction. Furthermore, the patient's current health status, lifestyle, and recent medical history are unknown. Therefore, any predictions would be purely speculative and not based on evidence.\"]\n",
      "[\"Based on the provided information, there is not enough data to accurately predict the outcomes of these lab tests. The only relevant medical information given is a normal Alpha-1-Fetoprotein measurement in 2001. The reasons for termination of the Health Plan and the procedure note details were not provided, so they cannot be used for prediction. Furthermore, the patient's current health status, lifestyle, and recent medical history are unknown. Therefore, any predictions would be purely speculative and not based on evidence.\"]\n",
      "[\"Given the limited information available, it is not possible to accurately predict the specific lab test results. More comprehensive patient history and symptom details are needed to make an informed prediction. However, based on the patient's vital signs and recent medical events, I can provide a broad prediction:\", '', 'anemia: Yes', 'hypoglycemia: Yes', 'hyponatremia: Yes', 'thrombocytopenia: Yes', 'hyperkalemia: Yes', '', \"Please note that these predictions are only based on the given data and may not be accurate. It's crucial to conduct these tests to confirm.\"]\n",
      "[\"Given the limited information available, it is not possible to accurately predict the specific lab test results. More comprehensive patient history and symptom details are needed to make an informed prediction. However, based on the patient's vital signs and recent medical events, I can provide a broad prediction:\", '', 'anemia: Yes', 'hypoglycemia: Yes', 'hyponatremia: Yes', 'thrombocytopenia: Yes', 'hyperkalemia: Yes', '', \"Please note that these predictions are only based on the given data and may not be accurate. It's crucial to conduct these tests to confirm.\"]\n"
     ]
    }
   ],
   "source": [
    "idx = 1\n",
    "df = pd.read_csv(results_path[idx])\n",
    "\n",
    "df_predictions = df.loc[:, prediction_column_names]\n",
    "df_gt = df.loc[:, ground_truth_names]\n",
    "\n",
    "\n",
    "all_ans_list = []\n",
    "for j in range(len(prediction_column_names)):\n",
    "    temp_ans_list = []\n",
    "    current_columns = prediction_column_names[j]\n",
    "    temp_df_prediction = df.loc[:, [current_columns]]\n",
    "    for k in range(len(temp_df_prediction)):\n",
    "        temp_single_pred = temp_df_prediction.loc[k,\n",
    "                                                  [current_columns]].values[0]\n",
    "        temp_ans = extract_single_answer_gpt4(temp_single_pred)\n",
    "        temp_ans_list.append(temp_ans)\n",
    "        assert(len(temp_ans) == 5)\n",
    "    all_ans_list.append(temp_ans_list)\n",
    "all_ans_mat = np.array(all_ans_list)\n",
    "\n",
    "for i in range(len(ground_truth_names)):\n",
    "    gt_column = ground_truth_names[i]\n",
    "    df_pred_temp = pd.DataFrame(all_ans_mat[:, :, i]).T\n",
    "    df_pred_temp.columns = prediction_column_names\n",
    "    df_pred_temp['gt'] = df.loc[:, [gt_column]].values.reshape(-1)\n",
    "    temp_out_name = os.path.join(out_path[idx], out_name_list[i])\n",
    "    # df_pred_temp.to_csv(temp_out_name, index=False)"
   ]
  },
  {
   "cell_type": "code",
   "execution_count": 5,
   "metadata": {},
   "outputs": [
    {
     "data": {
      "text/plain": [
       "'results/gpt4_new/cross_task_labtest_reformulated/hyperkalemia.csv'"
      ]
     },
     "execution_count": 5,
     "metadata": {},
     "output_type": "execute_result"
    }
   ],
   "source": [
    "temp_out_name"
   ]
  },
  {
   "cell_type": "code",
   "execution_count": 6,
   "metadata": {},
   "outputs": [
    {
     "ename": "NameError",
     "evalue": "name 'start_index_answers' is not defined",
     "output_type": "error",
     "traceback": [
      "\u001b[0;31m---------------------------------------------------------------------------\u001b[0m",
      "\u001b[0;31mNameError\u001b[0m                                 Traceback (most recent call last)",
      "Cell \u001b[0;32mIn[6], line 7\u001b[0m\n\u001b[1;32m      5\u001b[0m     \u001b[38;5;28;01mif\u001b[39;00m \u001b[38;5;124m'\u001b[39m\u001b[38;5;124mAnemia\u001b[39m\u001b[38;5;124m'\u001b[39m \u001b[38;5;129;01min\u001b[39;00m lines[p]:\n\u001b[1;32m      6\u001b[0m         start_index_answers \u001b[38;5;241m=\u001b[39m p\n\u001b[0;32m----> 7\u001b[0m new_lines \u001b[38;5;241m=\u001b[39m lines[start_index_answers:]\n\u001b[1;32m      8\u001b[0m new_lines\n",
      "\u001b[0;31mNameError\u001b[0m: name 'start_index_answers' is not defined"
     ]
    }
   ],
   "source": [
    "input_string = temp_single_pred\n",
    "\n",
    "lines = input_string.split('\\n')\n",
    "for p in range(len(lines)):\n",
    "    if 'Anemia' in lines[p]:\n",
    "        start_index_answers = p\n",
    "new_lines = lines[start_index_answers:]\n",
    "new_lines"
   ]
  },
  {
   "cell_type": "code",
   "execution_count": null,
   "metadata": {},
   "outputs": [],
   "source": [
    "unique_values = {col: df[col].unique() for col in df.columns}"
   ]
  },
  {
   "cell_type": "code",
   "execution_count": null,
   "metadata": {},
   "outputs": [
    {
     "data": {
      "text/plain": [
       "\"Based on the provided information, there is not enough data to accurately predict the outcomes of these lab tests. The only relevant medical information given is a normal Alpha-1-Fetoprotein measurement in 2001. The reasons for termination of the Health Plan and the procedure note details were not provided, so they cannot be used for prediction. Furthermore, the patient's current health status, lifestyle, and recent medical history are unknown. Therefore, any predictions would be purely speculative and not based on evidence.\""
      ]
     },
     "execution_count": 16,
     "metadata": {},
     "output_type": "execute_result"
    }
   ],
   "source": [
    "unique_values['pred_5'][10]"
   ]
  },
  {
   "cell_type": "code",
   "execution_count": null,
   "metadata": {},
   "outputs": [
    {
     "data": {
      "text/plain": [
       "(array([45]),)"
      ]
     },
     "execution_count": 18,
     "metadata": {},
     "output_type": "execute_result"
    }
   ],
   "source": [
    "np.where(df['pred_5'] == unique_values['pred_5'][16])"
   ]
  },
  {
   "cell_type": "code",
   "execution_count": null,
   "metadata": {},
   "outputs": [
    {
     "data": {
      "text/html": [
       "<div>\n",
       "<style scoped>\n",
       "    .dataframe tbody tr th:only-of-type {\n",
       "        vertical-align: middle;\n",
       "    }\n",
       "\n",
       "    .dataframe tbody tr th {\n",
       "        vertical-align: top;\n",
       "    }\n",
       "\n",
       "    .dataframe thead th {\n",
       "        text-align: right;\n",
       "    }\n",
       "</style>\n",
       "<table border=\"1\" class=\"dataframe\">\n",
       "  <thead>\n",
       "    <tr style=\"text-align: right;\">\n",
       "      <th></th>\n",
       "      <th>pred_1</th>\n",
       "      <th>pred_2</th>\n",
       "      <th>pred_3</th>\n",
       "      <th>pred_4</th>\n",
       "      <th>pred_5</th>\n",
       "      <th>gt</th>\n",
       "    </tr>\n",
       "  </thead>\n",
       "  <tbody>\n",
       "    <tr>\n",
       "      <th>0</th>\n",
       "      <td>1</td>\n",
       "      <td>1</td>\n",
       "      <td>1</td>\n",
       "      <td>1</td>\n",
       "      <td>1</td>\n",
       "      <td>1</td>\n",
       "    </tr>\n",
       "    <tr>\n",
       "      <th>1</th>\n",
       "      <td>1</td>\n",
       "      <td>0</td>\n",
       "      <td>1</td>\n",
       "      <td>1</td>\n",
       "      <td>1</td>\n",
       "      <td>1</td>\n",
       "    </tr>\n",
       "    <tr>\n",
       "      <th>2</th>\n",
       "      <td>1</td>\n",
       "      <td>1</td>\n",
       "      <td>1</td>\n",
       "      <td>1</td>\n",
       "      <td>0</td>\n",
       "      <td>0</td>\n",
       "    </tr>\n",
       "    <tr>\n",
       "      <th>3</th>\n",
       "      <td>1</td>\n",
       "      <td>1</td>\n",
       "      <td>1</td>\n",
       "      <td>1</td>\n",
       "      <td>1</td>\n",
       "      <td>1</td>\n",
       "    </tr>\n",
       "    <tr>\n",
       "      <th>4</th>\n",
       "      <td>1</td>\n",
       "      <td>1</td>\n",
       "      <td>1</td>\n",
       "      <td>1</td>\n",
       "      <td>1</td>\n",
       "      <td>0</td>\n",
       "    </tr>\n",
       "    <tr>\n",
       "      <th>...</th>\n",
       "      <td>...</td>\n",
       "      <td>...</td>\n",
       "      <td>...</td>\n",
       "      <td>...</td>\n",
       "      <td>...</td>\n",
       "      <td>...</td>\n",
       "    </tr>\n",
       "    <tr>\n",
       "      <th>95</th>\n",
       "      <td>1</td>\n",
       "      <td>1</td>\n",
       "      <td>1</td>\n",
       "      <td>0</td>\n",
       "      <td>0</td>\n",
       "      <td>1</td>\n",
       "    </tr>\n",
       "    <tr>\n",
       "      <th>96</th>\n",
       "      <td>1</td>\n",
       "      <td>1</td>\n",
       "      <td>1</td>\n",
       "      <td>1</td>\n",
       "      <td>1</td>\n",
       "      <td>0</td>\n",
       "    </tr>\n",
       "    <tr>\n",
       "      <th>97</th>\n",
       "      <td>1</td>\n",
       "      <td>1</td>\n",
       "      <td>1</td>\n",
       "      <td>1</td>\n",
       "      <td>1</td>\n",
       "      <td>1</td>\n",
       "    </tr>\n",
       "    <tr>\n",
       "      <th>98</th>\n",
       "      <td>1</td>\n",
       "      <td>1</td>\n",
       "      <td>1</td>\n",
       "      <td>1</td>\n",
       "      <td>1</td>\n",
       "      <td>1</td>\n",
       "    </tr>\n",
       "    <tr>\n",
       "      <th>99</th>\n",
       "      <td>1</td>\n",
       "      <td>1</td>\n",
       "      <td>1</td>\n",
       "      <td>1</td>\n",
       "      <td>1</td>\n",
       "      <td>1</td>\n",
       "    </tr>\n",
       "  </tbody>\n",
       "</table>\n",
       "<p>100 rows × 6 columns</p>\n",
       "</div>"
      ],
      "text/plain": [
       "    pred_1  pred_2  pred_3  pred_4  pred_5  gt\n",
       "0        1       1       1       1       1   1\n",
       "1        1       0       1       1       1   1\n",
       "2        1       1       1       1       0   0\n",
       "3        1       1       1       1       1   1\n",
       "4        1       1       1       1       1   0\n",
       "..     ...     ...     ...     ...     ...  ..\n",
       "95       1       1       1       0       0   1\n",
       "96       1       1       1       1       1   0\n",
       "97       1       1       1       1       1   1\n",
       "98       1       1       1       1       1   1\n",
       "99       1       1       1       1       1   1\n",
       "\n",
       "[100 rows x 6 columns]"
      ]
     },
     "execution_count": 119,
     "metadata": {},
     "output_type": "execute_result"
    }
   ],
   "source": [
    "df_pred_temp"
   ]
  },
  {
   "cell_type": "code",
   "execution_count": null,
   "metadata": {},
   "outputs": [],
   "source": []
  },
  {
   "cell_type": "code",
   "execution_count": null,
   "metadata": {},
   "outputs": [],
   "source": [
    "input_string = df.loc[0, ['pred_1']].values[0]\n",
    "\n"
   ]
  },
  {
   "cell_type": "code",
   "execution_count": null,
   "metadata": {},
   "outputs": [
    {
     "data": {
      "text/plain": [
       "array([0, 1, 1, 1, 1])"
      ]
     },
     "execution_count": 59,
     "metadata": {},
     "output_type": "execute_result"
    }
   ],
   "source": [
    "extract_single_answer(input_string)"
   ]
  }
 ],
 "metadata": {
  "kernelspec": {
   "display_name": "base",
   "language": "python",
   "name": "python3"
  },
  "language_info": {
   "codemirror_mode": {
    "name": "ipython",
    "version": 3
   },
   "file_extension": ".py",
   "mimetype": "text/x-python",
   "name": "python",
   "nbconvert_exporter": "python",
   "pygments_lexer": "ipython3",
   "version": "3.11.7"
  }
 },
 "nbformat": 4,
 "nbformat_minor": 2
}
