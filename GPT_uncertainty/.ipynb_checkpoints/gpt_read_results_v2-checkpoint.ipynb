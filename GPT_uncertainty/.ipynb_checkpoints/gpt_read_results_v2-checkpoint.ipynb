{
 "cells": [
  {
   "cell_type": "code",
   "execution_count": 55,
   "id": "8b2a4424",
   "metadata": {},
   "outputs": [],
   "source": [
    "import numpy as np\n",
    "import pandas as pd\n",
    "from tqdm import tqdm\n",
    "import time\n",
    "import seaborn as sns\n",
    "import numpy as np\n",
    "from sklearn.metrics import roc_curve, auc, roc_auc_score\n",
    "import matplotlib.pyplot as plt"
   ]
  },
  {
   "cell_type": "code",
   "execution_count": 56,
   "id": "35bd1301",
   "metadata": {},
   "outputs": [],
   "source": [
    "df1 = pd.read_csv('df_general_results.csv')\n",
    "df1 = df1.loc[[0, 1]]\n",
    "df2 = pd.read_csv('df_lab_results.csv')\n",
    "df3 = pd.read_csv('df_diag_results.csv')"
   ]
  },
  {
   "cell_type": "code",
   "execution_count": 57,
   "id": "f0ae33ce",
   "metadata": {},
   "outputs": [],
   "source": [
    "df_all = pd.concat([df1, df2, df3])"
   ]
  },
  {
   "cell_type": "code",
   "execution_count": 89,
   "id": "838814f5",
   "metadata": {},
   "outputs": [],
   "source": [
    "df_all_uq = df_all.loc[:, df_all.columns[1::2]]"
   ]
  },
  {
   "cell_type": "code",
   "execution_count": 111,
   "id": "6a7bccfd",
   "metadata": {},
   "outputs": [],
   "source": [
    "# df_all.to_csv('df_all_results.csv')\n",
    "df_all_uq.to_csv('df_all_uq_results.csv')"
   ]
  },
  {
   "cell_type": "code",
   "execution_count": 104,
   "id": "0b5c87a2",
   "metadata": {},
   "outputs": [],
   "source": [
    "def df_to_latex(df):\n",
    "    latex_str = \"\"\n",
    "    for index, row in df.iterrows():\n",
    "        # Create a string for each row\n",
    "        row_str = \"\"\n",
    "        for i, val in enumerate(row):\n",
    "            if index == 0 and i == 1:  # Condition to color the second cell of the first row\n",
    "                row_str += f\"\\\\cellcolor{{red}}{val:.4f} & \"\n",
    "            else:\n",
    "                row_str += f\"{val:.4f} & \"\n",
    "        row_str = '&' + row_str.strip('& ') + \" \\\\\\\\\\n\"  # Remove the last '&'\n",
    "        latex_str += row_str\n",
    "    return latex_str\n",
    "\n",
    "\n",
    "def format_latex_with_color(df):\n",
    "    latex_str = \"\"\n",
    "    for index, row in df.iterrows():\n",
    "        # Separate odd and even indexed columns and find max for each category\n",
    "        odd_max = row.iloc[::2].max()  # max for odd columns in the current row\n",
    "        even_max = row.iloc[1::2].max()  # max for even columns in the current row\n",
    "\n",
    "        row_str = \"& \"\n",
    "        for i, value in enumerate(row):\n",
    "            # Check if current column is odd or even\n",
    "            if i % 2 == 0:  # Odd column index\n",
    "                # Apply color if this value is the max in the odd columns\n",
    "                if value == odd_max:\n",
    "                    row_str += f\"\\\\cellcolor{{gray!12}}{value:.4f} & \"\n",
    "                else:\n",
    "                    row_str += f\"{value:.4f} & \"\n",
    "            else:  # Even column index\n",
    "                # Apply color if this value is the max in the even columns\n",
    "                if value == even_max:\n",
    "                    row_str += f\"\\\\cellcolor{{gray!12}}{value:.4f} & \"\n",
    "                else:\n",
    "                    row_str += f\"{value:.4f} & \"\n",
    "\n",
    "        # Remove the last '&' and add a LaTeX new line command\n",
    "        row_str = row_str.strip('& ') + \" \\\\\\\\\\n\"\n",
    "        latex_str += \"& \"+row_str\n",
    "\n",
    "    return latex_str\n",
    "\n",
    "def format_latex_with_color_v2(df):\n",
    "    latex_str = \"\"\n",
    "    for index, row in df.iterrows():\n",
    "        # Separate odd and even indexed columns and find max for each category\n",
    "        odd_max = row.iloc[::2].max()  # max for odd columns in the current row\n",
    "        even_max = row.iloc[1::2].max()  # max for even columns in the current row\n",
    "\n",
    "        row_str = \"& \"\n",
    "        for i, value in enumerate(row):\n",
    "            print(i)\n",
    "            # Check if current column is odd or even\n",
    "            if i % 2 == 0:  # Odd column index\n",
    "                # Apply color if this value is the max in the odd columns\n",
    "                if value == odd_max:\n",
    "                    row_str += f\"\\\\cellcolor{{gray!12}}{value:.4f} & \"\n",
    "                else:\n",
    "                    row_str += f\"{value:.4f} & \"\n",
    "            else:  # Even column index\n",
    "                # Apply color if this value is the max in the even columns\n",
    "                if value == even_max:\n",
    "                    row_str += f\"\\\\cellcolor{{gray!12}}{value:.4f} & \"\n",
    "                else:\n",
    "                    row_str += f\"{value:.4f} & \"\n",
    "\n",
    "        # Remove the last '&' and add a LaTeX new line command\n",
    "        row_str = row_str.strip('& ') + \" \\\\\\\\\\n\"\n",
    "        latex_str += \"& \"+row_str\n",
    "\n",
    "    return latex_str\n",
    "\n",
    "def format_latex_with_min_highlight(df):\n",
    "    latex_str = \"\"\n",
    "    for index, row in df.iterrows():\n",
    "        min_val = row.max()\n",
    "        row_str = \"& \"\n",
    "        for value in row:\n",
    "            if value == min_val:\n",
    "                row_str += f\"\\\\cellcolor{{purple!6}}{value:.4f} & \"\n",
    "            else:\n",
    "                row_str += f\"{value:.4f} & \"\n",
    "        \n",
    "        # Remove the last '&' and add a LaTeX new line command\n",
    "        row_str = row_str.strip('& ') + \" \\\\\\\\\\n\"\n",
    "        latex_str += '& ' + row_str\n",
    "\n",
    "    return latex_str"
   ]
  },
  {
   "cell_type": "code",
   "execution_count": 105,
   "id": "a0287520",
   "metadata": {},
   "outputs": [],
   "source": [
    "for index, row in df_all.iterrows():\n",
    "    # Separate odd and even indexed columns and find max for each category\n",
    "    odd_max = row.iloc[::2]  # max for odd columns in the current row\n",
    "    even_max = row.iloc[1::2]  # max for even columns in the current row\n"
   ]
  },
  {
   "cell_type": "code",
   "execution_count": 106,
   "id": "2fc23248",
   "metadata": {},
   "outputs": [
    {
     "data": {
      "text/plain": [
       "array([0.5455, 0.4929, 0.7317, 0.6149, 0.6403, 0.6074])"
      ]
     },
     "execution_count": 106,
     "metadata": {},
     "output_type": "execute_result"
    }
   ],
   "source": [
    "odd_max.values\n",
    "    "
   ]
  },
  {
   "cell_type": "code",
   "execution_count": 107,
   "id": "cfdfee0b",
   "metadata": {},
   "outputs": [
    {
     "name": "stdout",
     "output_type": "stream",
     "text": [
      "& 0.4570 & 0.4265 & 0.4992 & 0.4875 & \\cellcolor{purple!6}0.8385 & 0.7237 \\\\\n",
      "& 0.5331 & 0.3596 & 0.5140 & 0.4888 & \\cellcolor{purple!6}0.6455 & 0.4831 \\\\\n",
      "& 0.4460 & 0.5464 & 0.5548 & 0.5246 & \\cellcolor{purple!6}0.6382 & 0.5594 \\\\\n",
      "& 0.4821 & 0.5988 & 0.5094 & 0.5125 & \\cellcolor{purple!6}0.8470 & 0.5948 \\\\\n",
      "& 0.4410 & 0.4352 & 0.4388 & 0.4481 & 0.5274 & \\cellcolor{purple!6}0.5723 \\\\\n",
      "& 0.5220 & 0.6303 & 0.5347 & 0.4939 & 0.6186 & \\cellcolor{purple!6}0.6786 \\\\\n",
      "& 0.6100 & 0.7254 & 0.6877 & 0.6044 & \\cellcolor{purple!6}0.7722 & 0.6825 \\\\\n",
      "& 0.5238 & 0.4707 & 0.4488 & 0.4222 & 0.5606 & \\cellcolor{purple!6}0.6804 \\\\\n",
      "& 0.4203 & 0.5032 & 0.4077 & 0.4127 & 0.4014 & \\cellcolor{purple!6}0.7338 \\\\\n",
      "& 0.4545 & 0.6379 & 0.3394 & 0.3436 & 0.6053 & \\cellcolor{purple!6}0.7335 \\\\\n",
      "\n"
     ]
    }
   ],
   "source": [
    "# a = format_latex_with_color_v2(df_all)\n",
    "a = format_latex_with_min_highlight(df_all_uq)\n",
    "print(a)"
   ]
  },
  {
   "cell_type": "code",
   "execution_count": null,
   "id": "aaa359ba",
   "metadata": {},
   "outputs": [],
   "source": []
  },
  {
   "cell_type": "code",
   "execution_count": null,
   "id": "8f965db6",
   "metadata": {},
   "outputs": [],
   "source": []
  }
 ],
 "metadata": {
  "kernelspec": {
   "display_name": "Python 3 (ipykernel)",
   "language": "python",
   "name": "python3"
  },
  "language_info": {
   "codemirror_mode": {
    "name": "ipython",
    "version": 3
   },
   "file_extension": ".py",
   "mimetype": "text/x-python",
   "name": "python",
   "nbconvert_exporter": "python",
   "pygments_lexer": "ipython3",
   "version": "3.8.15"
  }
 },
 "nbformat": 4,
 "nbformat_minor": 5
}
