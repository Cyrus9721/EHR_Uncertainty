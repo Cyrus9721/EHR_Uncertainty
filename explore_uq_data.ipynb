{
 "cells": [
  {
   "cell_type": "code",
   "execution_count": 1,
   "metadata": {},
   "outputs": [],
   "source": [
    "import pandas as pd\n",
    "import numpy as np\n",
    "import os\n",
    "import pickle\n",
    "\n",
    "# explore the data\n",
    "\n",
    "import argparse\n",
    "import os\n",
    "import json\n",
    "from typing import List, Tuple\n",
    "from loguru import logger\n",
    "from ehrshot.utils import LABELING_FUNCTION_2_PAPER_NAME\n",
    "import pandas as pd\n",
    "from tqdm import tqdm\n",
    "from femr.datasets import PatientDatabase\n",
    "import femr\n",
    "from datetime import datetime\n",
    "from collections import defaultdict"
   ]
  },
  {
   "cell_type": "code",
   "execution_count": 2,
   "metadata": {},
   "outputs": [],
   "source": [
    "# one line of code to configure the patient database\n",
    "def configure_database(path_to_database: str) -> PatientDatabase:\n",
    "    return PatientDatabase(path_to_database)"
   ]
  },
  {
   "cell_type": "code",
   "execution_count": 3,
   "metadata": {},
   "outputs": [],
   "source": [
    "def inspect_object(obj):\n",
    "    all_attributes = dir(obj)\n",
    "    methods = []\n",
    "    values = []\n",
    "\n",
    "    for attribute in all_attributes:\n",
    "        # Check if the attribute is callable (method)\n",
    "        if callable(getattr(obj, attribute)):\n",
    "            methods.append(attribute)\n",
    "        else:\n",
    "            values.append(attribute)\n",
    "\n",
    "    return methods, values"
   ]
  },
  {
   "cell_type": "code",
   "execution_count": 4,
   "metadata": {},
   "outputs": [
    {
     "data": {
      "text/plain": [
       "patient_id                   115973157\n",
       "prediction_time    2022-12-09 23:59:00\n",
       "value                            False\n",
       "label_type                     boolean\n",
       "Name: 0, dtype: object"
      ]
     },
     "execution_count": 4,
     "metadata": {},
     "output_type": "execute_result"
    }
   ],
   "source": [
    "df_patient_los = pd.read_csv(\"EHRSHOT_ASSETS/benchmark/guo_los/labeled_patients.csv\")\n",
    "df_patient_ice = pd.read_csv(\"EHRSHOT_ASSETS/benchmark/guo_icu/labeled_patients.csv\")\n",
    "df_patient_re_admission = pd.read_csv(\"EHRSHOT_ASSETS/benchmark/guo_readmission/labeled_patients.csv\")\n",
    "\n",
    "\n",
    "df_patient = df_patient_los\n",
    "\n",
    "database = configure_database(\"EHRSHOT_ASSETS/femr/extract\")\n",
    "\n",
    "with open('ehrshot_code_description.json', 'r') as f:\n",
    "    code_description = json.load(f)\n",
    "\n",
    "df_patient.loc[0]"
   ]
  },
  {
   "cell_type": "code",
   "execution_count": 5,
   "metadata": {},
   "outputs": [],
   "source": [
    "df_patient = df_patient_los\n",
    "patient_id = df_patient.loc[0].patient_id\n",
    "prediction_time = df_patient.loc[0].prediction_time\n",
    "prediction_label = df_patient.loc[0].value\n",
    "prediction_time_datatime_format = datetime.fromisoformat(prediction_time)"
   ]
  },
  {
   "cell_type": "code",
   "execution_count": 6,
   "metadata": {},
   "outputs": [],
   "source": [
    "array1 = df_patient_los['patient_id'].values\n",
    "array2 = df_patient_ice['patient_id'].values\n",
    "array3 = df_patient_re_admission['patient_id'].values\n",
    "intersect12 = np.intersect1d(array1, array2)\n",
    "final_intersect = np.intersect1d(intersect12, array3)"
   ]
  },
  {
   "cell_type": "code",
   "execution_count": 7,
   "metadata": {},
   "outputs": [],
   "source": [
    "intersection_df = pd.merge(df_patient_los, df_patient_ice, on=['prediction_time', 'patient_id'], how='inner')"
   ]
  },
  {
   "cell_type": "code",
   "execution_count": 8,
   "metadata": {},
   "outputs": [
    {
     "name": "stdout",
     "output_type": "stream",
     "text": [
      "154\n",
      "133\n",
      "127\n",
      "87\n"
     ]
    }
   ],
   "source": [
    "delta_list = []\n",
    "id_list = []\n",
    "admission_date_list = []\n",
    "discharge_date_list = []\n",
    "for i in range(len(intersection_df)):\n",
    "    temp_patient_id = intersection_df.loc[i].patient_id\n",
    "    temp_prediction_time = intersection_df.loc[i].prediction_time\n",
    "    if temp_patient_id in df_patient_re_admission['patient_id'].values:\n",
    "        re_admission_time = df_patient_re_admission[df_patient_re_admission['patient_id'] == temp_patient_id].prediction_time.values[0]\n",
    "        assert len(re_admission_time) == 19\n",
    "        # patient_femr_object = database[temp_p atient_id]\n",
    "        delta = datetime.fromisoformat(re_admission_time) - datetime.fromisoformat(temp_prediction_time)\n",
    "        if delta.days > 0 and delta.days < 30:\n",
    "            delta_list.append(delta.days)\n",
    "            id_list.append(temp_patient_id)\n",
    "            admission_date_list.append(temp_prediction_time)\n",
    "            discharge_date_list.append(re_admission_time)\n",
    "        elif delta.days > 80:\n",
    "            print(delta.days)"
   ]
  },
  {
   "cell_type": "code",
   "execution_count": 9,
   "metadata": {},
   "outputs": [],
   "source": [
    "df_common = pd.DataFrame([id_list, admission_date_list, discharge_date_list, delta_list]).T\n",
    "df_common = df_common.rename(columns={0: 'patient_id', 1: 'admission_date', 2: 'discharge_date', 3: 'delta_days'})\n",
    "df_common.to_csv('common_patients.csv', index=False)"
   ]
  },
  {
   "cell_type": "code",
   "execution_count": 10,
   "metadata": {},
   "outputs": [],
   "source": [
    "def describe_events(events, code_description):\n",
    "    # Organize events by code\n",
    "    grouped_events = {}\n",
    "    for event in events:\n",
    "        if event.code in grouped_events:\n",
    "            grouped_events[event.code].append(event)\n",
    "        else:\n",
    "            grouped_events[event.code] = [event]\n",
    "\n",
    "    # Mock database dictionary to translate medical codes\n",
    "\n",
    "    descriptions = []\n",
    "    for code, group in grouped_events.items():\n",
    "        # Start the description for this group\n",
    "        event_type = code_description.get(code, code)\n",
    "        times = ', '.join(set(e.start.strftime('%B %d, %Y, %H:%M') for e in group))\n",
    "        # description = f\"On {times}, {len(group)} events categorized under the code '{code}' ({event_type}) occurred.\"\n",
    "\n",
    "        # description = f\"On {times}, {len(group)} {group[0].omop_table} medical events ({event_type}) occurred.\"\n",
    "        description = f\"{len(group)} {group[0].omop_table} medical events ({event_type}) occurred.\"\n",
    "        # Check if any event in the group has a value\n",
    "        values = set(e.value for e in group if e.value is not None)\n",
    "        if values:\n",
    "            description += f\" The values recorded were: {', '.join(map(str, values))}.\"\n",
    "\n",
    "        # description += f\" These events were recorded in the '{group[0].omop_table}' table.\"\n",
    "        \n",
    "        descriptions.append(description)\n",
    "    \n",
    "    # Combine all descriptions into a single paragraph\n",
    "    return ' \\n'.join(descriptions)\n",
    "\n",
    "def add_patient_age(prediction_time_datatime_forma, database, patient_id, text, task = 'admission'):\n",
    "    time_lap = prediction_time_datatime_format.date() - database.get_patient_birth_date(patient_id)\n",
    "    patient_age = time_lap.days // 365\n",
    "    date = prediction_time_datatime_format.date().strftime('%B %d, %Y')\n",
    "    return f\"The patient was {patient_age} years old.\\nIn {date}, at the time of the {task}:\\n\" + text"
   ]
  },
  {
   "cell_type": "code",
   "execution_count": 11,
   "metadata": {},
   "outputs": [
    {
     "name": "stderr",
     "output_type": "stream",
     "text": [
      "100%|██████████| 3268/3268 [01:07<00:00, 48.53it/s]\n"
     ]
    }
   ],
   "source": [
    "description_list = []\n",
    "for i in tqdm(range(len(df_common))):\n",
    "    patient_id = df_common.loc[i].patient_id\n",
    "    prediction_time = df_common.loc[i].admission_date\n",
    "    discharge_time = df_common.loc[i].discharge_date\n",
    "    discharge_time = datetime.fromisoformat(discharge_time)\n",
    "    prediction_time = datetime.fromisoformat(prediction_time)\n",
    "    patient_femr_object = database[patient_id]\n",
    "    assert patient_id == patient_femr_object.patient_id\n",
    "    patient_events = patient_femr_object.events\n",
    "\n",
    "    event_start_time = []\n",
    "    all_event = []\n",
    "\n",
    "    for e in patient_events:\n",
    "        elif (discharge_time - time_start).days > 0 and time_start > prediction_time:\n",
    "            all_event.append(e)\n",
    "    description = describe_events(all_event, code_description)\n",
    "    description = add_patient_age(prediction_time, database, patient_id, description)\n",
    "    description_list.append(description)"
   ]
  },
  {
   "cell_type": "code",
   "execution_count": 12,
   "metadata": {},
   "outputs": [],
   "source": [
    "df_common['description'] = description_list\n",
    "df_common.to_csv('common_patients_description.csv', index=False)"
   ]
  },
  {
   "cell_type": "code",
   "execution_count": 13,
   "metadata": {},
   "outputs": [],
   "source": [
    "import re\n",
    "_re_word_boundaries = re.compile(r'\\b')\n",
    "\n",
    "def num_words(line):\n",
    "    return len(_re_word_boundaries.findall(line)) >> 1"
   ]
  },
  {
   "cell_type": "code",
   "execution_count": 14,
   "metadata": {},
   "outputs": [],
   "source": [
    "import pandas as pd\n",
    "import nltk\n",
    "df = pd.read_csv(\"common_patients_description.csv\")\n",
    "token_list = []\n",
    "for i in range(len(df)):\n",
    "    words = df['description'][i]\n",
    "    token_list.append(num_words(words))\n",
    "# nltk.word_tokenize(df['description'][0])"
   ]
  },
  {
   "cell_type": "code",
   "execution_count": 35,
   "metadata": {},
   "outputs": [],
   "source": [
    "for i in final_intersect:\n",
    "    temp_df_1 = intersection_df[intersection_df['patient_id'] == i]\n",
    "    temp_df_2 = df_patient_re_admission[df_patient_re_admission['patient_id'] == i]"
   ]
  },
  {
   "cell_type": "code",
   "execution_count": 15,
   "metadata": {},
   "outputs": [
    {
     "data": {
      "image/png": "[encoded data removed]",
      "text/plain": [
       "<Figure size 640x480 with 1 Axes>"
      ]
     },
     "metadata": {},
     "output_type": "display_data"
    }
   ],
   "source": [
    "import numpy as np\n",
    "import matplotlib.pyplot as plt\n",
    "\n",
    "# Example array of data\n",
    "data = token_list\n",
    "\n",
    "# Plotting the histogram\n",
    "plt.hist(data, bins='auto')  # 'auto' lets matplotlib decide the number of bins\n",
    "plt.title('Histogram of Data')\n",
    "plt.xlabel('Value')\n",
    "plt.ylabel('Frequency')\n",
    "plt.show()"
   ]
  },
  {
   "cell_type": "code",
   "execution_count": 37,
   "metadata": {},
   "outputs": [
    {
     "data": {
      "text/html": [
       "<div>\n",
       "<style scoped>\n",
       "    .dataframe tbody tr th:only-of-type {\n",
       "        vertical-align: middle;\n",
       "    }\n",
       "\n",
       "    .dataframe tbody tr th {\n",
       "        vertical-align: top;\n",
       "    }\n",
       "\n",
       "    .dataframe thead th {\n",
       "        text-align: right;\n",
       "    }\n",
       "</style>\n",
       "<table border=\"1\" class=\"dataframe\">\n",
       "  <thead>\n",
       "    <tr style=\"text-align: right;\">\n",
       "      <th></th>\n",
       "      <th>patient_id</th>\n",
       "      <th>prediction_time</th>\n",
       "      <th>value</th>\n",
       "      <th>label_type</th>\n",
       "    </tr>\n",
       "  </thead>\n",
       "  <tbody>\n",
       "    <tr>\n",
       "      <th>214</th>\n",
       "      <td>121124990</td>\n",
       "      <td>2018-03-23 23:59:00</td>\n",
       "      <td>False</td>\n",
       "      <td>boolean</td>\n",
       "    </tr>\n",
       "  </tbody>\n",
       "</table>\n",
       "</div>"
      ],
      "text/plain": [
       "     patient_id      prediction_time  value label_type\n",
       "214   121124990  2018-03-23 23:59:00  False    boolean"
      ]
     },
     "execution_count": 37,
     "metadata": {},
     "output_type": "execute_result"
    }
   ],
   "source": [
    "temp_df_2"
   ]
  },
  {
   "cell_type": "code",
   "execution_count": 13,
   "metadata": {},
   "outputs": [
    {
     "name": "stdout",
     "output_type": "stream",
     "text": [
      "Event(start=2022-12-09 23:59:00, code=Visit/IP, value=None, =474, end=2022-12-09 23:59:00, visit_id=214453889.0, omop_table=visit_occurrence)\n",
      "Event(start=2022-12-09 23:59:00, code=SNOMED/34139004, value=None, =112951, end=2022-12-09 23:59:00, omop_table=condition_occurrence)\n",
      "Event(start=2022-12-09 23:59:00, code=CPT4/00670, value=None, =3737, visit_id=214436067.0, omop_table=procedure_occurrence)\n",
      "Event(start=2022-12-09 23:59:00, code=CPT4/36415, value=None, =5193, visit_id=214427186.0, omop_table=procedure_occurrence)\n",
      "Event(start=2022-12-09 23:59:00, code=CPT4/36620, value=None, =5791, visit_id=214436067.0, omop_table=procedure_occurrence)\n",
      "Event(start=2022-12-09 23:59:00, code=CPT4/86850, value=None, =12969, visit_id=214427186.0, omop_table=procedure_occurrence)\n",
      "Event(start=2022-12-09 23:59:00, code=CPT4/86900, value=None, =13325, visit_id=214427186.0, omop_table=procedure_occurrence)\n",
      "Event(start=2022-12-09 23:59:00, code=CPT4/86901, value=None, =13469, visit_id=214427186.0, omop_table=procedure_occurrence)\n",
      "Event(start=2022-12-09 23:59:00, code=ICD10PCS/01NB0ZZ, value=None, =125310, visit_id=214427186.0, omop_table=procedure_occurrence)\n",
      "Event(start=2022-12-09 23:59:00, code=ICD10PCS/07DR3ZZ, value=None, =126132, omop_table=procedure_occurrence)\n",
      "Event(start=2022-12-09 23:59:00, code=ICD10PCS/0SB40ZZ, value=None, =125640, omop_table=procedure_occurrence)\n",
      "Event(start=2022-12-09 23:59:00, code=ICD10PCS/0SG30A0, value=None, =125175, omop_table=procedure_occurrence)\n",
      "Event(start=2022-12-09 23:59:00, code=LOINC/8663-7, value=None, =32741, visit_id=214405330.0, omop_table=observation)\n",
      "Event(start=2022-12-09 23:59:00, code=LOINC/8663-7, value=0.5, =195989, visit_id=214405330.0, omop_table=observation)\n",
      "Event(start=2022-12-09 23:59:00, code=SNOMED/110483000, value=None, =133368, visit_id=214405330.0, omop_table=observation)\n",
      "Event(start=2022-12-09 23:59:00, code=SNOMED/228490006, value=N, =173080, visit_id=214405330.0, omop_table=observation)\n",
      "Event(start=2022-12-09 23:59:00, code=SNOMED/228510007, value=N, =175933, visit_id=214405330.0, omop_table=observation)\n",
      "Event(start=2022-12-09 23:59:00, code=SNOMED/230056004, value=None, =139187, visit_id=214405330.0, omop_table=observation)\n",
      "Event(start=2022-12-09 23:59:00, code=SNOMED/230058003, value=N, =180711, visit_id=214405330.0, omop_table=observation)\n",
      "Event(start=2022-12-09 23:59:00, code=SNOMED/230057008, value=N, =179654, visit_id=214405330.0, omop_table=observation)\n",
      "Event(start=2022-12-09 23:59:00, code=SNOMED/417662000, value=None, =147904, visit_id=214405330.0, omop_table=observation)\n",
      "Event(start=2022-12-09 23:59:00, code=SNOMED/713914004, value=None, =153971, visit_id=214405330.0, omop_table=observation)\n",
      "Event(start=2022-12-09 23:59:00, code=Medicare Specialty/A0, value=None, =167049, end=2022-12-09 23:59:00, visit_id=214405330.0, omop_table=visit_occurrence)\n",
      "Event(start=2022-12-09 23:59:00, code=LOINC/67741-9, value=2.0, =208990, visit_id=214405330.0, omop_table=observation)\n",
      "Event(start=2022-12-09 23:59:00, code=LOINC/72166-2, value=None, =72521, visit_id=214405330.0, omop_table=observation)\n"
     ]
    }
   ],
   "source": [
    "patient_femr_object = database[patient_id]\n",
    "assert patient_id == patient_femr_object.patient_id\n",
    "patient_events = patient_femr_object.events\n",
    "\n",
    "event_start_time = []\n",
    "all_event = []\n",
    "\n",
    "for e in patient_events:\n",
    "    time_start = e.start\n",
    "    if time_start == prediction_time_datatime_format:\n",
    "        event_start_time.append(time_start)\n",
    "        all_event.append(e)\n",
    "        print(e)"
   ]
  }
 ],
 "metadata": {
  "kernelspec": {
   "display_name": "EHRSHOT_ENV",
   "language": "python",
   "name": "python3"
  },
  "language_info": {
   "codemirror_mode": {
    "name": "ipython",
    "version": 3
   },
   "file_extension": ".py",
   "mimetype": "text/x-python",
   "name": "python",
   "nbconvert_exporter": "python",
   "pygments_lexer": "ipython3",
   "version": "3.10.14"
  }
 },
 "nbformat": 4,
 "nbformat_minor": 2
}
