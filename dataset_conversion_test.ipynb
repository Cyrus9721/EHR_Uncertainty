{
 "cells": [
  {
   "cell_type": "code",
   "execution_count": 1,
   "metadata": {},
   "outputs": [],
   "source": [
    "import argparse\n",
    "import collections\n",
    "import datetime\n",
    "import functools\n",
    "import json\n",
    "import logging\n",
    "import os\n",
    "import pickle\n",
    "import random\n",
    "from typing import Any, List, Tuple, TypeVar\n",
    "\n",
    "import haiku as hk\n",
    "import jax\n",
    "import jax.numpy as jnp\n",
    "import jmp\n",
    "import msgpack\n",
    "import numpy as np\n",
    "import pandas as pd\n",
    "import optax\n",
    "import sklearn.metrics\n",
    "\n",
    "import femr.datasets\n",
    "import femr.extension.dataloader\n",
    "import femr.models.dataloader\n",
    "import femr.models.transformer\n",
    "from femr.models.transformer import TransformerFeaturizer\n",
    "T = TypeVar(\"T\")"
   ]
  },
  {
   "cell_type": "code",
   "execution_count": 2,
   "metadata": {},
   "outputs": [],
   "source": [
    "batch_info_path = 'EHRSHOT_ASSETS/features/clmbr_batches/batch_info.msgpack'\n",
    "loader_config_path = 'EHRSHOT_ASSETS/features/clmbr_batches/loader_config.msgpack'\n",
    "batches_path = 'EHRSHOT_ASSETS/features/clmbr_batches/'\n",
    "data_path = 'EHRSHOT_ASSETS/femr/extract/'\n",
    "model_dir = 'EHRSHOT_ASSETS/models/clmbr/clmbr_model/'"
   ]
  },
  {
   "cell_type": "code",
   "execution_count": 3,
   "metadata": {},
   "outputs": [
    {
     "name": "stdout",
     "output_type": "stream",
     "text": [
      "When mapping codes, dropped 4736 out of 39811\n"
     ]
    }
   ],
   "source": [
    "with open(os.path.join(model_dir, \"config.msgpack\"), \"rb\") as f:\n",
    "    config = msgpack.load(f, use_list=False)\n",
    "# random.seed(config[\"seed\"])\n",
    "random.seed(9721)\n",
    "config = hk.data_structures.to_immutable_dict(config)\n",
    "batch_info_path = os.path.join(batches_path, \"batch_info.msgpack\")\n",
    "\n",
    "with open(batch_info_path, \"rb\") as f:\n",
    "    batch_info = msgpack.load(f, use_list=False)\n",
    "\n",
    "patient_labels = collections.defaultdict(list)\n",
    "\n",
    "for pid, age, label in batch_info[\"config\"][\"task\"][\"labels\"]:\n",
    "    patient_labels[pid].append((age, label))\n",
    "\n",
    "loader = femr.extension.dataloader.BatchLoader(data_path, batch_info_path)\n",
    "\n",
    "def model_fn(config, batch):\n",
    "    model = femr.models.transformer.EHRTransformer(config)(batch, no_task=True)\n",
    "    return model"
   ]
  },
  {
   "cell_type": "code",
   "execution_count": 4,
   "metadata": {},
   "outputs": [],
   "source": [
    "rng = jax.random.PRNGKey(42)\n",
    "model = hk.transform(model_fn)\n",
    "\n",
    "with open(os.path.join(model_dir, \"best\"), \"rb\") as f:\n",
    "    params = pickle.load(f)\n",
    "\n",
    "@functools.partial(jax.jit, static_argnames=\"config\")\n",
    "def compute_repr(params, rng, config, batch):\n",
    "    return model.apply(params, rng, config, batch)\n",
    "\n",
    "database = femr.datasets.PatientDatabase(data_path)\n",
    "results = collections.defaultdict(list)"
   ]
  },
  {
   "cell_type": "code",
   "execution_count": 5,
   "metadata": {},
   "outputs": [
    {
     "name": "stdout",
     "output_type": "stream",
     "text": [
      "Compiling the transformer ... (131072,) (4096,)\n",
      "WITHOUT AGE\n"
     ]
    }
   ],
   "source": [
    "split = 'train'\n",
    "dev_index = 0\n",
    "# for dev_index in range(loader.get_number_of_batches(split)):\n",
    "raw_batch = loader.get_batch(split, dev_index)\n",
    "batch = jax.tree_map(lambda a: jnp.array(a), raw_batch)\n",
    "\n",
    "repr, mask = compute_repr(\n",
    "        femr.models.transformer.convert_params(params, dtype=jnp.float16),\n",
    "        rng,\n",
    "        config,\n",
    "        batch,\n",
    "    )\n",
    "\n",
    "repr = np.array(repr)\n",
    "\n",
    "p_index = batch[\"transformer\"][\"label_indices\"] // batch[\"transformer\"][\"length\"]\n",
    "\n",
    "for i in range(batch[\"num_indices\"]):\n",
    "    r = repr[i, :]\n",
    "\n",
    "    label_pid = raw_batch[\"patient_ids\"][p_index[i]]\n",
    "    label_age = raw_batch[\"task\"][\"label_ages\"][i]\n",
    "\n",
    "    offset = raw_batch[\"offsets\"][p_index[i]]\n",
    "    results[label_pid].append((label_age, offset, r))"
   ]
  },
  {
   "cell_type": "code",
   "execution_count": null,
   "metadata": {},
   "outputs": [],
   "source": []
  },
  {
   "cell_type": "code",
   "execution_count": null,
   "metadata": {},
   "outputs": [],
   "source": []
  },
  {
   "cell_type": "code",
   "execution_count": 7,
   "metadata": {},
   "outputs": [
    {
     "data": {
      "text/plain": [
       "Array(1334, dtype=int32, weak_type=True)"
      ]
     },
     "execution_count": 7,
     "metadata": {},
     "output_type": "execute_result"
    }
   ],
   "source": [
    "batch['num_indices']"
   ]
  },
  {
   "cell_type": "code",
   "execution_count": null,
   "metadata": {},
   "outputs": [],
   "source": []
  },
  {
   "cell_type": "code",
   "execution_count": 8,
   "metadata": {},
   "outputs": [
    {
     "data": {
      "text/plain": [
       "Array([     3,     64,    224, ..., 131072, 131072, 131072], dtype=uint32)"
      ]
     },
     "execution_count": 8,
     "metadata": {},
     "output_type": "execute_result"
    }
   ],
   "source": [
    "batch[\"transformer\"][\"label_indices\"]"
   ]
  },
  {
   "cell_type": "code",
   "execution_count": 9,
   "metadata": {},
   "outputs": [
    {
     "data": {
      "text/plain": [
       "''"
      ]
     },
     "execution_count": 9,
     "metadata": {},
     "output_type": "execute_result"
    }
   ],
   "source": [
    "os.path.dirname('TransformerFeaturizer')"
   ]
  },
  {
   "cell_type": "code",
   "execution_count": 10,
   "metadata": {},
   "outputs": [
    {
     "name": "stdout",
     "output_type": "stream",
     "text": [
      "Function is defined in: /home/ubuntu/anaconda3/envs/EHRSHOT_ENV/lib/python3.10/site-packages/femr/models/transformer.py\n"
     ]
    }
   ],
   "source": [
    "import inspect\n",
    "file_path = inspect.getfile(TransformerFeaturizer)\n",
    "print(\"Function is defined in:\", file_path)"
   ]
  },
  {
   "cell_type": "code",
   "execution_count": 11,
   "metadata": {},
   "outputs": [
    {
     "data": {
      "text/plain": [
       "Array(1334, dtype=int32, weak_type=True)"
      ]
     },
     "execution_count": 11,
     "metadata": {},
     "output_type": "execute_result"
    }
   ],
   "source": [
    "batch[\"num_indices\"]"
   ]
  },
  {
   "cell_type": "code",
   "execution_count": 12,
   "metadata": {},
   "outputs": [
    {
     "data": {
      "text/plain": [
       "{'ages': Array([0.        , 0.99930555, 0.99930555, ..., 0.        , 0.        ,\n",
       "        0.        ], dtype=float32),\n",
       " 'label_indices': Array([     3,     64,    224, ..., 131072, 131072, 131072], dtype=uint32),\n",
       " 'length': Array(32768, dtype=int32, weak_type=True),\n",
       " 'normalized_ages': Array([-1.3069556, -1.3069555, -1.3069555, ...,  0.       ,  0.       ,\n",
       "         0.       ], dtype=float32),\n",
       " 'tokens': Array([ 0,  3, 21, ...,  0,  0,  0], dtype=uint32),\n",
       " 'valid_tokens': Array([ True,  True,  True, ..., False, False, False], dtype=bool)}"
      ]
     },
     "execution_count": 12,
     "metadata": {},
     "output_type": "execute_result"
    }
   ],
   "source": [
    "batch['transformer']"
   ]
  },
  {
   "cell_type": "code",
   "execution_count": 13,
   "metadata": {},
   "outputs": [],
   "source": [
    "config.get(\"note_embedding_data\")"
   ]
  },
  {
   "cell_type": "code",
   "execution_count": 14,
   "metadata": {},
   "outputs": [
    {
     "data": {
      "text/plain": [
       "Array([   3,   64,  224,  357,  575,  679,  830,  834,  947, 1009, 1034,\n",
       "       1053, 1232, 1253, 1333, 1398, 1440, 1451, 1532, 1598, 1729, 1878,\n",
       "       2039, 2099, 2144, 2173, 2214, 2267, 2293, 2339, 2400, 2463, 2529,\n",
       "       2672, 2755, 2796, 2910, 3001, 3106, 3196, 3204, 3306, 3392, 3497,\n",
       "       3582, 3663, 3731, 3823, 3904, 3938, 4018, 4106, 4185, 4257, 4353,\n",
       "       4407, 4427, 4512, 4594, 4673, 4737, 4819, 4838, 4944, 4951, 5010,\n",
       "       5073, 5161, 5283, 5303, 5455, 5565, 5651, 5726, 5738, 5831, 5954,\n",
       "       5992, 6293, 6334, 6414, 6549, 6654, 6698, 6770, 6821, 6831, 6866,\n",
       "       6920, 6999, 7115, 7301, 7406, 7422, 7485, 7501, 7576, 7662, 7716,\n",
       "       7771], dtype=uint32)"
      ]
     },
     "execution_count": 14,
     "metadata": {},
     "output_type": "execute_result"
    }
   ],
   "source": [
    "batch['transformer']['label_indices'][0:100]"
   ]
  },
  {
   "cell_type": "code",
   "execution_count": 15,
   "metadata": {},
   "outputs": [
    {
     "data": {
      "text/plain": [
       "Array([-1.3069556, -1.3069555, -1.3069555, -1.3069555, -1.3056909,\n",
       "       -1.3056909, -1.3056909, -1.3056909, -1.3056909, -1.3056909,\n",
       "       -1.3056909, -1.3056278, -1.3056278, -1.3056278, -1.3056278,\n",
       "       -1.3056278, -1.3056278, -1.3056278, -1.3056278, -1.3056275,\n",
       "       -1.3056275, -1.3056275, -1.3056275, -1.3056275, -1.3056275,\n",
       "       -1.3056275, -1.3056275, -1.3056275, -1.3056275, -1.3056275,\n",
       "       -1.3056275, -1.3056275, -1.3056275, -1.3056275, -1.3056275,\n",
       "       -1.3056275, -1.3056275, -1.3056275, -1.3056275, -1.3056275,\n",
       "       -1.3056275, -1.3056275, -1.3056275, -1.3056275, -1.3056275,\n",
       "       -1.3056275, -1.3056275, -1.3056275, -1.3056275, -1.3056275,\n",
       "       -1.3056275, -1.3056275, -1.3056275, -1.3056275, -1.3056275,\n",
       "       -1.3056272, -1.3056272, -1.3056272, -1.3056272, -1.3056272,\n",
       "       -1.3056272, -1.3056272, -1.3056272, -1.3056272, -1.3056272,\n",
       "       -1.305626 , -1.305626 , -1.305626 , -1.305626 , -1.305626 ,\n",
       "       -1.305626 , -1.305626 , -1.305626 , -1.305626 , -1.305626 ,\n",
       "       -1.305626 , -1.305626 , -1.305626 , -1.305626 , -1.305626 ,\n",
       "       -1.305626 , -1.305626 , -1.305626 , -1.305626 , -1.305626 ,\n",
       "       -1.305626 , -1.305626 , -1.305626 , -1.305626 , -1.305626 ,\n",
       "       -1.305626 , -1.305626 , -1.305626 , -1.305626 , -1.305626 ,\n",
       "       -1.305626 , -1.305626 , -1.305626 , -1.305626 , -1.305626 ],      dtype=float32)"
      ]
     },
     "execution_count": 15,
     "metadata": {},
     "output_type": "execute_result"
    }
   ],
   "source": [
    "batch['transformer']['normalized_ages'][0:100]"
   ]
  }
 ],
 "metadata": {
  "kernelspec": {
   "display_name": "EHRSHOT_ENV",
   "language": "python",
   "name": "python3"
  },
  "language_info": {
   "codemirror_mode": {
    "name": "ipython",
    "version": 3
   },
   "file_extension": ".py",
   "mimetype": "text/x-python",
   "name": "python",
   "nbconvert_exporter": "python",
   "pygments_lexer": "ipython3",
   "version": "3.10.14"
  }
 },
 "nbformat": 4,
 "nbformat_minor": 2
}
