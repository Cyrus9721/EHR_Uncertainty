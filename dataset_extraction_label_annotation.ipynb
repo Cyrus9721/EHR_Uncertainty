{
 "cells": [
  {
   "cell_type": "code",
   "execution_count": 7,
   "metadata": {},
   "outputs": [],
   "source": [
    "import pandas as pd\n",
    "import numpy as np\n",
    "import os\n",
    "import json\n",
    "from femr.datasets import PatientDatabase\n",
    "import datetime\n",
    "from tqdm import tqdm"
   ]
  },
  {
   "cell_type": "code",
   "execution_count": 8,
   "metadata": {},
   "outputs": [],
   "source": [
    "task_name_list =[\n",
    "    \"guo_los\",\n",
    "    \"guo_readmission\",\n",
    "    \"guo_icu\",\n",
    "    \"new_hypertension\",\n",
    "    \"new_hyperlipidemia\",\n",
    "    \"new_pancan\",\n",
    "    \"new_celiac\",\n",
    "    \"new_lupus\",\n",
    "    \"new_acutemi\",\n",
    "    \"lab_thrombocytopenia\",\n",
    "    \"lab_hyperkalemia\",\n",
    "    \"lab_hyponatremia\",\n",
    "    \"lab_anemia\",\n",
    "    \"lab_hypoglycemia\"\n",
    "]"
   ]
  },
  {
   "cell_type": "code",
   "execution_count": 9,
   "metadata": {},
   "outputs": [],
   "source": [
    "# df_labels = pd.read_csv('EHRSHOT_ASSETS/benchmark/lab_anemia/labeled_patients.csv')\n",
    "# df_labels"
   ]
  },
  {
   "cell_type": "code",
   "execution_count": 10,
   "metadata": {},
   "outputs": [],
   "source": [
    "def find_time_indices(patient_label_time_list, patient_all_time_list):\n",
    "    results = []\n",
    "    all_index = 0\n",
    "    for label_time in patient_label_time_list:\n",
    "        while all_index < len(patient_all_time_list) and patient_all_time_list[all_index] <= label_time:\n",
    "            all_index += 1\n",
    "        if all_index > 0:\n",
    "            results.append(all_index - 1)\n",
    "        else:\n",
    "            raise ValueError(\"No time found\")\n",
    "        \n",
    "    return results"
   ]
  },
  {
   "cell_type": "code",
   "execution_count": 11,
   "metadata": {},
   "outputs": [],
   "source": [
    "def extract_patient_labels_index_by_task(patient_info_dir = 'new_femr_dataset/patient_info/', task_dir = 'EHRSHOT_ASSETS/benchmark/lab_anemia/', task_label_file = 'labeled_patients.csv'):\n",
    "    df_labels = pd.read_csv(os.path.join(task_dir, task_label_file))\n",
    "    patient_id_list = df_labels['patient_id'].unique()\n",
    "\n",
    "    label_index_list = []\n",
    "\n",
    "    for patient_id in tqdm(patient_id_list):\n",
    "        patient_json_name = str(patient_id) + '.json'\n",
    "        with open(patient_info_dir + patient_json_name) as f:\n",
    "            patient_info = json.load(f)\n",
    "\n",
    "        df_label_patient = df_labels[df_labels['patient_id'] == patient_id]\n",
    "\n",
    "        patient_label_time_list = [datetime.datetime.fromisoformat(date) for date in df_label_patient['prediction_time'].values]\n",
    "\n",
    "        patient_label_value_list = df_label_patient['value'].values\n",
    "\n",
    "        assert len(patient_info['medical_tokens']) == len(patient_info['time_tokens'])\n",
    "\n",
    "        patient_all_time_list = [datetime.datetime.fromisoformat(date) for date in patient_info['time_tokens']]\n",
    "\n",
    "        label_index = find_time_indices(patient_label_time_list, patient_all_time_list)\n",
    "\n",
    "        assert len(label_index) == len(patient_label_value_list)\n",
    "\n",
    "        label_index_list.extend(label_index)\n",
    "\n",
    "    df_labels_extracted = df_labels.copy()\n",
    "    df_labels_extracted['index'] = label_index_list\n",
    "\n",
    "    return df_labels_extracted"
   ]
  },
  {
   "cell_type": "code",
   "execution_count": 12,
   "metadata": {},
   "outputs": [
    {
     "name": "stderr",
     "output_type": "stream",
     "text": [
      "100%|██████████| 3855/3855 [00:14<00:00, 266.69it/s]\n",
      "100%|██████████| 3718/3718 [00:14<00:00, 252.82it/s]\n",
      "100%|██████████| 3617/3617 [00:13<00:00, 269.48it/s]\n",
      "100%|██████████| 2328/2328 [00:07<00:00, 308.87it/s]\n",
      "100%|██████████| 2650/2650 [00:09<00:00, 290.88it/s]\n",
      "100%|██████████| 3864/3864 [00:14<00:00, 260.64it/s]\n",
      "100%|██████████| 3899/3899 [00:14<00:00, 261.34it/s]\n",
      "100%|██████████| 3864/3864 [00:14<00:00, 264.44it/s]\n",
      "100%|██████████| 3834/3834 [00:14<00:00, 267.02it/s]\n",
      "100%|██████████| 6063/6063 [00:18<00:00, 320.63it/s]\n",
      "100%|██████████| 5931/5931 [00:19<00:00, 310.84it/s]\n",
      "100%|██████████| 5921/5921 [00:19<00:00, 311.34it/s]\n",
      "100%|██████████| 6086/6086 [00:19<00:00, 318.72it/s]\n",
      "100%|██████████| 5974/5974 [00:19<00:00, 303.98it/s]\n",
      "100%|██████████| 14/14 [03:36<00:00, 15.47s/it]\n"
     ]
    }
   ],
   "source": [
    "labeled_dir = 'EHRSHOT_ASSETS/benchmark/'\n",
    "out_dir = 'new_femr_dataset/patient_label/'\n",
    "task_label_file = 'labeled_patients.csv'\n",
    "for task in tqdm(task_name_list):\n",
    "    task_dir = os.path.join(labeled_dir, task)\n",
    "    df_task = extract_patient_labels_index_by_task(patient_info_dir = 'new_femr_dataset/patient_info/', task_dir = task_dir, task_label_file = task_label_file)\n",
    "    df_task.to_csv(os.path.join(out_dir, task + '.csv'), index = False)"
   ]
  },
  {
   "cell_type": "code",
   "execution_count": 13,
   "metadata": {},
   "outputs": [
    {
     "data": {
      "text/plain": [
       "'EHRSHOT_ASSETS/benchmark/lab_hypoglycemia'"
      ]
     },
     "execution_count": 13,
     "metadata": {},
     "output_type": "execute_result"
    }
   ],
   "source": [
    "task_dir"
   ]
  },
  {
   "cell_type": "code",
   "execution_count": null,
   "metadata": {},
   "outputs": [],
   "source": []
  },
  {
   "cell_type": "code",
   "execution_count": null,
   "metadata": {},
   "outputs": [
    {
     "data": {
      "text/plain": [
       "datetime.datetime(1951, 2, 21, 23, 59)"
      ]
     },
     "execution_count": 61,
     "metadata": {},
     "output_type": "execute_result"
    }
   ],
   "source": [
    "patient_info['time_tokens'][0]\n",
    "datetime.datetime.fromisoformat(patient_info['time_tokens'][0])"
   ]
  }
 ],
 "metadata": {
  "kernelspec": {
   "display_name": "EHRSHOT_ENV",
   "language": "python",
   "name": "python3"
  },
  "language_info": {
   "codemirror_mode": {
    "name": "ipython",
    "version": 3
   },
   "file_extension": ".py",
   "mimetype": "text/x-python",
   "name": "python",
   "nbconvert_exporter": "python",
   "pygments_lexer": "ipython3",
   "version": "3.10.14"
  }
 },
 "nbformat": 4,
 "nbformat_minor": 2
}
