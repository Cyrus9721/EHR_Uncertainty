{
 "cells": [
  {
   "cell_type": "code",
   "execution_count": 23,
   "metadata": {},
   "outputs": [],
   "source": [
    "import pandas as pd\n",
    "import numpy as np\n",
    "import os\n",
    "\n",
    "np.random.seed(42)  # For reproducibility"
   ]
  },
  {
   "cell_type": "code",
   "execution_count": 24,
   "metadata": {},
   "outputs": [
    {
     "name": "stderr",
     "output_type": "stream",
     "text": [
      "[nltk_data] Downloading package punkt to /home/ubuntu/nltk_data...\n",
      "[nltk_data]   Package punkt is already up-to-date!\n"
     ]
    }
   ],
   "source": [
    "import nltk\n",
    "from nltk.tokenize import word_tokenize\n",
    "\n",
    "# Ensure the necessary NLTK resources are downloaded\n",
    "nltk.download('punkt')\n",
    "\n",
    "def count_tokens_nltk(sentence):\n",
    "    # Tokenize the sentence into words including punctuation\n",
    "    tokens = word_tokenize(sentence)\n",
    "    return len(tokens)"
   ]
  },
  {
   "cell_type": "code",
   "execution_count": 25,
   "metadata": {},
   "outputs": [],
   "source": [
    "# arr = [count_tokens_nltk(i) for i in df_common['description']]\n",
    "# df_common['description_length'] = arr\n",
    "# df_common.to_csv('new_diagnose_patient_description_full.csv', index=False)\n",
    "\n",
    "# df_common = pd.read_csv('new_diagnose_patient_description_full.csv')\n",
    "df_common = pd.read_csv('new_diagnose_blood_patient_description_full.csv')\n",
    "\n",
    "# columns_to_check = ['value_new_hypertension','value_new_hyperlipidemia', 'value_new_pancan', 'value_new_celiac', 'value_new_lupus', 'value_new_acutemi']\n",
    "columns_to_check = ['value_new_hypertension','value_new_hyperlipidemia', 'value_new_acutemi']\n",
    "# df = df_common.loc[:, ['value_new_hypertension','value_new_hyperlipidemia', 'value_new_pancan', 'value_new_celiac', 'value_new_lupus', 'value_new_acutemi']]\n",
    "df = df_common.loc[:, columns_to_check]"
   ]
  },
  {
   "cell_type": "code",
   "execution_count": 26,
   "metadata": {},
   "outputs": [],
   "source": [
    "pos_idx_hypertension = np.where(df_common['value_new_hypertension'] == 1)[0]\n",
    "pos_idx_hyperlipidemia = np.where(df_common['value_new_hyperlipidemia'] == 1)[0]\n",
    "# pos_idx_pancan = np.where(df_common['value_new_pancan'] == 1)[0]\n",
    "# pos_idx_celiac = np.where(df_common['value_new_celiac'] == 1)[0]\n",
    "# pos_idx_lupus = np.where(df_common['value_new_lupus'] == 1)[0]\n",
    "pos_idx_acutemi = np.where(df_common['value_new_acutemi'] == 1)[0]\n",
    "\n",
    "def sample_from_array(arr, n=15):\n",
    "    np.random.seed(42)  # For reproducibility\n",
    "    return np.random.choice(arr, n, replace=False)  # Set replace=False to sample without replacement\n",
    "\n",
    "# Sampling from each array\n",
    "samples_hypertension = sample_from_array(pos_idx_hypertension, n=15)\n",
    "samples_hyperlipidemia = sample_from_array(pos_idx_hyperlipidemia, n=15)\n",
    "# samples_pancan = sample_from_array(pos_idx_pancan)\n",
    "# samples_celiac = sample_from_array(pos_idx_celiac)\n",
    "# samples_lupus = sample_from_array(pos_idx_lupus)\n",
    "samples_acutemi = sample_from_array(pos_idx_acutemi, n=10)\n",
    "\n",
    "# Concatenate all samples into a single array\n",
    "# all_samples_idx = np.concatenate([\n",
    "#     samples_hypertension,\n",
    "#     samples_hyperlipidemia,\n",
    "#     samples_pancan,\n",
    "#     samples_celiac,\n",
    "#     samples_lupus,\n",
    "#     samples_acutemi\n",
    "# ])\n",
    "\n",
    "all_samples_idx = np.concatenate([\n",
    "    samples_hypertension,\n",
    "    samples_hyperlipidemia,\n",
    "    samples_acutemi\n",
    "])\n",
    "\n",
    "all_samples_idx.sort()\n",
    "all_samples_idx = np.unique(all_samples_idx)\n",
    "all_samples_idx.shape\n",
    "all_index = df.index\n",
    "\n",
    "excluded_array = np.setdiff1d(all_index, all_samples_idx)\n",
    "sampled_reset_values = np.random.choice(excluded_array, (100 - len(all_samples_idx)), replace=False)"
   ]
  },
  {
   "cell_type": "code",
   "execution_count": 27,
   "metadata": {},
   "outputs": [],
   "source": [
    "final_sampled_idx = np.concatenate([all_samples_idx, sampled_reset_values])"
   ]
  },
  {
   "cell_type": "code",
   "execution_count": 28,
   "metadata": {},
   "outputs": [],
   "source": [
    "df_common_sampled = df_common.loc[final_sampled_idx, :]\n",
    "df_common_sampled = df_common_sampled.reset_index(drop=True)\n",
    "df_common_sampled.to_csv('new_diagnose_blood_patient_description.csv', index=False)"
   ]
  },
  {
   "cell_type": "code",
   "execution_count": 35,
   "metadata": {},
   "outputs": [
    {
     "data": {
      "text/html": [
       "<div>\n",
       "<style scoped>\n",
       "    .dataframe tbody tr th:only-of-type {\n",
       "        vertical-align: middle;\n",
       "    }\n",
       "\n",
       "    .dataframe tbody tr th {\n",
       "        vertical-align: top;\n",
       "    }\n",
       "\n",
       "    .dataframe thead th {\n",
       "        text-align: right;\n",
       "    }\n",
       "</style>\n",
       "<table border=\"1\" class=\"dataframe\">\n",
       "  <thead>\n",
       "    <tr style=\"text-align: right;\">\n",
       "      <th></th>\n",
       "      <th>patient_id</th>\n",
       "      <th>prediction_time</th>\n",
       "      <th>value_new_hypertension</th>\n",
       "      <th>value_new_hyperlipidemia</th>\n",
       "      <th>value_new_pancan</th>\n",
       "      <th>value_new_celiac</th>\n",
       "      <th>value_new_lupus</th>\n",
       "      <th>value_new_acutemi</th>\n",
       "      <th>description</th>\n",
       "      <th>description_length</th>\n",
       "    </tr>\n",
       "  </thead>\n",
       "  <tbody>\n",
       "    <tr>\n",
       "      <th>578</th>\n",
       "      <td>115972580</td>\n",
       "      <td>2011-12-08 23:59:00</td>\n",
       "      <td>0</td>\n",
       "      <td>0</td>\n",
       "      <td>0</td>\n",
       "      <td>1</td>\n",
       "      <td>1</td>\n",
       "      <td>0</td>\n",
       "      <td>The patient was 65 years old at the prediction...</td>\n",
       "      <td>2477</td>\n",
       "    </tr>\n",
       "    <tr>\n",
       "      <th>579</th>\n",
       "      <td>115972580</td>\n",
       "      <td>2011-12-11 23:59:00</td>\n",
       "      <td>0</td>\n",
       "      <td>0</td>\n",
       "      <td>0</td>\n",
       "      <td>1</td>\n",
       "      <td>1</td>\n",
       "      <td>0</td>\n",
       "      <td>The patient was 65 years old at the prediction...</td>\n",
       "      <td>3221</td>\n",
       "    </tr>\n",
       "  </tbody>\n",
       "</table>\n",
       "</div>"
      ],
      "text/plain": [
       "     patient_id      prediction_time  value_new_hypertension  \\\n",
       "578   115972580  2011-12-08 23:59:00                       0   \n",
       "579   115972580  2011-12-11 23:59:00                       0   \n",
       "\n",
       "     value_new_hyperlipidemia  value_new_pancan  value_new_celiac  \\\n",
       "578                         0                 0                 1   \n",
       "579                         0                 0                 1   \n",
       "\n",
       "     value_new_lupus  value_new_acutemi  \\\n",
       "578                1                  0   \n",
       "579                1                  0   \n",
       "\n",
       "                                           description  description_length  \n",
       "578  The patient was 65 years old at the prediction...                2477  \n",
       "579  The patient was 65 years old at the prediction...                3221  "
      ]
     },
     "execution_count": 35,
     "metadata": {},
     "output_type": "execute_result"
    }
   ],
   "source": [
    "columns_to_check = ['value_new_hypertension', 'value_new_hyperlipidemia', 'value_new_acutemi']\n",
    "columns_to_check = [\"value_new_celiac\", \"value_new_lupus\"]\n",
    "df = pd.read_csv('new_diagnose_patient_description_full.csv')\n",
    "df[(df[columns_to_check] == 1).all(axis=1)]"
   ]
  },
  {
   "cell_type": "code",
   "execution_count": 14,
   "metadata": {},
   "outputs": [
    {
     "data": {
      "text/plain": [
       "0     The patient was 80 years old at the prediction...\n",
       "1     The patient was 26 years old at the prediction...\n",
       "2     The patient was 57 years old at the prediction...\n",
       "3     The patient was 64 years old at the prediction...\n",
       "4     The patient was 81 years old at the prediction...\n",
       "                            ...                        \n",
       "95    The patient was 36 years old at the prediction...\n",
       "96    The patient was 23 years old at the prediction...\n",
       "97    The patient was 33 years old at the prediction...\n",
       "98    The patient was 33 years old at the prediction...\n",
       "99    The patient was 36 years old at the prediction...\n",
       "Name: description, Length: 100, dtype: object"
      ]
     },
     "execution_count": 14,
     "metadata": {},
     "output_type": "execute_result"
    }
   ],
   "source": [
    "df_common_sampled['description']"
   ]
  },
  {
   "cell_type": "code",
   "execution_count": 15,
   "metadata": {},
   "outputs": [
    {
     "name": "stderr",
     "output_type": "stream",
     "text": [
      "[nltk_data] Downloading package punkt to /home/ubuntu/nltk_data...\n",
      "[nltk_data]   Unzipping tokenizers/punkt.zip.\n"
     ]
    }
   ],
   "source": []
  },
  {
   "cell_type": "code",
   "execution_count": 17,
   "metadata": {},
   "outputs": [],
   "source": [
    "arr = [count_tokens_nltk(i) for i in df_common_sampled['description']]"
   ]
  },
  {
   "cell_type": "code",
   "execution_count": 28,
   "metadata": {},
   "outputs": [],
   "source": [
    "df_s = pd.read_csv('new_diagnose_patient_description.csv')"
   ]
  },
  {
   "cell_type": "code",
   "execution_count": 32,
   "metadata": {},
   "outputs": [],
   "source": [
    "arr_k = [count_tokens_nltk(i) for i in df_s['description']]"
   ]
  },
  {
   "cell_type": "code",
   "execution_count": 33,
   "metadata": {},
   "outputs": [
    {
     "data": {
      "text/plain": [
       "1364"
      ]
     },
     "execution_count": 33,
     "metadata": {},
     "output_type": "execute_result"
    }
   ],
   "source": [
    "min(arr_k)"
   ]
  }
 ],
 "metadata": {
  "kernelspec": {
   "display_name": "EHRSHOT_ENV",
   "language": "python",
   "name": "python3"
  },
  "language_info": {
   "codemirror_mode": {
    "name": "ipython",
    "version": 3
   },
   "file_extension": ".py",
   "mimetype": "text/x-python",
   "name": "python",
   "nbconvert_exporter": "python",
   "pygments_lexer": "ipython3",
   "version": "3.10.14"
  }
 },
 "nbformat": 4,
 "nbformat_minor": 2
}
