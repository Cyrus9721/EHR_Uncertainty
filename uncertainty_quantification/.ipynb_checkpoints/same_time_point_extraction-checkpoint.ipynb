{
 "cells": [
  {
   "cell_type": "code",
   "execution_count": null,
   "metadata": {},
   "outputs": [],
   "source": [
    "\n",
    "import sys\n",
    "sys.path.append('..')\n",
    "sys.path.append('../ehrshot')\n",
    "import argparse\n",
    "import json\n",
    "import os\n",
    "from typing import Any, Dict, List, Optional, Tuple, Union\n",
    "import numpy as np\n",
    "import collections\n",
    "import pandas as pd\n",
    "import pickle\n",
    "from datetime import datetime\n",
    "from loguru import logger\n",
    "from utils import (\n",
    "    LABELING_FUNCTION_2_PAPER_NAME,\n",
    "    SHOT_STRATS,\n",
    "    MODEL_2_INFO,\n",
    "    get_labels_and_features, \n",
    "    process_chexpert_labels, \n",
    "    convert_multiclass_to_binary_labels,\n",
    "    CHEXPERT_LABELS, \n",
    "    LR_PARAMS, \n",
    "    XGB_PARAMS, \n",
    "    RF_PARAMS,\n",
    "    ProtoNetCLMBRClassifier, \n",
    "    get_patient_splits_by_idx\n",
    ")\n",
    "\n",
    "\n",
    "import femr\n",
    "import femr.datasets\n",
    "from femr.labelers import load_labeled_patients, LabeledPatients\n",
    "\n",
    "import torch\n",
    "from torch.utils.data import TensorDataset, DataLoader\n",
    "import torch.nn as nn\n",
    "import torch.nn.functional as F\n",
    "from sklearn.utils.class_weight import compute_class_weight\n",
    "from sklearn.metrics import roc_auc_score\n",
    "from tqdm import tqdm\n",
    "torch.manual_seed(42)\n",
    "from tqdm import tqdm"
   ]
  },
  {
   "cell_type": "code",
   "execution_count": null,
   "metadata": {},
   "outputs": [],
   "source": [
    "with open('../EHRSHOT_ASSETS/features/clmbr_features.pkl', 'rb') as f:\n",
    "    data = pickle.load(f)"
   ]
  },
  {
   "cell_type": "code",
   "execution_count": null,
   "metadata": {},
   "outputs": [],
   "source": [
    "time = data['labeling_time']"
   ]
  },
  {
   "cell_type": "code",
   "execution_count": null,
   "metadata": {},
   "outputs": [],
   "source": [
    "data"
   ]
  },
  {
   "cell_type": "code",
   "execution_count": null,
   "metadata": {},
   "outputs": [],
   "source": [
    "df_general_operation = pd.read_csv('../white_box_common_data/general_operation.csv')\n",
    "df_general_operation\n",
    "\n",
    "df_lab_test\n",
    "\n",
    "def add_feature_index(df):\n",
    "    common_index_list = []\n",
    "    for i in tqdm(range(len(df))):\n",
    "        prediction_time = df.loc[i, 'prediction_time']\n",
    "        prediction_time = datetime.strptime(prediction_time, '%Y-%m-%d %H:%M:%S')\n",
    "        patient_id = df.loc[i, 'patient_id']\n",
    "\n",
    "        mask1 = data['labeling_time'] == prediction_time\n",
    "        mask2 = data['patient_ids'] == patient_id\n",
    "\n",
    "        common_index = np.where(mask1 & mask2)[0]\n",
    "        assert len(common_index) == 1\n",
    "        common_index = common_index[0]\n",
    "        common_index_list.append(common_index)\n",
    "    df['feature_index'] = common_index_list\n",
    "    return df\n",
    "\n",
    "def add_feature_index_v2(df):\n",
    "    common_index_list = []\n",
    "    for i in tqdm(range(len(df))):\n",
    "        prediction_time = df.loc[i, 'admission_date']\n",
    "        prediction_time = datetime.strptime(prediction_time, '%Y-%m-%d %H:%M:%S')\n",
    "        patient_id = df.loc[i, 'patient_id']\n",
    "\n",
    "        mask1 = data['labeling_time'] == prediction_time\n",
    "        mask2 = data['patient_ids'] == patient_id\n",
    "\n",
    "        common_index = np.where(mask1 & mask2)[0]\n",
    "        assert len(common_index) == 1\n",
    "        common_index = common_index[0]\n",
    "        common_index_list.append(common_index)\n",
    "    df['feature_index'] = common_index_list\n",
    "    return df"
   ]
  },
  {
   "cell_type": "code",
   "execution_count": null,
   "metadata": {},
   "outputs": [],
   "source": [
    "df_general_operation = pd.read_csv('../white_box_common_data/general_operation.csv')\n",
    "df_general_operation_with_index = add_feature_index(df_general_operation)\n",
    "df_general_operation_with_index.to_csv('../white_box_common_data/general_operation_with_index.csv', index=False)"
   ]
  },
  {
   "cell_type": "code",
   "execution_count": null,
   "metadata": {},
   "outputs": [],
   "source": [
    "df_general_operation_v2 = pd.read_csv('../white_box_common_data/general_operation_v2.csv')\n",
    "df_general_operation_with_index_v2 = add_feature_index_v2(df_general_operation_v2)\n",
    "df_general_operation_with_index_v2.to_csv('../white_box_common_data/general_operation_with_index_v2.csv', index=False)"
   ]
  },
  {
   "cell_type": "code",
   "execution_count": null,
   "metadata": {},
   "outputs": [],
   "source": [
    "df_general_operation_v2"
   ]
  },
  {
   "cell_type": "code",
   "execution_count": null,
   "metadata": {},
   "outputs": [],
   "source": [
    "df_new_diagnose = pd.read_csv('../white_box_common_data/new_diagnose.csv')\n",
    "df_new_diagnose_with_index = add_feature_index(df_new_diagnose)\n",
    "df_new_diagnose_with_index.to_csv('../white_box_common_data/new_diagnose_with_index.csv', index=False)"
   ]
  },
  {
   "cell_type": "code",
   "execution_count": null,
   "metadata": {},
   "outputs": [],
   "source": [
    "df_lab_test = pd.read_csv('../white_box_common_data/lab_test.csv')\n",
    "df_lab_test_with_index = add_feature_index(df_lab_test)\n",
    "df_lab_test_with_index.to_csv('../white_box_common_data/lab_test_with_index.csv', index=False)"
   ]
  },
  {
   "cell_type": "code",
   "execution_count": null,
   "metadata": {},
   "outputs": [],
   "source": [
    "data.keys(), data['labeling_time'].shape, data['patient_ids'].shape, data['data_matrix'].shape"
   ]
  },
  {
   "cell_type": "code",
   "execution_count": null,
   "metadata": {},
   "outputs": [],
   "source": [
    "idx_general_operation = df_general_operation_with_index['feature_index'].values"
   ]
  },
  {
   "cell_type": "code",
   "execution_count": null,
   "metadata": {},
   "outputs": [],
   "source": [
    "feature_general_operation = data['data_matrix'][idx_general_operation]"
   ]
  },
  {
   "cell_type": "code",
   "execution_count": null,
   "metadata": {},
   "outputs": [],
   "source": [
    "df_general_operation_with_index"
   ]
  },
  {
   "cell_type": "code",
   "execution_count": null,
   "metadata": {},
   "outputs": [],
   "source": [
    "multi_task_dir = '../same_time_data/'\n",
    "multi_task_name = ['general_operation_v1', '','new_diagnose', 'lab_test']\n",
    "df_split = pd.read_csv('../EHRSHOT_ASSETS/splits/person_id_map.csv')"
   ]
  },
  {
   "cell_type": "code",
   "execution_count": null,
   "metadata": {},
   "outputs": [],
   "source": [
    "np.unique(df_split)"
   ]
  },
  {
   "cell_type": "code",
   "execution_count": null,
   "metadata": {},
   "outputs": [],
   "source": []
  },
  {
   "cell_type": "code",
   "execution_count": null,
   "metadata": {},
   "outputs": [],
   "source": []
  },
  {
   "cell_type": "code",
   "execution_count": null,
   "metadata": {},
   "outputs": [],
   "source": []
  }
 ],
 "metadata": {
  "kernelspec": {
   "display_name": "Python 3 (ipykernel)",
   "language": "python",
   "name": "python3"
  },
  "language_info": {
   "codemirror_mode": {
    "name": "ipython",
    "version": 3
   },
   "file_extension": ".py",
   "mimetype": "text/x-python",
   "name": "python",
   "nbconvert_exporter": "python",
   "pygments_lexer": "ipython3",
   "version": "3.8.15"
  }
 },
 "nbformat": 4,
 "nbformat_minor": 2
}
