{
 "cells": [
  {
   "cell_type": "code",
   "execution_count": 1,
   "metadata": {},
   "outputs": [],
   "source": [
    "import sys\n",
    "sys.path.append('..')\n",
    "sys.path.append('../ehrshot')\n",
    "import copy\n",
    "from pathlib import Path\n",
    "\n",
    "from typing import Literal\n",
    "import argparse\n",
    "import pandas as pd\n",
    "import numpy as np\n",
    "import os\n",
    "\n",
    "import torch\n",
    "from torch import nn\n",
    "from torch_uncertainty.routines import ClassificationRoutine\n",
    "from torch_uncertainty.utils import TUTrainer\n",
    "from lightning.pytorch import Trainer\n",
    "from torch_uncertainty.models import deep_ensembles, mc_dropout\n",
    "from torch_uncertainty.transforms import RepeatTarget\n",
    "import torchvision.transforms as T\n",
    "\n",
    "from torch.utils.data import TensorDataset, DataLoader\n",
    "import torch.nn.functional as F\n",
    "from sklearn.utils.class_weight import compute_class_weight\n",
    "from sklearn.metrics import roc_auc_score\n",
    "from tqdm import tqdm"
   ]
  },
  {
   "cell_type": "code",
   "execution_count": 2,
   "metadata": {},
   "outputs": [],
   "source": [
    "results_dict = {}\n",
    "\n",
    "labeling_functions=[\n",
    "    \"guo_los\",\n",
    "    \"guo_readmission\",\n",
    "    \"guo_icu\",\n",
    "    \"new_hypertension\",\n",
    "    \"new_hyperlipidemia\",\n",
    "    \"new_pancan\",\n",
    "    \"new_celiac\",\n",
    "    \"new_lupus\",\n",
    "    \"new_acutemi\",\n",
    "    \"lab_thrombocytopenia\",\n",
    "    \"lab_hyperkalemia\",\n",
    "    \"lab_hyponatremia\",\n",
    "    \"lab_anemia\",\n",
    "    \"lab_hypoglycemia\" # will OOM at 200G on `gpu` partition\n",
    "]\n",
    "\n",
    "unique_tasks_1 = ['guo_los', 'guo_readmission', 'guo_icu']\n",
    "unique_tasks_2 = ['new_hypertension', 'new_hyperlipidemia', 'new_pancan', 'new_celiac', 'new_lupus', 'new_acutemi']\n",
    "unique_tasks_3 = ['lab_thrombocytopenia', 'lab_hyperkalemia', 'lab_hyponatremia', 'lab_anemia', 'lab_hypoglycemia']\n",
    "\n",
    "all_tasks = [unique_tasks_1, unique_tasks_2, unique_tasks_3]\n",
    "all_tasks_name = ['unique_tasks_1', 'unique_tasks_2', 'unique_tasks_3']"
   ]
  },
  {
   "cell_type": "code",
   "execution_count": 3,
   "metadata": {},
   "outputs": [
    {
     "name": "stderr",
     "output_type": "stream",
     "text": [
      "  0%|          | 0/3 [00:00<?, ?it/s]GPU available: True (cuda), used: True\n",
      "TPU available: False, using: 0 TPU cores\n",
      "HPU available: False, using: 0 HPUs\n",
      "You are using a CUDA device ('NVIDIA A10G') that has Tensor Cores. To properly utilize them, you should set `torch.set_float32_matmul_precision('medium' | 'high')` which will trade-off precision for performance. For more details, read https://pytorch.org/docs/stable/generated/torch.set_float32_matmul_precision.html#torch.set_float32_matmul_precision\n",
      "LOCAL_RANK: 0 - CUDA_VISIBLE_DEVICES: [0]\n",
      "/home/ubuntu/anaconda3/lib/python3.11/site-packages/lightning/pytorch/core/optimizer.py:377: Found unsupported keys in the optimizer configuration: {'scheduler'}\n",
      "\n",
      "  | Name                | Type             | Params | Mode \n",
      "-----------------------------------------------------------------\n",
      "0 | model               | MCDropout        | 115 K  | train\n",
      "1 | loss                | CrossEntropyLoss | 0      | train\n",
      "2 | format_batch_fn     | Identity         | 0      | train\n",
      "3 | val_cls_metrics     | MetricCollection | 0      | train\n",
      "4 | test_cls_metrics    | MetricCollection | 0      | train\n",
      "5 | test_id_entropy     | Entropy          | 0      | train\n",
      "6 | test_id_ens_metrics | MetricCollection | 0      | train\n",
      "7 | mixup               | Identity         | 0      | train\n",
      "-----------------------------------------------------------------\n",
      "115 K     Trainable params\n",
      "0         Non-trainable params\n",
      "115 K     Total params\n",
      "0.460     Total estimated model params size (MB)\n",
      "33        Modules in train mode\n",
      "0         Modules in eval mode\n",
      "/home/ubuntu/anaconda3/lib/python3.11/site-packages/lightning/pytorch/trainer/connectors/data_connector.py:424: The 'val_dataloader' does not have many workers which may be a bottleneck. Consider increasing the value of the `num_workers` argument` to `num_workers=63` in the `DataLoader` to improve performance.\n",
      "/home/ubuntu/anaconda3/lib/python3.11/site-packages/lightning/pytorch/trainer/connectors/data_connector.py:424: The 'train_dataloader' does not have many workers which may be a bottleneck. Consider increasing the value of the `num_workers` argument` to `num_workers=63` in the `DataLoader` to improve performance.\n",
      "`Trainer.fit` stopped: `max_epochs=50` reached.\n",
      "LOCAL_RANK: 0 - CUDA_VISIBLE_DEVICES: [0]\n",
      "/home/ubuntu/anaconda3/lib/python3.11/site-packages/lightning/pytorch/trainer/connectors/data_connector.py:424: The 'test_dataloader' does not have many workers which may be a bottleneck. Consider increasing the value of the `num_workers` argument` to `num_workers=63` in the `DataLoader` to improve performance.\n"
     ]
    },
    {
     "data": {
      "text/html": [
       "<pre style=\"white-space:pre;overflow-x:auto;line-height:normal;font-family:Menlo,'DejaVu Sans Mono',consolas,'Courier New',monospace\">┏━━━━━━━━━━━━━━━━━━━━━━━━━━━┳━━━━━━━━━━━━━━━━━━━━━━━━━━━┓\n",
       "┃<span style=\"font-weight: bold\">        Test metric        </span>┃<span style=\"font-weight: bold\">       DataLoader 0        </span>┃\n",
       "┡━━━━━━━━━━━━━━━━━━━━━━━━━━━╇━━━━━━━━━━━━━━━━━━━━━━━━━━━┩\n",
       "│<span style=\"color: #008080; text-decoration-color: #008080\">       test/cal/ECE        </span>│<span style=\"color: #800080; text-decoration-color: #800080\">    0.10285300016403198    </span>│\n",
       "│<span style=\"color: #008080; text-decoration-color: #008080\">       test/cal/aECE       </span>│<span style=\"color: #800080; text-decoration-color: #800080\">    0.09954403340816498    </span>│\n",
       "│<span style=\"color: #008080; text-decoration-color: #008080\">       test/cls/Acc        </span>│<span style=\"color: #800080; text-decoration-color: #800080\">    0.7854214310646057     </span>│\n",
       "│<span style=\"color: #008080; text-decoration-color: #008080\">      test/cls/Brier       </span>│<span style=\"color: #800080; text-decoration-color: #800080\">    0.3217475116252899     </span>│\n",
       "│<span style=\"color: #008080; text-decoration-color: #008080\">       test/cls/NLL        </span>│<span style=\"color: #800080; text-decoration-color: #800080\">    0.5942076444625854     </span>│\n",
       "│<span style=\"color: #008080; text-decoration-color: #008080\">     test/cls/entropy      </span>│<span style=\"color: #800080; text-decoration-color: #800080\">    0.2544362545013428     </span>│\n",
       "│<span style=\"color: #008080; text-decoration-color: #008080\">   test/ens_Disagreement   </span>│<span style=\"color: #800080; text-decoration-color: #800080\">    0.12291570007801056    </span>│\n",
       "│<span style=\"color: #008080; text-decoration-color: #008080\">     test/ens_Entropy      </span>│<span style=\"color: #800080; text-decoration-color: #800080\">    0.19257521629333496    </span>│\n",
       "│<span style=\"color: #008080; text-decoration-color: #008080\">        test/ens_MI        </span>│<span style=\"color: #800080; text-decoration-color: #800080\">   0.061861034482717514    </span>│\n",
       "│<span style=\"color: #008080; text-decoration-color: #008080\">       test/sc/AUGRC       </span>│<span style=\"color: #800080; text-decoration-color: #800080\">    0.06662537902593613    </span>│\n",
       "│<span style=\"color: #008080; text-decoration-color: #008080\">       test/sc/AURC        </span>│<span style=\"color: #800080; text-decoration-color: #800080\">    0.09858623147010803    </span>│\n",
       "│<span style=\"color: #008080; text-decoration-color: #008080\">    test/sc/CovAt5Risk     </span>│<span style=\"color: #800080; text-decoration-color: #800080\">            nan            </span>│\n",
       "│<span style=\"color: #008080; text-decoration-color: #008080\">    test/sc/RiskAt80Cov    </span>│<span style=\"color: #800080; text-decoration-color: #800080\">    0.16230067610740662    </span>│\n",
       "└───────────────────────────┴───────────────────────────┘\n",
       "</pre>\n"
      ],
      "text/plain": [
       "┏━━━━━━━━━━━━━━━━━━━━━━━━━━━┳━━━━━━━━━━━━━━━━━━━━━━━━━━━┓\n",
       "┃\u001b[1m \u001b[0m\u001b[1m       Test metric       \u001b[0m\u001b[1m \u001b[0m┃\u001b[1m \u001b[0m\u001b[1m      DataLoader 0       \u001b[0m\u001b[1m \u001b[0m┃\n",
       "┡━━━━━━━━━━━━━━━━━━━━━━━━━━━╇━━━━━━━━━━━━━━━━━━━━━━━━━━━┩\n",
       "│\u001b[36m \u001b[0m\u001b[36m      test/cal/ECE       \u001b[0m\u001b[36m \u001b[0m│\u001b[35m \u001b[0m\u001b[35m   0.10285300016403198   \u001b[0m\u001b[35m \u001b[0m│\n",
       "│\u001b[36m \u001b[0m\u001b[36m      test/cal/aECE      \u001b[0m\u001b[36m \u001b[0m│\u001b[35m \u001b[0m\u001b[35m   0.09954403340816498   \u001b[0m\u001b[35m \u001b[0m│\n",
       "│\u001b[36m \u001b[0m\u001b[36m      test/cls/Acc       \u001b[0m\u001b[36m \u001b[0m│\u001b[35m \u001b[0m\u001b[35m   0.7854214310646057    \u001b[0m\u001b[35m \u001b[0m│\n",
       "│\u001b[36m \u001b[0m\u001b[36m     test/cls/Brier      \u001b[0m\u001b[36m \u001b[0m│\u001b[35m \u001b[0m\u001b[35m   0.3217475116252899    \u001b[0m\u001b[35m \u001b[0m│\n",
       "│\u001b[36m \u001b[0m\u001b[36m      test/cls/NLL       \u001b[0m\u001b[36m \u001b[0m│\u001b[35m \u001b[0m\u001b[35m   0.5942076444625854    \u001b[0m\u001b[35m \u001b[0m│\n",
       "│\u001b[36m \u001b[0m\u001b[36m    test/cls/entropy     \u001b[0m\u001b[36m \u001b[0m│\u001b[35m \u001b[0m\u001b[35m   0.2544362545013428    \u001b[0m\u001b[35m \u001b[0m│\n",
       "│\u001b[36m \u001b[0m\u001b[36m  test/ens_Disagreement  \u001b[0m\u001b[36m \u001b[0m│\u001b[35m \u001b[0m\u001b[35m   0.12291570007801056   \u001b[0m\u001b[35m \u001b[0m│\n",
       "│\u001b[36m \u001b[0m\u001b[36m    test/ens_Entropy     \u001b[0m\u001b[36m \u001b[0m│\u001b[35m \u001b[0m\u001b[35m   0.19257521629333496   \u001b[0m\u001b[35m \u001b[0m│\n",
       "│\u001b[36m \u001b[0m\u001b[36m       test/ens_MI       \u001b[0m\u001b[36m \u001b[0m│\u001b[35m \u001b[0m\u001b[35m  0.061861034482717514   \u001b[0m\u001b[35m \u001b[0m│\n",
       "│\u001b[36m \u001b[0m\u001b[36m      test/sc/AUGRC      \u001b[0m\u001b[36m \u001b[0m│\u001b[35m \u001b[0m\u001b[35m   0.06662537902593613   \u001b[0m\u001b[35m \u001b[0m│\n",
       "│\u001b[36m \u001b[0m\u001b[36m      test/sc/AURC       \u001b[0m\u001b[36m \u001b[0m│\u001b[35m \u001b[0m\u001b[35m   0.09858623147010803   \u001b[0m\u001b[35m \u001b[0m│\n",
       "│\u001b[36m \u001b[0m\u001b[36m   test/sc/CovAt5Risk    \u001b[0m\u001b[36m \u001b[0m│\u001b[35m \u001b[0m\u001b[35m           nan           \u001b[0m\u001b[35m \u001b[0m│\n",
       "│\u001b[36m \u001b[0m\u001b[36m   test/sc/RiskAt80Cov   \u001b[0m\u001b[36m \u001b[0m│\u001b[35m \u001b[0m\u001b[35m   0.16230067610740662   \u001b[0m\u001b[35m \u001b[0m│\n",
       "└───────────────────────────┴───────────────────────────┘\n"
      ]
     },
     "metadata": {},
     "output_type": "display_data"
    },
    {
     "name": "stderr",
     "output_type": "stream",
     "text": [
      "LOCAL_RANK: 0 - CUDA_VISIBLE_DEVICES: [0]\n",
      "/home/ubuntu/anaconda3/lib/python3.11/site-packages/lightning/pytorch/trainer/connectors/data_connector.py:424: The 'test_dataloader' does not have many workers which may be a bottleneck. Consider increasing the value of the `num_workers` argument` to `num_workers=63` in the `DataLoader` to improve performance.\n"
     ]
    },
    {
     "data": {
      "text/html": [
       "<pre style=\"white-space:pre;overflow-x:auto;line-height:normal;font-family:Menlo,'DejaVu Sans Mono',consolas,'Courier New',monospace\">┏━━━━━━━━━━━━━━━━━━━━━━━━━━━┳━━━━━━━━━━━━━━━━━━━━━━━━━━━┓\n",
       "┃<span style=\"font-weight: bold\">        Test metric        </span>┃<span style=\"font-weight: bold\">       DataLoader 0        </span>┃\n",
       "┡━━━━━━━━━━━━━━━━━━━━━━━━━━━╇━━━━━━━━━━━━━━━━━━━━━━━━━━━┩\n",
       "│<span style=\"color: #008080; text-decoration-color: #008080\">       test/cal/ECE        </span>│<span style=\"color: #800080; text-decoration-color: #800080\">    0.07588839530944824    </span>│\n",
       "│<span style=\"color: #008080; text-decoration-color: #008080\">       test/cal/aECE       </span>│<span style=\"color: #800080; text-decoration-color: #800080\">    0.07248623669147491    </span>│\n",
       "│<span style=\"color: #008080; text-decoration-color: #008080\">       test/cls/Acc        </span>│<span style=\"color: #800080; text-decoration-color: #800080\">    0.8720877170562744     </span>│\n",
       "│<span style=\"color: #008080; text-decoration-color: #008080\">      test/cls/Brier       </span>│<span style=\"color: #800080; text-decoration-color: #800080\">    0.21334438025951385    </span>│\n",
       "│<span style=\"color: #008080; text-decoration-color: #008080\">       test/cls/NLL        </span>│<span style=\"color: #800080; text-decoration-color: #800080\">    0.4799403250217438     </span>│\n",
       "│<span style=\"color: #008080; text-decoration-color: #008080\">     test/cls/entropy      </span>│<span style=\"color: #800080; text-decoration-color: #800080\">    0.1367439478635788     </span>│\n",
       "│<span style=\"color: #008080; text-decoration-color: #008080\">   test/ens_Disagreement   </span>│<span style=\"color: #800080; text-decoration-color: #800080\">    0.08836677670478821    </span>│\n",
       "│<span style=\"color: #008080; text-decoration-color: #008080\">     test/ens_Entropy      </span>│<span style=\"color: #800080; text-decoration-color: #800080\">    0.14871127903461456    </span>│\n",
       "│<span style=\"color: #008080; text-decoration-color: #008080\">        test/ens_MI        </span>│<span style=\"color: #800080; text-decoration-color: #800080\">   0.046959370374679565    </span>│\n",
       "│<span style=\"color: #008080; text-decoration-color: #008080\">       test/sc/AUGRC       </span>│<span style=\"color: #800080; text-decoration-color: #800080\">    0.03411272540688515    </span>│\n",
       "│<span style=\"color: #008080; text-decoration-color: #008080\">       test/sc/AURC        </span>│<span style=\"color: #800080; text-decoration-color: #800080\">    0.05142194777727127    </span>│\n",
       "│<span style=\"color: #008080; text-decoration-color: #008080\">    test/sc/CovAt5Risk     </span>│<span style=\"color: #800080; text-decoration-color: #800080\">    0.6007308959960938     </span>│\n",
       "│<span style=\"color: #008080; text-decoration-color: #008080\">    test/sc/RiskAt80Cov    </span>│<span style=\"color: #800080; text-decoration-color: #800080\">    0.07876712083816528    </span>│\n",
       "└───────────────────────────┴───────────────────────────┘\n",
       "</pre>\n"
      ],
      "text/plain": [
       "┏━━━━━━━━━━━━━━━━━━━━━━━━━━━┳━━━━━━━━━━━━━━━━━━━━━━━━━━━┓\n",
       "┃\u001b[1m \u001b[0m\u001b[1m       Test metric       \u001b[0m\u001b[1m \u001b[0m┃\u001b[1m \u001b[0m\u001b[1m      DataLoader 0       \u001b[0m\u001b[1m \u001b[0m┃\n",
       "┡━━━━━━━━━━━━━━━━━━━━━━━━━━━╇━━━━━━━━━━━━━━━━━━━━━━━━━━━┩\n",
       "│\u001b[36m \u001b[0m\u001b[36m      test/cal/ECE       \u001b[0m\u001b[36m \u001b[0m│\u001b[35m \u001b[0m\u001b[35m   0.07588839530944824   \u001b[0m\u001b[35m \u001b[0m│\n",
       "│\u001b[36m \u001b[0m\u001b[36m      test/cal/aECE      \u001b[0m\u001b[36m \u001b[0m│\u001b[35m \u001b[0m\u001b[35m   0.07248623669147491   \u001b[0m\u001b[35m \u001b[0m│\n",
       "│\u001b[36m \u001b[0m\u001b[36m      test/cls/Acc       \u001b[0m\u001b[36m \u001b[0m│\u001b[35m \u001b[0m\u001b[35m   0.8720877170562744    \u001b[0m\u001b[35m \u001b[0m│\n",
       "│\u001b[36m \u001b[0m\u001b[36m     test/cls/Brier      \u001b[0m\u001b[36m \u001b[0m│\u001b[35m \u001b[0m\u001b[35m   0.21334438025951385   \u001b[0m\u001b[35m \u001b[0m│\n",
       "│\u001b[36m \u001b[0m\u001b[36m      test/cls/NLL       \u001b[0m\u001b[36m \u001b[0m│\u001b[35m \u001b[0m\u001b[35m   0.4799403250217438    \u001b[0m\u001b[35m \u001b[0m│\n",
       "│\u001b[36m \u001b[0m\u001b[36m    test/cls/entropy     \u001b[0m\u001b[36m \u001b[0m│\u001b[35m \u001b[0m\u001b[35m   0.1367439478635788    \u001b[0m\u001b[35m \u001b[0m│\n",
       "│\u001b[36m \u001b[0m\u001b[36m  test/ens_Disagreement  \u001b[0m\u001b[36m \u001b[0m│\u001b[35m \u001b[0m\u001b[35m   0.08836677670478821   \u001b[0m\u001b[35m \u001b[0m│\n",
       "│\u001b[36m \u001b[0m\u001b[36m    test/ens_Entropy     \u001b[0m\u001b[36m \u001b[0m│\u001b[35m \u001b[0m\u001b[35m   0.14871127903461456   \u001b[0m\u001b[35m \u001b[0m│\n",
       "│\u001b[36m \u001b[0m\u001b[36m       test/ens_MI       \u001b[0m\u001b[36m \u001b[0m│\u001b[35m \u001b[0m\u001b[35m  0.046959370374679565   \u001b[0m\u001b[35m \u001b[0m│\n",
       "│\u001b[36m \u001b[0m\u001b[36m      test/sc/AUGRC      \u001b[0m\u001b[36m \u001b[0m│\u001b[35m \u001b[0m\u001b[35m   0.03411272540688515   \u001b[0m\u001b[35m \u001b[0m│\n",
       "│\u001b[36m \u001b[0m\u001b[36m      test/sc/AURC       \u001b[0m\u001b[36m \u001b[0m│\u001b[35m \u001b[0m\u001b[35m   0.05142194777727127   \u001b[0m\u001b[35m \u001b[0m│\n",
       "│\u001b[36m \u001b[0m\u001b[36m   test/sc/CovAt5Risk    \u001b[0m\u001b[36m \u001b[0m│\u001b[35m \u001b[0m\u001b[35m   0.6007308959960938    \u001b[0m\u001b[35m \u001b[0m│\n",
       "│\u001b[36m \u001b[0m\u001b[36m   test/sc/RiskAt80Cov   \u001b[0m\u001b[36m \u001b[0m│\u001b[35m \u001b[0m\u001b[35m   0.07876712083816528   \u001b[0m\u001b[35m \u001b[0m│\n",
       "└───────────────────────────┴───────────────────────────┘\n"
      ]
     },
     "metadata": {},
     "output_type": "display_data"
    },
    {
     "name": "stderr",
     "output_type": "stream",
     "text": [
      "LOCAL_RANK: 0 - CUDA_VISIBLE_DEVICES: [0]\n",
      "/home/ubuntu/anaconda3/lib/python3.11/site-packages/lightning/pytorch/trainer/connectors/data_connector.py:424: The 'test_dataloader' does not have many workers which may be a bottleneck. Consider increasing the value of the `num_workers` argument` to `num_workers=63` in the `DataLoader` to improve performance.\n"
     ]
    },
    {
     "data": {
      "text/html": [
       "<pre style=\"white-space:pre;overflow-x:auto;line-height:normal;font-family:Menlo,'DejaVu Sans Mono',consolas,'Courier New',monospace\">┏━━━━━━━━━━━━━━━━━━━━━━━━━━━┳━━━━━━━━━━━━━━━━━━━━━━━━━━━┓\n",
       "┃<span style=\"font-weight: bold\">        Test metric        </span>┃<span style=\"font-weight: bold\">       DataLoader 0        </span>┃\n",
       "┡━━━━━━━━━━━━━━━━━━━━━━━━━━━╇━━━━━━━━━━━━━━━━━━━━━━━━━━━┩\n",
       "│<span style=\"color: #008080; text-decoration-color: #008080\">       test/cal/ECE        </span>│<span style=\"color: #800080; text-decoration-color: #800080\">    0.03245505690574646    </span>│\n",
       "│<span style=\"color: #008080; text-decoration-color: #008080\">       test/cal/aECE       </span>│<span style=\"color: #800080; text-decoration-color: #800080\">   0.027296286076307297    </span>│\n",
       "│<span style=\"color: #008080; text-decoration-color: #008080\">       test/cls/Acc        </span>│<span style=\"color: #800080; text-decoration-color: #800080\">    0.9602356553077698     </span>│\n",
       "│<span style=\"color: #008080; text-decoration-color: #008080\">      test/cls/Brier       </span>│<span style=\"color: #800080; text-decoration-color: #800080\">    0.07257372885942459    </span>│\n",
       "│<span style=\"color: #008080; text-decoration-color: #008080\">       test/cls/NLL        </span>│<span style=\"color: #800080; text-decoration-color: #800080\">    0.2175956517457962     </span>│\n",
       "│<span style=\"color: #008080; text-decoration-color: #008080\">     test/cls/entropy      </span>│<span style=\"color: #800080; text-decoration-color: #800080\">    0.03618929907679558    </span>│\n",
       "│<span style=\"color: #008080; text-decoration-color: #008080\">   test/ens_Disagreement   </span>│<span style=\"color: #800080; text-decoration-color: #800080\">    0.06341691315174103    </span>│\n",
       "│<span style=\"color: #008080; text-decoration-color: #008080\">     test/ens_Entropy      </span>│<span style=\"color: #800080; text-decoration-color: #800080\">    0.1105029284954071     </span>│\n",
       "│<span style=\"color: #008080; text-decoration-color: #008080\">        test/ens_MI        </span>│<span style=\"color: #800080; text-decoration-color: #800080\">   0.034573812037706375    </span>│\n",
       "│<span style=\"color: #008080; text-decoration-color: #008080\">       test/sc/AUGRC       </span>│<span style=\"color: #800080; text-decoration-color: #800080\">   0.008162474259734154    </span>│\n",
       "│<span style=\"color: #008080; text-decoration-color: #008080\">       test/sc/AURC        </span>│<span style=\"color: #800080; text-decoration-color: #800080\">   0.011679401621222496    </span>│\n",
       "│<span style=\"color: #008080; text-decoration-color: #008080\">    test/sc/CovAt5Risk     </span>│<span style=\"color: #800080; text-decoration-color: #800080\">            1.0            </span>│\n",
       "│<span style=\"color: #008080; text-decoration-color: #008080\">    test/sc/RiskAt80Cov    </span>│<span style=\"color: #800080; text-decoration-color: #800080\">    0.01779141090810299    </span>│\n",
       "└───────────────────────────┴───────────────────────────┘\n",
       "</pre>\n"
      ],
      "text/plain": [
       "┏━━━━━━━━━━━━━━━━━━━━━━━━━━━┳━━━━━━━━━━━━━━━━━━━━━━━━━━━┓\n",
       "┃\u001b[1m \u001b[0m\u001b[1m       Test metric       \u001b[0m\u001b[1m \u001b[0m┃\u001b[1m \u001b[0m\u001b[1m      DataLoader 0       \u001b[0m\u001b[1m \u001b[0m┃\n",
       "┡━━━━━━━━━━━━━━━━━━━━━━━━━━━╇━━━━━━━━━━━━━━━━━━━━━━━━━━━┩\n",
       "│\u001b[36m \u001b[0m\u001b[36m      test/cal/ECE       \u001b[0m\u001b[36m \u001b[0m│\u001b[35m \u001b[0m\u001b[35m   0.03245505690574646   \u001b[0m\u001b[35m \u001b[0m│\n",
       "│\u001b[36m \u001b[0m\u001b[36m      test/cal/aECE      \u001b[0m\u001b[36m \u001b[0m│\u001b[35m \u001b[0m\u001b[35m  0.027296286076307297   \u001b[0m\u001b[35m \u001b[0m│\n",
       "│\u001b[36m \u001b[0m\u001b[36m      test/cls/Acc       \u001b[0m\u001b[36m \u001b[0m│\u001b[35m \u001b[0m\u001b[35m   0.9602356553077698    \u001b[0m\u001b[35m \u001b[0m│\n",
       "│\u001b[36m \u001b[0m\u001b[36m     test/cls/Brier      \u001b[0m\u001b[36m \u001b[0m│\u001b[35m \u001b[0m\u001b[35m   0.07257372885942459   \u001b[0m\u001b[35m \u001b[0m│\n",
       "│\u001b[36m \u001b[0m\u001b[36m      test/cls/NLL       \u001b[0m\u001b[36m \u001b[0m│\u001b[35m \u001b[0m\u001b[35m   0.2175956517457962    \u001b[0m\u001b[35m \u001b[0m│\n",
       "│\u001b[36m \u001b[0m\u001b[36m    test/cls/entropy     \u001b[0m\u001b[36m \u001b[0m│\u001b[35m \u001b[0m\u001b[35m   0.03618929907679558   \u001b[0m\u001b[35m \u001b[0m│\n",
       "│\u001b[36m \u001b[0m\u001b[36m  test/ens_Disagreement  \u001b[0m\u001b[36m \u001b[0m│\u001b[35m \u001b[0m\u001b[35m   0.06341691315174103   \u001b[0m\u001b[35m \u001b[0m│\n",
       "│\u001b[36m \u001b[0m\u001b[36m    test/ens_Entropy     \u001b[0m\u001b[36m \u001b[0m│\u001b[35m \u001b[0m\u001b[35m   0.1105029284954071    \u001b[0m\u001b[35m \u001b[0m│\n",
       "│\u001b[36m \u001b[0m\u001b[36m       test/ens_MI       \u001b[0m\u001b[36m \u001b[0m│\u001b[35m \u001b[0m\u001b[35m  0.034573812037706375   \u001b[0m\u001b[35m \u001b[0m│\n",
       "│\u001b[36m \u001b[0m\u001b[36m      test/sc/AUGRC      \u001b[0m\u001b[36m \u001b[0m│\u001b[35m \u001b[0m\u001b[35m  0.008162474259734154   \u001b[0m\u001b[35m \u001b[0m│\n",
       "│\u001b[36m \u001b[0m\u001b[36m      test/sc/AURC       \u001b[0m\u001b[36m \u001b[0m│\u001b[35m \u001b[0m\u001b[35m  0.011679401621222496   \u001b[0m\u001b[35m \u001b[0m│\n",
       "│\u001b[36m \u001b[0m\u001b[36m   test/sc/CovAt5Risk    \u001b[0m\u001b[36m \u001b[0m│\u001b[35m \u001b[0m\u001b[35m           1.0           \u001b[0m\u001b[35m \u001b[0m│\n",
       "│\u001b[36m \u001b[0m\u001b[36m   test/sc/RiskAt80Cov   \u001b[0m\u001b[36m \u001b[0m│\u001b[35m \u001b[0m\u001b[35m   0.01779141090810299   \u001b[0m\u001b[35m \u001b[0m│\n",
       "└───────────────────────────┴───────────────────────────┘\n"
      ]
     },
     "metadata": {},
     "output_type": "display_data"
    },
    {
     "name": "stderr",
     "output_type": "stream",
     "text": [
      "100%|██████████| 3/3 [00:01<00:00,  2.01it/s]\n",
      " 33%|███▎      | 1/3 [00:31<01:02, 31.05s/it]GPU available: True (cuda), used: True\n",
      "TPU available: False, using: 0 TPU cores\n",
      "HPU available: False, using: 0 HPUs\n",
      "LOCAL_RANK: 0 - CUDA_VISIBLE_DEVICES: [0]\n",
      "/home/ubuntu/anaconda3/lib/python3.11/site-packages/lightning/pytorch/core/optimizer.py:377: Found unsupported keys in the optimizer configuration: {'scheduler'}\n",
      "\n",
      "  | Name                | Type             | Params | Mode \n",
      "-----------------------------------------------------------------\n",
      "0 | model               | MCDropout        | 115 K  | train\n",
      "1 | loss                | CrossEntropyLoss | 0      | train\n",
      "2 | format_batch_fn     | Identity         | 0      | train\n",
      "3 | val_cls_metrics     | MetricCollection | 0      | train\n",
      "4 | test_cls_metrics    | MetricCollection | 0      | train\n",
      "5 | test_id_entropy     | Entropy          | 0      | train\n",
      "6 | test_id_ens_metrics | MetricCollection | 0      | train\n",
      "7 | mixup               | Identity         | 0      | train\n",
      "-----------------------------------------------------------------\n",
      "115 K     Trainable params\n",
      "0         Non-trainable params\n",
      "115 K     Total params\n",
      "0.460     Total estimated model params size (MB)\n",
      "33        Modules in train mode\n",
      "0         Modules in eval mode\n",
      "/home/ubuntu/anaconda3/lib/python3.11/site-packages/lightning/pytorch/trainer/connectors/data_connector.py:424: The 'val_dataloader' does not have many workers which may be a bottleneck. Consider increasing the value of the `num_workers` argument` to `num_workers=63` in the `DataLoader` to improve performance.\n",
      "/home/ubuntu/anaconda3/lib/python3.11/site-packages/lightning/pytorch/trainer/connectors/data_connector.py:424: The 'train_dataloader' does not have many workers which may be a bottleneck. Consider increasing the value of the `num_workers` argument` to `num_workers=63` in the `DataLoader` to improve performance.\n",
      "`Trainer.fit` stopped: `max_epochs=50` reached.\n",
      "LOCAL_RANK: 0 - CUDA_VISIBLE_DEVICES: [0]\n",
      "/home/ubuntu/anaconda3/lib/python3.11/site-packages/lightning/pytorch/trainer/connectors/data_connector.py:424: The 'test_dataloader' does not have many workers which may be a bottleneck. Consider increasing the value of the `num_workers` argument` to `num_workers=63` in the `DataLoader` to improve performance.\n"
     ]
    },
    {
     "data": {
      "text/html": [
       "<pre style=\"white-space:pre;overflow-x:auto;line-height:normal;font-family:Menlo,'DejaVu Sans Mono',consolas,'Courier New',monospace\">┏━━━━━━━━━━━━━━━━━━━━━━━━━━━┳━━━━━━━━━━━━━━━━━━━━━━━━━━━┓\n",
       "┃<span style=\"font-weight: bold\">        Test metric        </span>┃<span style=\"font-weight: bold\">       DataLoader 0        </span>┃\n",
       "┡━━━━━━━━━━━━━━━━━━━━━━━━━━━╇━━━━━━━━━━━━━━━━━━━━━━━━━━━┩\n",
       "│<span style=\"color: #008080; text-decoration-color: #008080\">       test/cal/ECE        </span>│<span style=\"color: #800080; text-decoration-color: #800080\">    0.07490730285644531    </span>│\n",
       "│<span style=\"color: #008080; text-decoration-color: #008080\">       test/cal/aECE       </span>│<span style=\"color: #800080; text-decoration-color: #800080\">    0.06774131953716278    </span>│\n",
       "│<span style=\"color: #008080; text-decoration-color: #008080\">       test/cls/Acc        </span>│<span style=\"color: #800080; text-decoration-color: #800080\">    0.8545309901237488     </span>│\n",
       "│<span style=\"color: #008080; text-decoration-color: #008080\">      test/cls/Brier       </span>│<span style=\"color: #800080; text-decoration-color: #800080\">    0.24172653257846832    </span>│\n",
       "│<span style=\"color: #008080; text-decoration-color: #008080\">       test/cls/NLL        </span>│<span style=\"color: #800080; text-decoration-color: #800080\">     0.46624955534935      </span>│\n",
       "│<span style=\"color: #008080; text-decoration-color: #008080\">     test/cls/entropy      </span>│<span style=\"color: #800080; text-decoration-color: #800080\">    0.22720664739608765    </span>│\n",
       "│<span style=\"color: #008080; text-decoration-color: #008080\">   test/ens_Disagreement   </span>│<span style=\"color: #800080; text-decoration-color: #800080\">   0.055166926234960556    </span>│\n",
       "│<span style=\"color: #008080; text-decoration-color: #008080\">     test/ens_Entropy      </span>│<span style=\"color: #800080; text-decoration-color: #800080\">    0.1955089569091797     </span>│\n",
       "│<span style=\"color: #008080; text-decoration-color: #008080\">        test/ens_MI        </span>│<span style=\"color: #800080; text-decoration-color: #800080\">    0.03169769048690796    </span>│\n",
       "│<span style=\"color: #008080; text-decoration-color: #008080\">       test/sc/AUGRC       </span>│<span style=\"color: #800080; text-decoration-color: #800080\">   0.049928031861782074    </span>│\n",
       "│<span style=\"color: #008080; text-decoration-color: #008080\">       test/sc/AURC        </span>│<span style=\"color: #800080; text-decoration-color: #800080\">    0.08816985785961151    </span>│\n",
       "│<span style=\"color: #008080; text-decoration-color: #008080\">    test/sc/CovAt5Risk     </span>│<span style=\"color: #800080; text-decoration-color: #800080\">            nan            </span>│\n",
       "│<span style=\"color: #008080; text-decoration-color: #008080\">    test/sc/RiskAt80Cov    </span>│<span style=\"color: #800080; text-decoration-color: #800080\">    0.11221449822187424    </span>│\n",
       "└───────────────────────────┴───────────────────────────┘\n",
       "</pre>\n"
      ],
      "text/plain": [
       "┏━━━━━━━━━━━━━━━━━━━━━━━━━━━┳━━━━━━━━━━━━━━━━━━━━━━━━━━━┓\n",
       "┃\u001b[1m \u001b[0m\u001b[1m       Test metric       \u001b[0m\u001b[1m \u001b[0m┃\u001b[1m \u001b[0m\u001b[1m      DataLoader 0       \u001b[0m\u001b[1m \u001b[0m┃\n",
       "┡━━━━━━━━━━━━━━━━━━━━━━━━━━━╇━━━━━━━━━━━━━━━━━━━━━━━━━━━┩\n",
       "│\u001b[36m \u001b[0m\u001b[36m      test/cal/ECE       \u001b[0m\u001b[36m \u001b[0m│\u001b[35m \u001b[0m\u001b[35m   0.07490730285644531   \u001b[0m\u001b[35m \u001b[0m│\n",
       "│\u001b[36m \u001b[0m\u001b[36m      test/cal/aECE      \u001b[0m\u001b[36m \u001b[0m│\u001b[35m \u001b[0m\u001b[35m   0.06774131953716278   \u001b[0m\u001b[35m \u001b[0m│\n",
       "│\u001b[36m \u001b[0m\u001b[36m      test/cls/Acc       \u001b[0m\u001b[36m \u001b[0m│\u001b[35m \u001b[0m\u001b[35m   0.8545309901237488    \u001b[0m\u001b[35m \u001b[0m│\n",
       "│\u001b[36m \u001b[0m\u001b[36m     test/cls/Brier      \u001b[0m\u001b[36m \u001b[0m│\u001b[35m \u001b[0m\u001b[35m   0.24172653257846832   \u001b[0m\u001b[35m \u001b[0m│\n",
       "│\u001b[36m \u001b[0m\u001b[36m      test/cls/NLL       \u001b[0m\u001b[36m \u001b[0m│\u001b[35m \u001b[0m\u001b[35m    0.46624955534935     \u001b[0m\u001b[35m \u001b[0m│\n",
       "│\u001b[36m \u001b[0m\u001b[36m    test/cls/entropy     \u001b[0m\u001b[36m \u001b[0m│\u001b[35m \u001b[0m\u001b[35m   0.22720664739608765   \u001b[0m\u001b[35m \u001b[0m│\n",
       "│\u001b[36m \u001b[0m\u001b[36m  test/ens_Disagreement  \u001b[0m\u001b[36m \u001b[0m│\u001b[35m \u001b[0m\u001b[35m  0.055166926234960556   \u001b[0m\u001b[35m \u001b[0m│\n",
       "│\u001b[36m \u001b[0m\u001b[36m    test/ens_Entropy     \u001b[0m\u001b[36m \u001b[0m│\u001b[35m \u001b[0m\u001b[35m   0.1955089569091797    \u001b[0m\u001b[35m \u001b[0m│\n",
       "│\u001b[36m \u001b[0m\u001b[36m       test/ens_MI       \u001b[0m\u001b[36m \u001b[0m│\u001b[35m \u001b[0m\u001b[35m   0.03169769048690796   \u001b[0m\u001b[35m \u001b[0m│\n",
       "│\u001b[36m \u001b[0m\u001b[36m      test/sc/AUGRC      \u001b[0m\u001b[36m \u001b[0m│\u001b[35m \u001b[0m\u001b[35m  0.049928031861782074   \u001b[0m\u001b[35m \u001b[0m│\n",
       "│\u001b[36m \u001b[0m\u001b[36m      test/sc/AURC       \u001b[0m\u001b[36m \u001b[0m│\u001b[35m \u001b[0m\u001b[35m   0.08816985785961151   \u001b[0m\u001b[35m \u001b[0m│\n",
       "│\u001b[36m \u001b[0m\u001b[36m   test/sc/CovAt5Risk    \u001b[0m\u001b[36m \u001b[0m│\u001b[35m \u001b[0m\u001b[35m           nan           \u001b[0m\u001b[35m \u001b[0m│\n",
       "│\u001b[36m \u001b[0m\u001b[36m   test/sc/RiskAt80Cov   \u001b[0m\u001b[36m \u001b[0m│\u001b[35m \u001b[0m\u001b[35m   0.11221449822187424   \u001b[0m\u001b[35m \u001b[0m│\n",
       "└───────────────────────────┴───────────────────────────┘\n"
      ]
     },
     "metadata": {},
     "output_type": "display_data"
    },
    {
     "name": "stderr",
     "output_type": "stream",
     "text": [
      "LOCAL_RANK: 0 - CUDA_VISIBLE_DEVICES: [0]\n",
      "/home/ubuntu/anaconda3/lib/python3.11/site-packages/lightning/pytorch/trainer/connectors/data_connector.py:424: The 'test_dataloader' does not have many workers which may be a bottleneck. Consider increasing the value of the `num_workers` argument` to `num_workers=63` in the `DataLoader` to improve performance.\n"
     ]
    },
    {
     "data": {
      "text/html": [
       "<pre style=\"white-space:pre;overflow-x:auto;line-height:normal;font-family:Menlo,'DejaVu Sans Mono',consolas,'Courier New',monospace\">┏━━━━━━━━━━━━━━━━━━━━━━━━━━━┳━━━━━━━━━━━━━━━━━━━━━━━━━━━┓\n",
       "┃<span style=\"font-weight: bold\">        Test metric        </span>┃<span style=\"font-weight: bold\">       DataLoader 0        </span>┃\n",
       "┡━━━━━━━━━━━━━━━━━━━━━━━━━━━╇━━━━━━━━━━━━━━━━━━━━━━━━━━━┩\n",
       "│<span style=\"color: #008080; text-decoration-color: #008080\">       test/cal/ECE        </span>│<span style=\"color: #800080; text-decoration-color: #800080\">    0.07626128941774368    </span>│\n",
       "│<span style=\"color: #008080; text-decoration-color: #008080\">       test/cal/aECE       </span>│<span style=\"color: #800080; text-decoration-color: #800080\">    0.07271386682987213    </span>│\n",
       "│<span style=\"color: #008080; text-decoration-color: #008080\">       test/cls/Acc        </span>│<span style=\"color: #800080; text-decoration-color: #800080\">    0.8534548282623291     </span>│\n",
       "│<span style=\"color: #008080; text-decoration-color: #008080\">      test/cls/Brier       </span>│<span style=\"color: #800080; text-decoration-color: #800080\">    0.2474191039800644     </span>│\n",
       "│<span style=\"color: #008080; text-decoration-color: #008080\">       test/cls/NLL        </span>│<span style=\"color: #800080; text-decoration-color: #800080\">    0.5244074463844299     </span>│\n",
       "│<span style=\"color: #008080; text-decoration-color: #008080\">     test/cls/entropy      </span>│<span style=\"color: #800080; text-decoration-color: #800080\">    0.20014695823192596    </span>│\n",
       "│<span style=\"color: #008080; text-decoration-color: #008080\">   test/ens_Disagreement   </span>│<span style=\"color: #800080; text-decoration-color: #800080\">    0.04862135648727417    </span>│\n",
       "│<span style=\"color: #008080; text-decoration-color: #008080\">     test/ens_Entropy      </span>│<span style=\"color: #800080; text-decoration-color: #800080\">    0.18536202609539032    </span>│\n",
       "│<span style=\"color: #008080; text-decoration-color: #008080\">        test/ens_MI        </span>│<span style=\"color: #800080; text-decoration-color: #800080\">   0.028004752472043037    </span>│\n",
       "│<span style=\"color: #008080; text-decoration-color: #008080\">       test/sc/AUGRC       </span>│<span style=\"color: #800080; text-decoration-color: #800080\">   0.056243397295475006    </span>│\n",
       "│<span style=\"color: #008080; text-decoration-color: #008080\">       test/sc/AURC        </span>│<span style=\"color: #800080; text-decoration-color: #800080\">    0.10666695237159729    </span>│\n",
       "│<span style=\"color: #008080; text-decoration-color: #008080\">    test/sc/CovAt5Risk     </span>│<span style=\"color: #800080; text-decoration-color: #800080\">            nan            </span>│\n",
       "│<span style=\"color: #008080; text-decoration-color: #008080\">    test/sc/RiskAt80Cov    </span>│<span style=\"color: #800080; text-decoration-color: #800080\">    0.11290322244167328    </span>│\n",
       "└───────────────────────────┴───────────────────────────┘\n",
       "</pre>\n"
      ],
      "text/plain": [
       "┏━━━━━━━━━━━━━━━━━━━━━━━━━━━┳━━━━━━━━━━━━━━━━━━━━━━━━━━━┓\n",
       "┃\u001b[1m \u001b[0m\u001b[1m       Test metric       \u001b[0m\u001b[1m \u001b[0m┃\u001b[1m \u001b[0m\u001b[1m      DataLoader 0       \u001b[0m\u001b[1m \u001b[0m┃\n",
       "┡━━━━━━━━━━━━━━━━━━━━━━━━━━━╇━━━━━━━━━━━━━━━━━━━━━━━━━━━┩\n",
       "│\u001b[36m \u001b[0m\u001b[36m      test/cal/ECE       \u001b[0m\u001b[36m \u001b[0m│\u001b[35m \u001b[0m\u001b[35m   0.07626128941774368   \u001b[0m\u001b[35m \u001b[0m│\n",
       "│\u001b[36m \u001b[0m\u001b[36m      test/cal/aECE      \u001b[0m\u001b[36m \u001b[0m│\u001b[35m \u001b[0m\u001b[35m   0.07271386682987213   \u001b[0m\u001b[35m \u001b[0m│\n",
       "│\u001b[36m \u001b[0m\u001b[36m      test/cls/Acc       \u001b[0m\u001b[36m \u001b[0m│\u001b[35m \u001b[0m\u001b[35m   0.8534548282623291    \u001b[0m\u001b[35m \u001b[0m│\n",
       "│\u001b[36m \u001b[0m\u001b[36m     test/cls/Brier      \u001b[0m\u001b[36m \u001b[0m│\u001b[35m \u001b[0m\u001b[35m   0.2474191039800644    \u001b[0m\u001b[35m \u001b[0m│\n",
       "│\u001b[36m \u001b[0m\u001b[36m      test/cls/NLL       \u001b[0m\u001b[36m \u001b[0m│\u001b[35m \u001b[0m\u001b[35m   0.5244074463844299    \u001b[0m\u001b[35m \u001b[0m│\n",
       "│\u001b[36m \u001b[0m\u001b[36m    test/cls/entropy     \u001b[0m\u001b[36m \u001b[0m│\u001b[35m \u001b[0m\u001b[35m   0.20014695823192596   \u001b[0m\u001b[35m \u001b[0m│\n",
       "│\u001b[36m \u001b[0m\u001b[36m  test/ens_Disagreement  \u001b[0m\u001b[36m \u001b[0m│\u001b[35m \u001b[0m\u001b[35m   0.04862135648727417   \u001b[0m\u001b[35m \u001b[0m│\n",
       "│\u001b[36m \u001b[0m\u001b[36m    test/ens_Entropy     \u001b[0m\u001b[36m \u001b[0m│\u001b[35m \u001b[0m\u001b[35m   0.18536202609539032   \u001b[0m\u001b[35m \u001b[0m│\n",
       "│\u001b[36m \u001b[0m\u001b[36m       test/ens_MI       \u001b[0m\u001b[36m \u001b[0m│\u001b[35m \u001b[0m\u001b[35m  0.028004752472043037   \u001b[0m\u001b[35m \u001b[0m│\n",
       "│\u001b[36m \u001b[0m\u001b[36m      test/sc/AUGRC      \u001b[0m\u001b[36m \u001b[0m│\u001b[35m \u001b[0m\u001b[35m  0.056243397295475006   \u001b[0m\u001b[35m \u001b[0m│\n",
       "│\u001b[36m \u001b[0m\u001b[36m      test/sc/AURC       \u001b[0m\u001b[36m \u001b[0m│\u001b[35m \u001b[0m\u001b[35m   0.10666695237159729   \u001b[0m\u001b[35m \u001b[0m│\n",
       "│\u001b[36m \u001b[0m\u001b[36m   test/sc/CovAt5Risk    \u001b[0m\u001b[36m \u001b[0m│\u001b[35m \u001b[0m\u001b[35m           nan           \u001b[0m\u001b[35m \u001b[0m│\n",
       "│\u001b[36m \u001b[0m\u001b[36m   test/sc/RiskAt80Cov   \u001b[0m\u001b[36m \u001b[0m│\u001b[35m \u001b[0m\u001b[35m   0.11290322244167328   \u001b[0m\u001b[35m \u001b[0m│\n",
       "└───────────────────────────┴───────────────────────────┘\n"
      ]
     },
     "metadata": {},
     "output_type": "display_data"
    },
    {
     "name": "stderr",
     "output_type": "stream",
     "text": [
      "LOCAL_RANK: 0 - CUDA_VISIBLE_DEVICES: [0]\n",
      "/home/ubuntu/anaconda3/lib/python3.11/site-packages/lightning/pytorch/trainer/connectors/data_connector.py:424: The 'test_dataloader' does not have many workers which may be a bottleneck. Consider increasing the value of the `num_workers` argument` to `num_workers=63` in the `DataLoader` to improve performance.\n"
     ]
    },
    {
     "data": {
      "text/html": [
       "<pre style=\"white-space:pre;overflow-x:auto;line-height:normal;font-family:Menlo,'DejaVu Sans Mono',consolas,'Courier New',monospace\">┏━━━━━━━━━━━━━━━━━━━━━━━━━━━┳━━━━━━━━━━━━━━━━━━━━━━━━━━━┓\n",
       "┃<span style=\"font-weight: bold\">        Test metric        </span>┃<span style=\"font-weight: bold\">       DataLoader 0        </span>┃\n",
       "┡━━━━━━━━━━━━━━━━━━━━━━━━━━━╇━━━━━━━━━━━━━━━━━━━━━━━━━━━┩\n",
       "│<span style=\"color: #008080; text-decoration-color: #008080\">       test/cal/ECE        </span>│<span style=\"color: #800080; text-decoration-color: #800080\">   0.015700500458478928    </span>│\n",
       "│<span style=\"color: #008080; text-decoration-color: #008080\">       test/cal/aECE       </span>│<span style=\"color: #800080; text-decoration-color: #800080\">   0.015495961531996727    </span>│\n",
       "│<span style=\"color: #008080; text-decoration-color: #008080\">       test/cls/Acc        </span>│<span style=\"color: #800080; text-decoration-color: #800080\">    0.9756757020950317     </span>│\n",
       "│<span style=\"color: #008080; text-decoration-color: #008080\">      test/cls/Brier       </span>│<span style=\"color: #800080; text-decoration-color: #800080\">    0.04498519003391266    </span>│\n",
       "│<span style=\"color: #008080; text-decoration-color: #008080\">       test/cls/NLL        </span>│<span style=\"color: #800080; text-decoration-color: #800080\">    0.10575079172849655    </span>│\n",
       "│<span style=\"color: #008080; text-decoration-color: #008080\">     test/cls/entropy      </span>│<span style=\"color: #800080; text-decoration-color: #800080\">    0.09045953303575516    </span>│\n",
       "│<span style=\"color: #008080; text-decoration-color: #008080\">   test/ens_Disagreement   </span>│<span style=\"color: #800080; text-decoration-color: #800080\">    0.03274243697524071    </span>│\n",
       "│<span style=\"color: #008080; text-decoration-color: #008080\">     test/ens_Entropy      </span>│<span style=\"color: #800080; text-decoration-color: #800080\">    0.13571888208389282    </span>│\n",
       "│<span style=\"color: #008080; text-decoration-color: #008080\">        test/ens_MI        </span>│<span style=\"color: #800080; text-decoration-color: #800080\">   0.020744020119309425    </span>│\n",
       "│<span style=\"color: #008080; text-decoration-color: #008080\">       test/sc/AUGRC       </span>│<span style=\"color: #800080; text-decoration-color: #800080\">   0.005414742510765791    </span>│\n",
       "│<span style=\"color: #008080; text-decoration-color: #008080\">       test/sc/AURC        </span>│<span style=\"color: #800080; text-decoration-color: #800080\">   0.008556423708796501    </span>│\n",
       "│<span style=\"color: #008080; text-decoration-color: #008080\">    test/sc/CovAt5Risk     </span>│<span style=\"color: #800080; text-decoration-color: #800080\">            1.0            </span>│\n",
       "│<span style=\"color: #008080; text-decoration-color: #008080\">    test/sc/RiskAt80Cov    </span>│<span style=\"color: #800080; text-decoration-color: #800080\">   0.012387387454509735    </span>│\n",
       "└───────────────────────────┴───────────────────────────┘\n",
       "</pre>\n"
      ],
      "text/plain": [
       "┏━━━━━━━━━━━━━━━━━━━━━━━━━━━┳━━━━━━━━━━━━━━━━━━━━━━━━━━━┓\n",
       "┃\u001b[1m \u001b[0m\u001b[1m       Test metric       \u001b[0m\u001b[1m \u001b[0m┃\u001b[1m \u001b[0m\u001b[1m      DataLoader 0       \u001b[0m\u001b[1m \u001b[0m┃\n",
       "┡━━━━━━━━━━━━━━━━━━━━━━━━━━━╇━━━━━━━━━━━━━━━━━━━━━━━━━━━┩\n",
       "│\u001b[36m \u001b[0m\u001b[36m      test/cal/ECE       \u001b[0m\u001b[36m \u001b[0m│\u001b[35m \u001b[0m\u001b[35m  0.015700500458478928   \u001b[0m\u001b[35m \u001b[0m│\n",
       "│\u001b[36m \u001b[0m\u001b[36m      test/cal/aECE      \u001b[0m\u001b[36m \u001b[0m│\u001b[35m \u001b[0m\u001b[35m  0.015495961531996727   \u001b[0m\u001b[35m \u001b[0m│\n",
       "│\u001b[36m \u001b[0m\u001b[36m      test/cls/Acc       \u001b[0m\u001b[36m \u001b[0m│\u001b[35m \u001b[0m\u001b[35m   0.9756757020950317    \u001b[0m\u001b[35m \u001b[0m│\n",
       "│\u001b[36m \u001b[0m\u001b[36m     test/cls/Brier      \u001b[0m\u001b[36m \u001b[0m│\u001b[35m \u001b[0m\u001b[35m   0.04498519003391266   \u001b[0m\u001b[35m \u001b[0m│\n",
       "│\u001b[36m \u001b[0m\u001b[36m      test/cls/NLL       \u001b[0m\u001b[36m \u001b[0m│\u001b[35m \u001b[0m\u001b[35m   0.10575079172849655   \u001b[0m\u001b[35m \u001b[0m│\n",
       "│\u001b[36m \u001b[0m\u001b[36m    test/cls/entropy     \u001b[0m\u001b[36m \u001b[0m│\u001b[35m \u001b[0m\u001b[35m   0.09045953303575516   \u001b[0m\u001b[35m \u001b[0m│\n",
       "│\u001b[36m \u001b[0m\u001b[36m  test/ens_Disagreement  \u001b[0m\u001b[36m \u001b[0m│\u001b[35m \u001b[0m\u001b[35m   0.03274243697524071   \u001b[0m\u001b[35m \u001b[0m│\n",
       "│\u001b[36m \u001b[0m\u001b[36m    test/ens_Entropy     \u001b[0m\u001b[36m \u001b[0m│\u001b[35m \u001b[0m\u001b[35m   0.13571888208389282   \u001b[0m\u001b[35m \u001b[0m│\n",
       "│\u001b[36m \u001b[0m\u001b[36m       test/ens_MI       \u001b[0m\u001b[36m \u001b[0m│\u001b[35m \u001b[0m\u001b[35m  0.020744020119309425   \u001b[0m\u001b[35m \u001b[0m│\n",
       "│\u001b[36m \u001b[0m\u001b[36m      test/sc/AUGRC      \u001b[0m\u001b[36m \u001b[0m│\u001b[35m \u001b[0m\u001b[35m  0.005414742510765791   \u001b[0m\u001b[35m \u001b[0m│\n",
       "│\u001b[36m \u001b[0m\u001b[36m      test/sc/AURC       \u001b[0m\u001b[36m \u001b[0m│\u001b[35m \u001b[0m\u001b[35m  0.008556423708796501   \u001b[0m\u001b[35m \u001b[0m│\n",
       "│\u001b[36m \u001b[0m\u001b[36m   test/sc/CovAt5Risk    \u001b[0m\u001b[36m \u001b[0m│\u001b[35m \u001b[0m\u001b[35m           1.0           \u001b[0m\u001b[35m \u001b[0m│\n",
       "│\u001b[36m \u001b[0m\u001b[36m   test/sc/RiskAt80Cov   \u001b[0m\u001b[36m \u001b[0m│\u001b[35m \u001b[0m\u001b[35m  0.012387387454509735   \u001b[0m\u001b[35m \u001b[0m│\n",
       "└───────────────────────────┴───────────────────────────┘\n"
      ]
     },
     "metadata": {},
     "output_type": "display_data"
    },
    {
     "name": "stderr",
     "output_type": "stream",
     "text": [
      "LOCAL_RANK: 0 - CUDA_VISIBLE_DEVICES: [0]\n",
      "/home/ubuntu/anaconda3/lib/python3.11/site-packages/lightning/pytorch/trainer/connectors/data_connector.py:424: The 'test_dataloader' does not have many workers which may be a bottleneck. Consider increasing the value of the `num_workers` argument` to `num_workers=63` in the `DataLoader` to improve performance.\n"
     ]
    },
    {
     "data": {
      "text/html": [
       "<pre style=\"white-space:pre;overflow-x:auto;line-height:normal;font-family:Menlo,'DejaVu Sans Mono',consolas,'Courier New',monospace\">┏━━━━━━━━━━━━━━━━━━━━━━━━━━━┳━━━━━━━━━━━━━━━━━━━━━━━━━━━┓\n",
       "┃<span style=\"font-weight: bold\">        Test metric        </span>┃<span style=\"font-weight: bold\">       DataLoader 0        </span>┃\n",
       "┡━━━━━━━━━━━━━━━━━━━━━━━━━━━╇━━━━━━━━━━━━━━━━━━━━━━━━━━━┩\n",
       "│<span style=\"color: #008080; text-decoration-color: #008080\">       test/cal/ECE        </span>│<span style=\"color: #800080; text-decoration-color: #800080\">   0.005451219622045755    </span>│\n",
       "│<span style=\"color: #008080; text-decoration-color: #008080\">       test/cal/aECE       </span>│<span style=\"color: #800080; text-decoration-color: #800080\">   0.014581508003175259    </span>│\n",
       "│<span style=\"color: #008080; text-decoration-color: #008080\">       test/cls/Acc        </span>│<span style=\"color: #800080; text-decoration-color: #800080\">    0.9900990128517151     </span>│\n",
       "│<span style=\"color: #008080; text-decoration-color: #008080\">      test/cls/Brier       </span>│<span style=\"color: #800080; text-decoration-color: #800080\">    0.0204743891954422     </span>│\n",
       "│<span style=\"color: #008080; text-decoration-color: #008080\">       test/cls/NLL        </span>│<span style=\"color: #800080; text-decoration-color: #800080\">    0.06604210287332535    </span>│\n",
       "│<span style=\"color: #008080; text-decoration-color: #008080\">     test/cls/entropy      </span>│<span style=\"color: #800080; text-decoration-color: #800080\">   0.056853678077459335    </span>│\n",
       "│<span style=\"color: #008080; text-decoration-color: #008080\">   test/ens_Disagreement   </span>│<span style=\"color: #800080; text-decoration-color: #800080\">    0.02254524640738964    </span>│\n",
       "│<span style=\"color: #008080; text-decoration-color: #008080\">     test/ens_Entropy      </span>│<span style=\"color: #800080; text-decoration-color: #800080\">    0.10909456014633179    </span>│\n",
       "│<span style=\"color: #008080; text-decoration-color: #008080\">        test/ens_MI        </span>│<span style=\"color: #800080; text-decoration-color: #800080\">   0.015826135873794556    </span>│\n",
       "│<span style=\"color: #008080; text-decoration-color: #008080\">       test/sc/AUGRC       </span>│<span style=\"color: #800080; text-decoration-color: #800080\">   0.004269246943295002    </span>│\n",
       "│<span style=\"color: #008080; text-decoration-color: #008080\">       test/sc/AURC        </span>│<span style=\"color: #800080; text-decoration-color: #800080\">   0.006834014784544706    </span>│\n",
       "│<span style=\"color: #008080; text-decoration-color: #008080\">    test/sc/CovAt5Risk     </span>│<span style=\"color: #800080; text-decoration-color: #800080\">            1.0            </span>│\n",
       "│<span style=\"color: #008080; text-decoration-color: #008080\">    test/sc/RiskAt80Cov    </span>│<span style=\"color: #800080; text-decoration-color: #800080\">   0.008998875506222248    </span>│\n",
       "└───────────────────────────┴───────────────────────────┘\n",
       "</pre>\n"
      ],
      "text/plain": [
       "┏━━━━━━━━━━━━━━━━━━━━━━━━━━━┳━━━━━━━━━━━━━━━━━━━━━━━━━━━┓\n",
       "┃\u001b[1m \u001b[0m\u001b[1m       Test metric       \u001b[0m\u001b[1m \u001b[0m┃\u001b[1m \u001b[0m\u001b[1m      DataLoader 0       \u001b[0m\u001b[1m \u001b[0m┃\n",
       "┡━━━━━━━━━━━━━━━━━━━━━━━━━━━╇━━━━━━━━━━━━━━━━━━━━━━━━━━━┩\n",
       "│\u001b[36m \u001b[0m\u001b[36m      test/cal/ECE       \u001b[0m\u001b[36m \u001b[0m│\u001b[35m \u001b[0m\u001b[35m  0.005451219622045755   \u001b[0m\u001b[35m \u001b[0m│\n",
       "│\u001b[36m \u001b[0m\u001b[36m      test/cal/aECE      \u001b[0m\u001b[36m \u001b[0m│\u001b[35m \u001b[0m\u001b[35m  0.014581508003175259   \u001b[0m\u001b[35m \u001b[0m│\n",
       "│\u001b[36m \u001b[0m\u001b[36m      test/cls/Acc       \u001b[0m\u001b[36m \u001b[0m│\u001b[35m \u001b[0m\u001b[35m   0.9900990128517151    \u001b[0m\u001b[35m \u001b[0m│\n",
       "│\u001b[36m \u001b[0m\u001b[36m     test/cls/Brier      \u001b[0m\u001b[36m \u001b[0m│\u001b[35m \u001b[0m\u001b[35m   0.0204743891954422    \u001b[0m\u001b[35m \u001b[0m│\n",
       "│\u001b[36m \u001b[0m\u001b[36m      test/cls/NLL       \u001b[0m\u001b[36m \u001b[0m│\u001b[35m \u001b[0m\u001b[35m   0.06604210287332535   \u001b[0m\u001b[35m \u001b[0m│\n",
       "│\u001b[36m \u001b[0m\u001b[36m    test/cls/entropy     \u001b[0m\u001b[36m \u001b[0m│\u001b[35m \u001b[0m\u001b[35m  0.056853678077459335   \u001b[0m\u001b[35m \u001b[0m│\n",
       "│\u001b[36m \u001b[0m\u001b[36m  test/ens_Disagreement  \u001b[0m\u001b[36m \u001b[0m│\u001b[35m \u001b[0m\u001b[35m   0.02254524640738964   \u001b[0m\u001b[35m \u001b[0m│\n",
       "│\u001b[36m \u001b[0m\u001b[36m    test/ens_Entropy     \u001b[0m\u001b[36m \u001b[0m│\u001b[35m \u001b[0m\u001b[35m   0.10909456014633179   \u001b[0m\u001b[35m \u001b[0m│\n",
       "│\u001b[36m \u001b[0m\u001b[36m       test/ens_MI       \u001b[0m\u001b[36m \u001b[0m│\u001b[35m \u001b[0m\u001b[35m  0.015826135873794556   \u001b[0m\u001b[35m \u001b[0m│\n",
       "│\u001b[36m \u001b[0m\u001b[36m      test/sc/AUGRC      \u001b[0m\u001b[36m \u001b[0m│\u001b[35m \u001b[0m\u001b[35m  0.004269246943295002   \u001b[0m\u001b[35m \u001b[0m│\n",
       "│\u001b[36m \u001b[0m\u001b[36m      test/sc/AURC       \u001b[0m\u001b[36m \u001b[0m│\u001b[35m \u001b[0m\u001b[35m  0.006834014784544706   \u001b[0m\u001b[35m \u001b[0m│\n",
       "│\u001b[36m \u001b[0m\u001b[36m   test/sc/CovAt5Risk    \u001b[0m\u001b[36m \u001b[0m│\u001b[35m \u001b[0m\u001b[35m           1.0           \u001b[0m\u001b[35m \u001b[0m│\n",
       "│\u001b[36m \u001b[0m\u001b[36m   test/sc/RiskAt80Cov   \u001b[0m\u001b[36m \u001b[0m│\u001b[35m \u001b[0m\u001b[35m  0.008998875506222248   \u001b[0m\u001b[35m \u001b[0m│\n",
       "└───────────────────────────┴───────────────────────────┘\n"
      ]
     },
     "metadata": {},
     "output_type": "display_data"
    },
    {
     "name": "stderr",
     "output_type": "stream",
     "text": [
      "LOCAL_RANK: 0 - CUDA_VISIBLE_DEVICES: [0]\n",
      "/home/ubuntu/anaconda3/lib/python3.11/site-packages/lightning/pytorch/trainer/connectors/data_connector.py:424: The 'test_dataloader' does not have many workers which may be a bottleneck. Consider increasing the value of the `num_workers` argument` to `num_workers=63` in the `DataLoader` to improve performance.\n"
     ]
    },
    {
     "data": {
      "text/html": [
       "<pre style=\"white-space:pre;overflow-x:auto;line-height:normal;font-family:Menlo,'DejaVu Sans Mono',consolas,'Courier New',monospace\">┏━━━━━━━━━━━━━━━━━━━━━━━━━━━┳━━━━━━━━━━━━━━━━━━━━━━━━━━━┓\n",
       "┃<span style=\"font-weight: bold\">        Test metric        </span>┃<span style=\"font-weight: bold\">       DataLoader 0        </span>┃\n",
       "┡━━━━━━━━━━━━━━━━━━━━━━━━━━━╇━━━━━━━━━━━━━━━━━━━━━━━━━━━┩\n",
       "│<span style=\"color: #008080; text-decoration-color: #008080\">       test/cal/ECE        </span>│<span style=\"color: #800080; text-decoration-color: #800080\">   0.017868097871541977    </span>│\n",
       "│<span style=\"color: #008080; text-decoration-color: #008080\">       test/cal/aECE       </span>│<span style=\"color: #800080; text-decoration-color: #800080\">    0.0230331402271986     </span>│\n",
       "│<span style=\"color: #008080; text-decoration-color: #008080\">       test/cls/Acc        </span>│<span style=\"color: #800080; text-decoration-color: #800080\">    0.9910833835601807     </span>│\n",
       "│<span style=\"color: #008080; text-decoration-color: #008080\">      test/cls/Brier       </span>│<span style=\"color: #800080; text-decoration-color: #800080\">   0.024123841896653175    </span>│\n",
       "│<span style=\"color: #008080; text-decoration-color: #008080\">       test/cls/NLL        </span>│<span style=\"color: #800080; text-decoration-color: #800080\">    0.0685005784034729     </span>│\n",
       "│<span style=\"color: #008080; text-decoration-color: #008080\">     test/cls/entropy      </span>│<span style=\"color: #800080; text-decoration-color: #800080\">    0.09129546582698822    </span>│\n",
       "│<span style=\"color: #008080; text-decoration-color: #008080\">   test/ens_Disagreement   </span>│<span style=\"color: #800080; text-decoration-color: #800080\">    0.01801295205950737    </span>│\n",
       "│<span style=\"color: #008080; text-decoration-color: #008080\">     test/ens_Entropy      </span>│<span style=\"color: #800080; text-decoration-color: #800080\">    0.10230584442615509    </span>│\n",
       "│<span style=\"color: #008080; text-decoration-color: #008080\">        test/ens_MI        </span>│<span style=\"color: #800080; text-decoration-color: #800080\">   0.014470003545284271    </span>│\n",
       "│<span style=\"color: #008080; text-decoration-color: #008080\">       test/sc/AUGRC       </span>│<span style=\"color: #800080; text-decoration-color: #800080\">   0.003307743463665247    </span>│\n",
       "│<span style=\"color: #008080; text-decoration-color: #008080\">       test/sc/AURC        </span>│<span style=\"color: #800080; text-decoration-color: #800080\">   0.005328421480953693    </span>│\n",
       "│<span style=\"color: #008080; text-decoration-color: #008080\">    test/sc/CovAt5Risk     </span>│<span style=\"color: #800080; text-decoration-color: #800080\">            1.0            </span>│\n",
       "│<span style=\"color: #008080; text-decoration-color: #008080\">    test/sc/RiskAt80Cov    </span>│<span style=\"color: #800080; text-decoration-color: #800080\">   0.008356546051800251    </span>│\n",
       "└───────────────────────────┴───────────────────────────┘\n",
       "</pre>\n"
      ],
      "text/plain": [
       "┏━━━━━━━━━━━━━━━━━━━━━━━━━━━┳━━━━━━━━━━━━━━━━━━━━━━━━━━━┓\n",
       "┃\u001b[1m \u001b[0m\u001b[1m       Test metric       \u001b[0m\u001b[1m \u001b[0m┃\u001b[1m \u001b[0m\u001b[1m      DataLoader 0       \u001b[0m\u001b[1m \u001b[0m┃\n",
       "┡━━━━━━━━━━━━━━━━━━━━━━━━━━━╇━━━━━━━━━━━━━━━━━━━━━━━━━━━┩\n",
       "│\u001b[36m \u001b[0m\u001b[36m      test/cal/ECE       \u001b[0m\u001b[36m \u001b[0m│\u001b[35m \u001b[0m\u001b[35m  0.017868097871541977   \u001b[0m\u001b[35m \u001b[0m│\n",
       "│\u001b[36m \u001b[0m\u001b[36m      test/cal/aECE      \u001b[0m\u001b[36m \u001b[0m│\u001b[35m \u001b[0m\u001b[35m   0.0230331402271986    \u001b[0m\u001b[35m \u001b[0m│\n",
       "│\u001b[36m \u001b[0m\u001b[36m      test/cls/Acc       \u001b[0m\u001b[36m \u001b[0m│\u001b[35m \u001b[0m\u001b[35m   0.9910833835601807    \u001b[0m\u001b[35m \u001b[0m│\n",
       "│\u001b[36m \u001b[0m\u001b[36m     test/cls/Brier      \u001b[0m\u001b[36m \u001b[0m│\u001b[35m \u001b[0m\u001b[35m  0.024123841896653175   \u001b[0m\u001b[35m \u001b[0m│\n",
       "│\u001b[36m \u001b[0m\u001b[36m      test/cls/NLL       \u001b[0m\u001b[36m \u001b[0m│\u001b[35m \u001b[0m\u001b[35m   0.0685005784034729    \u001b[0m\u001b[35m \u001b[0m│\n",
       "│\u001b[36m \u001b[0m\u001b[36m    test/cls/entropy     \u001b[0m\u001b[36m \u001b[0m│\u001b[35m \u001b[0m\u001b[35m   0.09129546582698822   \u001b[0m\u001b[35m \u001b[0m│\n",
       "│\u001b[36m \u001b[0m\u001b[36m  test/ens_Disagreement  \u001b[0m\u001b[36m \u001b[0m│\u001b[35m \u001b[0m\u001b[35m   0.01801295205950737   \u001b[0m\u001b[35m \u001b[0m│\n",
       "│\u001b[36m \u001b[0m\u001b[36m    test/ens_Entropy     \u001b[0m\u001b[36m \u001b[0m│\u001b[35m \u001b[0m\u001b[35m   0.10230584442615509   \u001b[0m\u001b[35m \u001b[0m│\n",
       "│\u001b[36m \u001b[0m\u001b[36m       test/ens_MI       \u001b[0m\u001b[36m \u001b[0m│\u001b[35m \u001b[0m\u001b[35m  0.014470003545284271   \u001b[0m\u001b[35m \u001b[0m│\n",
       "│\u001b[36m \u001b[0m\u001b[36m      test/sc/AUGRC      \u001b[0m\u001b[36m \u001b[0m│\u001b[35m \u001b[0m\u001b[35m  0.003307743463665247   \u001b[0m\u001b[35m \u001b[0m│\n",
       "│\u001b[36m \u001b[0m\u001b[36m      test/sc/AURC       \u001b[0m\u001b[36m \u001b[0m│\u001b[35m \u001b[0m\u001b[35m  0.005328421480953693   \u001b[0m\u001b[35m \u001b[0m│\n",
       "│\u001b[36m \u001b[0m\u001b[36m   test/sc/CovAt5Risk    \u001b[0m\u001b[36m \u001b[0m│\u001b[35m \u001b[0m\u001b[35m           1.0           \u001b[0m\u001b[35m \u001b[0m│\n",
       "│\u001b[36m \u001b[0m\u001b[36m   test/sc/RiskAt80Cov   \u001b[0m\u001b[36m \u001b[0m│\u001b[35m \u001b[0m\u001b[35m  0.008356546051800251   \u001b[0m\u001b[35m \u001b[0m│\n",
       "└───────────────────────────┴───────────────────────────┘\n"
      ]
     },
     "metadata": {},
     "output_type": "display_data"
    },
    {
     "name": "stderr",
     "output_type": "stream",
     "text": [
      "LOCAL_RANK: 0 - CUDA_VISIBLE_DEVICES: [0]\n",
      "/home/ubuntu/anaconda3/lib/python3.11/site-packages/lightning/pytorch/trainer/connectors/data_connector.py:424: The 'test_dataloader' does not have many workers which may be a bottleneck. Consider increasing the value of the `num_workers` argument` to `num_workers=63` in the `DataLoader` to improve performance.\n"
     ]
    },
    {
     "data": {
      "text/html": [
       "<pre style=\"white-space:pre;overflow-x:auto;line-height:normal;font-family:Menlo,'DejaVu Sans Mono',consolas,'Courier New',monospace\">┏━━━━━━━━━━━━━━━━━━━━━━━━━━━┳━━━━━━━━━━━━━━━━━━━━━━━━━━━┓\n",
       "┃<span style=\"font-weight: bold\">        Test metric        </span>┃<span style=\"font-weight: bold\">       DataLoader 0        </span>┃\n",
       "┡━━━━━━━━━━━━━━━━━━━━━━━━━━━╇━━━━━━━━━━━━━━━━━━━━━━━━━━━┩\n",
       "│<span style=\"color: #008080; text-decoration-color: #008080\">       test/cal/ECE        </span>│<span style=\"color: #800080; text-decoration-color: #800080\">    0.03915322944521904    </span>│\n",
       "│<span style=\"color: #008080; text-decoration-color: #008080\">       test/cal/aECE       </span>│<span style=\"color: #800080; text-decoration-color: #800080\">    0.03930535912513733    </span>│\n",
       "│<span style=\"color: #008080; text-decoration-color: #008080\">       test/cls/Acc        </span>│<span style=\"color: #800080; text-decoration-color: #800080\">    0.9308885931968689     </span>│\n",
       "│<span style=\"color: #008080; text-decoration-color: #008080\">      test/cls/Brier       </span>│<span style=\"color: #800080; text-decoration-color: #800080\">    0.1281997412443161     </span>│\n",
       "│<span style=\"color: #008080; text-decoration-color: #008080\">       test/cls/NLL        </span>│<span style=\"color: #800080; text-decoration-color: #800080\">    0.2800130844116211     </span>│\n",
       "│<span style=\"color: #008080; text-decoration-color: #008080\">     test/cls/entropy      </span>│<span style=\"color: #800080; text-decoration-color: #800080\">    0.13652877509593964    </span>│\n",
       "│<span style=\"color: #008080; text-decoration-color: #008080\">   test/ens_Disagreement   </span>│<span style=\"color: #800080; text-decoration-color: #800080\">   0.018442079424858093    </span>│\n",
       "│<span style=\"color: #008080; text-decoration-color: #008080\">     test/ens_Entropy      </span>│<span style=\"color: #800080; text-decoration-color: #800080\">    0.10576514154672623    </span>│\n",
       "│<span style=\"color: #008080; text-decoration-color: #008080\">        test/ens_MI        </span>│<span style=\"color: #800080; text-decoration-color: #800080\">   0.014700394123792648    </span>│\n",
       "│<span style=\"color: #008080; text-decoration-color: #008080\">       test/sc/AUGRC       </span>│<span style=\"color: #800080; text-decoration-color: #800080\">   0.022996122017502785    </span>│\n",
       "│<span style=\"color: #008080; text-decoration-color: #008080\">       test/sc/AURC        </span>│<span style=\"color: #800080; text-decoration-color: #800080\">    0.03797542676329613    </span>│\n",
       "│<span style=\"color: #008080; text-decoration-color: #008080\">    test/sc/CovAt5Risk     </span>│<span style=\"color: #800080; text-decoration-color: #800080\">    0.8199341893196106     </span>│\n",
       "│<span style=\"color: #008080; text-decoration-color: #008080\">    test/sc/RiskAt80Cov    </span>│<span style=\"color: #800080; text-decoration-color: #800080\">    0.04994124546647072    </span>│\n",
       "└───────────────────────────┴───────────────────────────┘\n",
       "</pre>\n"
      ],
      "text/plain": [
       "┏━━━━━━━━━━━━━━━━━━━━━━━━━━━┳━━━━━━━━━━━━━━━━━━━━━━━━━━━┓\n",
       "┃\u001b[1m \u001b[0m\u001b[1m       Test metric       \u001b[0m\u001b[1m \u001b[0m┃\u001b[1m \u001b[0m\u001b[1m      DataLoader 0       \u001b[0m\u001b[1m \u001b[0m┃\n",
       "┡━━━━━━━━━━━━━━━━━━━━━━━━━━━╇━━━━━━━━━━━━━━━━━━━━━━━━━━━┩\n",
       "│\u001b[36m \u001b[0m\u001b[36m      test/cal/ECE       \u001b[0m\u001b[36m \u001b[0m│\u001b[35m \u001b[0m\u001b[35m   0.03915322944521904   \u001b[0m\u001b[35m \u001b[0m│\n",
       "│\u001b[36m \u001b[0m\u001b[36m      test/cal/aECE      \u001b[0m\u001b[36m \u001b[0m│\u001b[35m \u001b[0m\u001b[35m   0.03930535912513733   \u001b[0m\u001b[35m \u001b[0m│\n",
       "│\u001b[36m \u001b[0m\u001b[36m      test/cls/Acc       \u001b[0m\u001b[36m \u001b[0m│\u001b[35m \u001b[0m\u001b[35m   0.9308885931968689    \u001b[0m\u001b[35m \u001b[0m│\n",
       "│\u001b[36m \u001b[0m\u001b[36m     test/cls/Brier      \u001b[0m\u001b[36m \u001b[0m│\u001b[35m \u001b[0m\u001b[35m   0.1281997412443161    \u001b[0m\u001b[35m \u001b[0m│\n",
       "│\u001b[36m \u001b[0m\u001b[36m      test/cls/NLL       \u001b[0m\u001b[36m \u001b[0m│\u001b[35m \u001b[0m\u001b[35m   0.2800130844116211    \u001b[0m\u001b[35m \u001b[0m│\n",
       "│\u001b[36m \u001b[0m\u001b[36m    test/cls/entropy     \u001b[0m\u001b[36m \u001b[0m│\u001b[35m \u001b[0m\u001b[35m   0.13652877509593964   \u001b[0m\u001b[35m \u001b[0m│\n",
       "│\u001b[36m \u001b[0m\u001b[36m  test/ens_Disagreement  \u001b[0m\u001b[36m \u001b[0m│\u001b[35m \u001b[0m\u001b[35m  0.018442079424858093   \u001b[0m\u001b[35m \u001b[0m│\n",
       "│\u001b[36m \u001b[0m\u001b[36m    test/ens_Entropy     \u001b[0m\u001b[36m \u001b[0m│\u001b[35m \u001b[0m\u001b[35m   0.10576514154672623   \u001b[0m\u001b[35m \u001b[0m│\n",
       "│\u001b[36m \u001b[0m\u001b[36m       test/ens_MI       \u001b[0m\u001b[36m \u001b[0m│\u001b[35m \u001b[0m\u001b[35m  0.014700394123792648   \u001b[0m\u001b[35m \u001b[0m│\n",
       "│\u001b[36m \u001b[0m\u001b[36m      test/sc/AUGRC      \u001b[0m\u001b[36m \u001b[0m│\u001b[35m \u001b[0m\u001b[35m  0.022996122017502785   \u001b[0m\u001b[35m \u001b[0m│\n",
       "│\u001b[36m \u001b[0m\u001b[36m      test/sc/AURC       \u001b[0m\u001b[36m \u001b[0m│\u001b[35m \u001b[0m\u001b[35m   0.03797542676329613   \u001b[0m\u001b[35m \u001b[0m│\n",
       "│\u001b[36m \u001b[0m\u001b[36m   test/sc/CovAt5Risk    \u001b[0m\u001b[36m \u001b[0m│\u001b[35m \u001b[0m\u001b[35m   0.8199341893196106    \u001b[0m\u001b[35m \u001b[0m│\n",
       "│\u001b[36m \u001b[0m\u001b[36m   test/sc/RiskAt80Cov   \u001b[0m\u001b[36m \u001b[0m│\u001b[35m \u001b[0m\u001b[35m   0.04994124546647072   \u001b[0m\u001b[35m \u001b[0m│\n",
       "└───────────────────────────┴───────────────────────────┘\n"
      ]
     },
     "metadata": {},
     "output_type": "display_data"
    },
    {
     "name": "stderr",
     "output_type": "stream",
     "text": [
      "100%|██████████| 6/6 [00:02<00:00,  2.69it/s]\n",
      " 67%|██████▋   | 2/3 [01:20<00:41, 41.96s/it]GPU available: True (cuda), used: True\n",
      "TPU available: False, using: 0 TPU cores\n",
      "HPU available: False, using: 0 HPUs\n",
      "LOCAL_RANK: 0 - CUDA_VISIBLE_DEVICES: [0]\n",
      "/home/ubuntu/anaconda3/lib/python3.11/site-packages/lightning/pytorch/core/optimizer.py:377: Found unsupported keys in the optimizer configuration: {'scheduler'}\n",
      "\n",
      "  | Name                | Type             | Params | Mode \n",
      "-----------------------------------------------------------------\n",
      "0 | model               | MCDropout        | 115 K  | train\n",
      "1 | loss                | CrossEntropyLoss | 0      | train\n",
      "2 | format_batch_fn     | Identity         | 0      | train\n",
      "3 | val_cls_metrics     | MetricCollection | 0      | train\n",
      "4 | test_cls_metrics    | MetricCollection | 0      | train\n",
      "5 | test_id_entropy     | Entropy          | 0      | train\n",
      "6 | test_id_ens_metrics | MetricCollection | 0      | train\n",
      "7 | mixup               | Identity         | 0      | train\n",
      "-----------------------------------------------------------------\n",
      "115 K     Trainable params\n",
      "0         Non-trainable params\n",
      "115 K     Total params\n",
      "0.460     Total estimated model params size (MB)\n",
      "33        Modules in train mode\n",
      "0         Modules in eval mode\n",
      "/home/ubuntu/anaconda3/lib/python3.11/site-packages/lightning/pytorch/trainer/connectors/data_connector.py:424: The 'val_dataloader' does not have many workers which may be a bottleneck. Consider increasing the value of the `num_workers` argument` to `num_workers=63` in the `DataLoader` to improve performance.\n",
      "/home/ubuntu/anaconda3/lib/python3.11/site-packages/lightning/pytorch/trainer/connectors/data_connector.py:424: The 'train_dataloader' does not have many workers which may be a bottleneck. Consider increasing the value of the `num_workers` argument` to `num_workers=63` in the `DataLoader` to improve performance.\n",
      "`Trainer.fit` stopped: `max_epochs=50` reached.\n",
      "LOCAL_RANK: 0 - CUDA_VISIBLE_DEVICES: [0]\n",
      "/home/ubuntu/anaconda3/lib/python3.11/site-packages/lightning/pytorch/trainer/connectors/data_connector.py:424: The 'test_dataloader' does not have many workers which may be a bottleneck. Consider increasing the value of the `num_workers` argument` to `num_workers=63` in the `DataLoader` to improve performance.\n"
     ]
    },
    {
     "data": {
      "text/html": [
       "<pre style=\"white-space:pre;overflow-x:auto;line-height:normal;font-family:Menlo,'DejaVu Sans Mono',consolas,'Courier New',monospace\">┏━━━━━━━━━━━━━━━━━━━━━━━━━━━┳━━━━━━━━━━━━━━━━━━━━━━━━━━━┓\n",
       "┃<span style=\"font-weight: bold\">        Test metric        </span>┃<span style=\"font-weight: bold\">       DataLoader 0        </span>┃\n",
       "┡━━━━━━━━━━━━━━━━━━━━━━━━━━━╇━━━━━━━━━━━━━━━━━━━━━━━━━━━┩\n",
       "│<span style=\"color: #008080; text-decoration-color: #008080\">       test/cal/ECE        </span>│<span style=\"color: #800080; text-decoration-color: #800080\">    0.03583034127950668    </span>│\n",
       "│<span style=\"color: #008080; text-decoration-color: #008080\">       test/cal/aECE       </span>│<span style=\"color: #800080; text-decoration-color: #800080\">    0.03547325357794762    </span>│\n",
       "│<span style=\"color: #008080; text-decoration-color: #008080\">       test/cls/Acc        </span>│<span style=\"color: #800080; text-decoration-color: #800080\">    0.7936561703681946     </span>│\n",
       "│<span style=\"color: #008080; text-decoration-color: #008080\">      test/cls/Brier       </span>│<span style=\"color: #800080; text-decoration-color: #800080\">    0.2963554263114929     </span>│\n",
       "│<span style=\"color: #008080; text-decoration-color: #008080\">       test/cls/NLL        </span>│<span style=\"color: #800080; text-decoration-color: #800080\">    0.4690166711807251     </span>│\n",
       "│<span style=\"color: #008080; text-decoration-color: #008080\">     test/cls/entropy      </span>│<span style=\"color: #800080; text-decoration-color: #800080\">    0.38211891055107117    </span>│\n",
       "│<span style=\"color: #008080; text-decoration-color: #008080\">   test/ens_Disagreement   </span>│<span style=\"color: #800080; text-decoration-color: #800080\">    0.1266995519399643     </span>│\n",
       "│<span style=\"color: #008080; text-decoration-color: #008080\">     test/ens_Entropy      </span>│<span style=\"color: #800080; text-decoration-color: #800080\">    0.33303308486938477    </span>│\n",
       "│<span style=\"color: #008080; text-decoration-color: #008080\">        test/ens_MI        </span>│<span style=\"color: #800080; text-decoration-color: #800080\">    0.04908604547381401    </span>│\n",
       "│<span style=\"color: #008080; text-decoration-color: #008080\">       test/sc/AUGRC       </span>│<span style=\"color: #800080; text-decoration-color: #800080\">    0.06631206721067429    </span>│\n",
       "│<span style=\"color: #008080; text-decoration-color: #008080\">       test/sc/AURC        </span>│<span style=\"color: #800080; text-decoration-color: #800080\">    0.10380266606807709    </span>│\n",
       "│<span style=\"color: #008080; text-decoration-color: #008080\">    test/sc/CovAt5Risk     </span>│<span style=\"color: #800080; text-decoration-color: #800080\">            nan            </span>│\n",
       "│<span style=\"color: #008080; text-decoration-color: #008080\">    test/sc/RiskAt80Cov    </span>│<span style=\"color: #800080; text-decoration-color: #800080\">    0.15417896211147308    </span>│\n",
       "└───────────────────────────┴───────────────────────────┘\n",
       "</pre>\n"
      ],
      "text/plain": [
       "┏━━━━━━━━━━━━━━━━━━━━━━━━━━━┳━━━━━━━━━━━━━━━━━━━━━━━━━━━┓\n",
       "┃\u001b[1m \u001b[0m\u001b[1m       Test metric       \u001b[0m\u001b[1m \u001b[0m┃\u001b[1m \u001b[0m\u001b[1m      DataLoader 0       \u001b[0m\u001b[1m \u001b[0m┃\n",
       "┡━━━━━━━━━━━━━━━━━━━━━━━━━━━╇━━━━━━━━━━━━━━━━━━━━━━━━━━━┩\n",
       "│\u001b[36m \u001b[0m\u001b[36m      test/cal/ECE       \u001b[0m\u001b[36m \u001b[0m│\u001b[35m \u001b[0m\u001b[35m   0.03583034127950668   \u001b[0m\u001b[35m \u001b[0m│\n",
       "│\u001b[36m \u001b[0m\u001b[36m      test/cal/aECE      \u001b[0m\u001b[36m \u001b[0m│\u001b[35m \u001b[0m\u001b[35m   0.03547325357794762   \u001b[0m\u001b[35m \u001b[0m│\n",
       "│\u001b[36m \u001b[0m\u001b[36m      test/cls/Acc       \u001b[0m\u001b[36m \u001b[0m│\u001b[35m \u001b[0m\u001b[35m   0.7936561703681946    \u001b[0m\u001b[35m \u001b[0m│\n",
       "│\u001b[36m \u001b[0m\u001b[36m     test/cls/Brier      \u001b[0m\u001b[36m \u001b[0m│\u001b[35m \u001b[0m\u001b[35m   0.2963554263114929    \u001b[0m\u001b[35m \u001b[0m│\n",
       "│\u001b[36m \u001b[0m\u001b[36m      test/cls/NLL       \u001b[0m\u001b[36m \u001b[0m│\u001b[35m \u001b[0m\u001b[35m   0.4690166711807251    \u001b[0m\u001b[35m \u001b[0m│\n",
       "│\u001b[36m \u001b[0m\u001b[36m    test/cls/entropy     \u001b[0m\u001b[36m \u001b[0m│\u001b[35m \u001b[0m\u001b[35m   0.38211891055107117   \u001b[0m\u001b[35m \u001b[0m│\n",
       "│\u001b[36m \u001b[0m\u001b[36m  test/ens_Disagreement  \u001b[0m\u001b[36m \u001b[0m│\u001b[35m \u001b[0m\u001b[35m   0.1266995519399643    \u001b[0m\u001b[35m \u001b[0m│\n",
       "│\u001b[36m \u001b[0m\u001b[36m    test/ens_Entropy     \u001b[0m\u001b[36m \u001b[0m│\u001b[35m \u001b[0m\u001b[35m   0.33303308486938477   \u001b[0m\u001b[35m \u001b[0m│\n",
       "│\u001b[36m \u001b[0m\u001b[36m       test/ens_MI       \u001b[0m\u001b[36m \u001b[0m│\u001b[35m \u001b[0m\u001b[35m   0.04908604547381401   \u001b[0m\u001b[35m \u001b[0m│\n",
       "│\u001b[36m \u001b[0m\u001b[36m      test/sc/AUGRC      \u001b[0m\u001b[36m \u001b[0m│\u001b[35m \u001b[0m\u001b[35m   0.06631206721067429   \u001b[0m\u001b[35m \u001b[0m│\n",
       "│\u001b[36m \u001b[0m\u001b[36m      test/sc/AURC       \u001b[0m\u001b[36m \u001b[0m│\u001b[35m \u001b[0m\u001b[35m   0.10380266606807709   \u001b[0m\u001b[35m \u001b[0m│\n",
       "│\u001b[36m \u001b[0m\u001b[36m   test/sc/CovAt5Risk    \u001b[0m\u001b[36m \u001b[0m│\u001b[35m \u001b[0m\u001b[35m           nan           \u001b[0m\u001b[35m \u001b[0m│\n",
       "│\u001b[36m \u001b[0m\u001b[36m   test/sc/RiskAt80Cov   \u001b[0m\u001b[36m \u001b[0m│\u001b[35m \u001b[0m\u001b[35m   0.15417896211147308   \u001b[0m\u001b[35m \u001b[0m│\n",
       "└───────────────────────────┴───────────────────────────┘\n"
      ]
     },
     "metadata": {},
     "output_type": "display_data"
    },
    {
     "name": "stderr",
     "output_type": "stream",
     "text": [
      "LOCAL_RANK: 0 - CUDA_VISIBLE_DEVICES: [0]\n",
      "/home/ubuntu/anaconda3/lib/python3.11/site-packages/lightning/pytorch/trainer/connectors/data_connector.py:424: The 'test_dataloader' does not have many workers which may be a bottleneck. Consider increasing the value of the `num_workers` argument` to `num_workers=63` in the `DataLoader` to improve performance.\n"
     ]
    },
    {
     "data": {
      "text/html": [
       "<pre style=\"white-space:pre;overflow-x:auto;line-height:normal;font-family:Menlo,'DejaVu Sans Mono',consolas,'Courier New',monospace\">┏━━━━━━━━━━━━━━━━━━━━━━━━━━━┳━━━━━━━━━━━━━━━━━━━━━━━━━━━┓\n",
       "┃<span style=\"font-weight: bold\">        Test metric        </span>┃<span style=\"font-weight: bold\">       DataLoader 0        </span>┃\n",
       "┡━━━━━━━━━━━━━━━━━━━━━━━━━━━╇━━━━━━━━━━━━━━━━━━━━━━━━━━━┩\n",
       "│<span style=\"color: #008080; text-decoration-color: #008080\">       test/cal/ECE        </span>│<span style=\"color: #800080; text-decoration-color: #800080\">   0.007483982481062412    </span>│\n",
       "│<span style=\"color: #008080; text-decoration-color: #008080\">       test/cal/aECE       </span>│<span style=\"color: #800080; text-decoration-color: #800080\">   0.0072869667783379555   </span>│\n",
       "│<span style=\"color: #008080; text-decoration-color: #008080\">       test/cls/Acc        </span>│<span style=\"color: #800080; text-decoration-color: #800080\">    0.9753821492195129     </span>│\n",
       "│<span style=\"color: #008080; text-decoration-color: #008080\">      test/cls/Brier       </span>│<span style=\"color: #800080; text-decoration-color: #800080\">    0.0465162955224514     </span>│\n",
       "│<span style=\"color: #008080; text-decoration-color: #008080\">       test/cls/NLL        </span>│<span style=\"color: #800080; text-decoration-color: #800080\">    0.10890518873929977    </span>│\n",
       "│<span style=\"color: #008080; text-decoration-color: #008080\">     test/cls/entropy      </span>│<span style=\"color: #800080; text-decoration-color: #800080\">    0.07940424978733063    </span>│\n",
       "│<span style=\"color: #008080; text-decoration-color: #008080\">   test/ens_Disagreement   </span>│<span style=\"color: #800080; text-decoration-color: #800080\">    0.06060609221458435    </span>│\n",
       "│<span style=\"color: #008080; text-decoration-color: #008080\">     test/ens_Entropy      </span>│<span style=\"color: #800080; text-decoration-color: #800080\">    0.1943831890821457     </span>│\n",
       "│<span style=\"color: #008080; text-decoration-color: #008080\">        test/ens_MI        </span>│<span style=\"color: #800080; text-decoration-color: #800080\">   0.027151310816407204    </span>│\n",
       "│<span style=\"color: #008080; text-decoration-color: #008080\">       test/sc/AUGRC       </span>│<span style=\"color: #800080; text-decoration-color: #800080\">   0.006489260587841272    </span>│\n",
       "│<span style=\"color: #008080; text-decoration-color: #008080\">       test/sc/AURC        </span>│<span style=\"color: #800080; text-decoration-color: #800080\">   0.010680245235562325    </span>│\n",
       "│<span style=\"color: #008080; text-decoration-color: #008080\">    test/sc/CovAt5Risk     </span>│<span style=\"color: #800080; text-decoration-color: #800080\">            1.0            </span>│\n",
       "│<span style=\"color: #008080; text-decoration-color: #008080\">    test/sc/RiskAt80Cov    </span>│<span style=\"color: #800080; text-decoration-color: #800080\">   0.014099719002842903    </span>│\n",
       "└───────────────────────────┴───────────────────────────┘\n",
       "</pre>\n"
      ],
      "text/plain": [
       "┏━━━━━━━━━━━━━━━━━━━━━━━━━━━┳━━━━━━━━━━━━━━━━━━━━━━━━━━━┓\n",
       "┃\u001b[1m \u001b[0m\u001b[1m       Test metric       \u001b[0m\u001b[1m \u001b[0m┃\u001b[1m \u001b[0m\u001b[1m      DataLoader 0       \u001b[0m\u001b[1m \u001b[0m┃\n",
       "┡━━━━━━━━━━━━━━━━━━━━━━━━━━━╇━━━━━━━━━━━━━━━━━━━━━━━━━━━┩\n",
       "│\u001b[36m \u001b[0m\u001b[36m      test/cal/ECE       \u001b[0m\u001b[36m \u001b[0m│\u001b[35m \u001b[0m\u001b[35m  0.007483982481062412   \u001b[0m\u001b[35m \u001b[0m│\n",
       "│\u001b[36m \u001b[0m\u001b[36m      test/cal/aECE      \u001b[0m\u001b[36m \u001b[0m│\u001b[35m \u001b[0m\u001b[35m  0.0072869667783379555  \u001b[0m\u001b[35m \u001b[0m│\n",
       "│\u001b[36m \u001b[0m\u001b[36m      test/cls/Acc       \u001b[0m\u001b[36m \u001b[0m│\u001b[35m \u001b[0m\u001b[35m   0.9753821492195129    \u001b[0m\u001b[35m \u001b[0m│\n",
       "│\u001b[36m \u001b[0m\u001b[36m     test/cls/Brier      \u001b[0m\u001b[36m \u001b[0m│\u001b[35m \u001b[0m\u001b[35m   0.0465162955224514    \u001b[0m\u001b[35m \u001b[0m│\n",
       "│\u001b[36m \u001b[0m\u001b[36m      test/cls/NLL       \u001b[0m\u001b[36m \u001b[0m│\u001b[35m \u001b[0m\u001b[35m   0.10890518873929977   \u001b[0m\u001b[35m \u001b[0m│\n",
       "│\u001b[36m \u001b[0m\u001b[36m    test/cls/entropy     \u001b[0m\u001b[36m \u001b[0m│\u001b[35m \u001b[0m\u001b[35m   0.07940424978733063   \u001b[0m\u001b[35m \u001b[0m│\n",
       "│\u001b[36m \u001b[0m\u001b[36m  test/ens_Disagreement  \u001b[0m\u001b[36m \u001b[0m│\u001b[35m \u001b[0m\u001b[35m   0.06060609221458435   \u001b[0m\u001b[35m \u001b[0m│\n",
       "│\u001b[36m \u001b[0m\u001b[36m    test/ens_Entropy     \u001b[0m\u001b[36m \u001b[0m│\u001b[35m \u001b[0m\u001b[35m   0.1943831890821457    \u001b[0m\u001b[35m \u001b[0m│\n",
       "│\u001b[36m \u001b[0m\u001b[36m       test/ens_MI       \u001b[0m\u001b[36m \u001b[0m│\u001b[35m \u001b[0m\u001b[35m  0.027151310816407204   \u001b[0m\u001b[35m \u001b[0m│\n",
       "│\u001b[36m \u001b[0m\u001b[36m      test/sc/AUGRC      \u001b[0m\u001b[36m \u001b[0m│\u001b[35m \u001b[0m\u001b[35m  0.006489260587841272   \u001b[0m\u001b[35m \u001b[0m│\n",
       "│\u001b[36m \u001b[0m\u001b[36m      test/sc/AURC       \u001b[0m\u001b[36m \u001b[0m│\u001b[35m \u001b[0m\u001b[35m  0.010680245235562325   \u001b[0m\u001b[35m \u001b[0m│\n",
       "│\u001b[36m \u001b[0m\u001b[36m   test/sc/CovAt5Risk    \u001b[0m\u001b[36m \u001b[0m│\u001b[35m \u001b[0m\u001b[35m           1.0           \u001b[0m\u001b[35m \u001b[0m│\n",
       "│\u001b[36m \u001b[0m\u001b[36m   test/sc/RiskAt80Cov   \u001b[0m\u001b[36m \u001b[0m│\u001b[35m \u001b[0m\u001b[35m  0.014099719002842903   \u001b[0m\u001b[35m \u001b[0m│\n",
       "└───────────────────────────┴───────────────────────────┘\n"
      ]
     },
     "metadata": {},
     "output_type": "display_data"
    },
    {
     "name": "stderr",
     "output_type": "stream",
     "text": [
      "LOCAL_RANK: 0 - CUDA_VISIBLE_DEVICES: [0]\n",
      "/home/ubuntu/anaconda3/lib/python3.11/site-packages/lightning/pytorch/trainer/connectors/data_connector.py:424: The 'test_dataloader' does not have many workers which may be a bottleneck. Consider increasing the value of the `num_workers` argument` to `num_workers=63` in the `DataLoader` to improve performance.\n"
     ]
    },
    {
     "data": {
      "text/html": [
       "<pre style=\"white-space:pre;overflow-x:auto;line-height:normal;font-family:Menlo,'DejaVu Sans Mono',consolas,'Courier New',monospace\">┏━━━━━━━━━━━━━━━━━━━━━━━━━━━┳━━━━━━━━━━━━━━━━━━━━━━━━━━━┓\n",
       "┃<span style=\"font-weight: bold\">        Test metric        </span>┃<span style=\"font-weight: bold\">       DataLoader 0        </span>┃\n",
       "┡━━━━━━━━━━━━━━━━━━━━━━━━━━━╇━━━━━━━━━━━━━━━━━━━━━━━━━━━┩\n",
       "│<span style=\"color: #008080; text-decoration-color: #008080\">       test/cal/ECE        </span>│<span style=\"color: #800080; text-decoration-color: #800080\">    0.04700091853737831    </span>│\n",
       "│<span style=\"color: #008080; text-decoration-color: #008080\">       test/cal/aECE       </span>│<span style=\"color: #800080; text-decoration-color: #800080\">    0.04783035069704056    </span>│\n",
       "│<span style=\"color: #008080; text-decoration-color: #008080\">       test/cls/Acc        </span>│<span style=\"color: #800080; text-decoration-color: #800080\">    0.7417049407958984     </span>│\n",
       "│<span style=\"color: #008080; text-decoration-color: #008080\">      test/cls/Brier       </span>│<span style=\"color: #800080; text-decoration-color: #800080\">    0.3564264178276062     </span>│\n",
       "│<span style=\"color: #008080; text-decoration-color: #008080\">       test/cls/NLL        </span>│<span style=\"color: #800080; text-decoration-color: #800080\">    0.5430129766464233     </span>│\n",
       "│<span style=\"color: #008080; text-decoration-color: #008080\">     test/cls/entropy      </span>│<span style=\"color: #800080; text-decoration-color: #800080\">    0.4464534521102905     </span>│\n",
       "│<span style=\"color: #008080; text-decoration-color: #008080\">   test/ens_Disagreement   </span>│<span style=\"color: #800080; text-decoration-color: #800080\">    0.09055755287408829    </span>│\n",
       "│<span style=\"color: #008080; text-decoration-color: #008080\">     test/ens_Entropy      </span>│<span style=\"color: #800080; text-decoration-color: #800080\">    0.2688119411468506     </span>│\n",
       "│<span style=\"color: #008080; text-decoration-color: #008080\">        test/ens_MI        </span>│<span style=\"color: #800080; text-decoration-color: #800080\">    0.03333393856883049    </span>│\n",
       "│<span style=\"color: #008080; text-decoration-color: #008080\">       test/sc/AUGRC       </span>│<span style=\"color: #800080; text-decoration-color: #800080\">    0.09259036928415298    </span>│\n",
       "│<span style=\"color: #008080; text-decoration-color: #008080\">       test/sc/AURC        </span>│<span style=\"color: #800080; text-decoration-color: #800080\">    0.1494719386100769     </span>│\n",
       "│<span style=\"color: #008080; text-decoration-color: #008080\">    test/sc/CovAt5Risk     </span>│<span style=\"color: #800080; text-decoration-color: #800080\">            nan            </span>│\n",
       "│<span style=\"color: #008080; text-decoration-color: #008080\">    test/sc/RiskAt80Cov    </span>│<span style=\"color: #800080; text-decoration-color: #800080\">    0.21287506818771362    </span>│\n",
       "└───────────────────────────┴───────────────────────────┘\n",
       "</pre>\n"
      ],
      "text/plain": [
       "┏━━━━━━━━━━━━━━━━━━━━━━━━━━━┳━━━━━━━━━━━━━━━━━━━━━━━━━━━┓\n",
       "┃\u001b[1m \u001b[0m\u001b[1m       Test metric       \u001b[0m\u001b[1m \u001b[0m┃\u001b[1m \u001b[0m\u001b[1m      DataLoader 0       \u001b[0m\u001b[1m \u001b[0m┃\n",
       "┡━━━━━━━━━━━━━━━━━━━━━━━━━━━╇━━━━━━━━━━━━━━━━━━━━━━━━━━━┩\n",
       "│\u001b[36m \u001b[0m\u001b[36m      test/cal/ECE       \u001b[0m\u001b[36m \u001b[0m│\u001b[35m \u001b[0m\u001b[35m   0.04700091853737831   \u001b[0m\u001b[35m \u001b[0m│\n",
       "│\u001b[36m \u001b[0m\u001b[36m      test/cal/aECE      \u001b[0m\u001b[36m \u001b[0m│\u001b[35m \u001b[0m\u001b[35m   0.04783035069704056   \u001b[0m\u001b[35m \u001b[0m│\n",
       "│\u001b[36m \u001b[0m\u001b[36m      test/cls/Acc       \u001b[0m\u001b[36m \u001b[0m│\u001b[35m \u001b[0m\u001b[35m   0.7417049407958984    \u001b[0m\u001b[35m \u001b[0m│\n",
       "│\u001b[36m \u001b[0m\u001b[36m     test/cls/Brier      \u001b[0m\u001b[36m \u001b[0m│\u001b[35m \u001b[0m\u001b[35m   0.3564264178276062    \u001b[0m\u001b[35m \u001b[0m│\n",
       "│\u001b[36m \u001b[0m\u001b[36m      test/cls/NLL       \u001b[0m\u001b[36m \u001b[0m│\u001b[35m \u001b[0m\u001b[35m   0.5430129766464233    \u001b[0m\u001b[35m \u001b[0m│\n",
       "│\u001b[36m \u001b[0m\u001b[36m    test/cls/entropy     \u001b[0m\u001b[36m \u001b[0m│\u001b[35m \u001b[0m\u001b[35m   0.4464534521102905    \u001b[0m\u001b[35m \u001b[0m│\n",
       "│\u001b[36m \u001b[0m\u001b[36m  test/ens_Disagreement  \u001b[0m\u001b[36m \u001b[0m│\u001b[35m \u001b[0m\u001b[35m   0.09055755287408829   \u001b[0m\u001b[35m \u001b[0m│\n",
       "│\u001b[36m \u001b[0m\u001b[36m    test/ens_Entropy     \u001b[0m\u001b[36m \u001b[0m│\u001b[35m \u001b[0m\u001b[35m   0.2688119411468506    \u001b[0m\u001b[35m \u001b[0m│\n",
       "│\u001b[36m \u001b[0m\u001b[36m       test/ens_MI       \u001b[0m\u001b[36m \u001b[0m│\u001b[35m \u001b[0m\u001b[35m   0.03333393856883049   \u001b[0m\u001b[35m \u001b[0m│\n",
       "│\u001b[36m \u001b[0m\u001b[36m      test/sc/AUGRC      \u001b[0m\u001b[36m \u001b[0m│\u001b[35m \u001b[0m\u001b[35m   0.09259036928415298   \u001b[0m\u001b[35m \u001b[0m│\n",
       "│\u001b[36m \u001b[0m\u001b[36m      test/sc/AURC       \u001b[0m\u001b[36m \u001b[0m│\u001b[35m \u001b[0m\u001b[35m   0.1494719386100769    \u001b[0m\u001b[35m \u001b[0m│\n",
       "│\u001b[36m \u001b[0m\u001b[36m   test/sc/CovAt5Risk    \u001b[0m\u001b[36m \u001b[0m│\u001b[35m \u001b[0m\u001b[35m           nan           \u001b[0m\u001b[35m \u001b[0m│\n",
       "│\u001b[36m \u001b[0m\u001b[36m   test/sc/RiskAt80Cov   \u001b[0m\u001b[36m \u001b[0m│\u001b[35m \u001b[0m\u001b[35m   0.21287506818771362   \u001b[0m\u001b[35m \u001b[0m│\n",
       "└───────────────────────────┴───────────────────────────┘\n"
      ]
     },
     "metadata": {},
     "output_type": "display_data"
    },
    {
     "name": "stderr",
     "output_type": "stream",
     "text": [
      "LOCAL_RANK: 0 - CUDA_VISIBLE_DEVICES: [0]\n",
      "/home/ubuntu/anaconda3/lib/python3.11/site-packages/lightning/pytorch/trainer/connectors/data_connector.py:424: The 'test_dataloader' does not have many workers which may be a bottleneck. Consider increasing the value of the `num_workers` argument` to `num_workers=63` in the `DataLoader` to improve performance.\n"
     ]
    },
    {
     "data": {
      "text/html": [
       "<pre style=\"white-space:pre;overflow-x:auto;line-height:normal;font-family:Menlo,'DejaVu Sans Mono',consolas,'Courier New',monospace\">┏━━━━━━━━━━━━━━━━━━━━━━━━━━━┳━━━━━━━━━━━━━━━━━━━━━━━━━━━┓\n",
       "┃<span style=\"font-weight: bold\">        Test metric        </span>┃<span style=\"font-weight: bold\">       DataLoader 0        </span>┃\n",
       "┡━━━━━━━━━━━━━━━━━━━━━━━━━━━╇━━━━━━━━━━━━━━━━━━━━━━━━━━━┩\n",
       "│<span style=\"color: #008080; text-decoration-color: #008080\">       test/cal/ECE        </span>│<span style=\"color: #800080; text-decoration-color: #800080\">   0.010595527477562428    </span>│\n",
       "│<span style=\"color: #008080; text-decoration-color: #008080\">       test/cal/aECE       </span>│<span style=\"color: #800080; text-decoration-color: #800080\">   0.010628064163029194    </span>│\n",
       "│<span style=\"color: #008080; text-decoration-color: #008080\">       test/cls/Acc        </span>│<span style=\"color: #800080; text-decoration-color: #800080\">    0.8981171250343323     </span>│\n",
       "│<span style=\"color: #008080; text-decoration-color: #008080\">      test/cls/Brier       </span>│<span style=\"color: #800080; text-decoration-color: #800080\">    0.14715009927749634    </span>│\n",
       "│<span style=\"color: #008080; text-decoration-color: #008080\">       test/cls/NLL        </span>│<span style=\"color: #800080; text-decoration-color: #800080\">    0.24132278561592102    </span>│\n",
       "│<span style=\"color: #008080; text-decoration-color: #008080\">     test/cls/entropy      </span>│<span style=\"color: #800080; text-decoration-color: #800080\">    0.21908196806907654    </span>│\n",
       "│<span style=\"color: #008080; text-decoration-color: #008080\">   test/ens_Disagreement   </span>│<span style=\"color: #800080; text-decoration-color: #800080\">    0.0825161412358284     </span>│\n",
       "│<span style=\"color: #008080; text-decoration-color: #008080\">     test/ens_Entropy      </span>│<span style=\"color: #800080; text-decoration-color: #800080\">    0.25144872069358826    </span>│\n",
       "│<span style=\"color: #008080; text-decoration-color: #008080\">        test/ens_MI        </span>│<span style=\"color: #800080; text-decoration-color: #800080\">    0.03099474124610424    </span>│\n",
       "│<span style=\"color: #008080; text-decoration-color: #008080\">       test/sc/AUGRC       </span>│<span style=\"color: #800080; text-decoration-color: #800080\">   0.017534291371703148    </span>│\n",
       "│<span style=\"color: #008080; text-decoration-color: #008080\">       test/sc/AURC        </span>│<span style=\"color: #800080; text-decoration-color: #800080\">   0.021730227395892143    </span>│\n",
       "│<span style=\"color: #008080; text-decoration-color: #008080\">    test/sc/CovAt5Risk     </span>│<span style=\"color: #800080; text-decoration-color: #800080\">    0.8392055630683899     </span>│\n",
       "│<span style=\"color: #008080; text-decoration-color: #008080\">    test/sc/RiskAt80Cov    </span>│<span style=\"color: #800080; text-decoration-color: #800080\">    0.04154844954609871    </span>│\n",
       "└───────────────────────────┴───────────────────────────┘\n",
       "</pre>\n"
      ],
      "text/plain": [
       "┏━━━━━━━━━━━━━━━━━━━━━━━━━━━┳━━━━━━━━━━━━━━━━━━━━━━━━━━━┓\n",
       "┃\u001b[1m \u001b[0m\u001b[1m       Test metric       \u001b[0m\u001b[1m \u001b[0m┃\u001b[1m \u001b[0m\u001b[1m      DataLoader 0       \u001b[0m\u001b[1m \u001b[0m┃\n",
       "┡━━━━━━━━━━━━━━━━━━━━━━━━━━━╇━━━━━━━━━━━━━━━━━━━━━━━━━━━┩\n",
       "│\u001b[36m \u001b[0m\u001b[36m      test/cal/ECE       \u001b[0m\u001b[36m \u001b[0m│\u001b[35m \u001b[0m\u001b[35m  0.010595527477562428   \u001b[0m\u001b[35m \u001b[0m│\n",
       "│\u001b[36m \u001b[0m\u001b[36m      test/cal/aECE      \u001b[0m\u001b[36m \u001b[0m│\u001b[35m \u001b[0m\u001b[35m  0.010628064163029194   \u001b[0m\u001b[35m \u001b[0m│\n",
       "│\u001b[36m \u001b[0m\u001b[36m      test/cls/Acc       \u001b[0m\u001b[36m \u001b[0m│\u001b[35m \u001b[0m\u001b[35m   0.8981171250343323    \u001b[0m\u001b[35m \u001b[0m│\n",
       "│\u001b[36m \u001b[0m\u001b[36m     test/cls/Brier      \u001b[0m\u001b[36m \u001b[0m│\u001b[35m \u001b[0m\u001b[35m   0.14715009927749634   \u001b[0m\u001b[35m \u001b[0m│\n",
       "│\u001b[36m \u001b[0m\u001b[36m      test/cls/NLL       \u001b[0m\u001b[36m \u001b[0m│\u001b[35m \u001b[0m\u001b[35m   0.24132278561592102   \u001b[0m\u001b[35m \u001b[0m│\n",
       "│\u001b[36m \u001b[0m\u001b[36m    test/cls/entropy     \u001b[0m\u001b[36m \u001b[0m│\u001b[35m \u001b[0m\u001b[35m   0.21908196806907654   \u001b[0m\u001b[35m \u001b[0m│\n",
       "│\u001b[36m \u001b[0m\u001b[36m  test/ens_Disagreement  \u001b[0m\u001b[36m \u001b[0m│\u001b[35m \u001b[0m\u001b[35m   0.0825161412358284    \u001b[0m\u001b[35m \u001b[0m│\n",
       "│\u001b[36m \u001b[0m\u001b[36m    test/ens_Entropy     \u001b[0m\u001b[36m \u001b[0m│\u001b[35m \u001b[0m\u001b[35m   0.25144872069358826   \u001b[0m\u001b[35m \u001b[0m│\n",
       "│\u001b[36m \u001b[0m\u001b[36m       test/ens_MI       \u001b[0m\u001b[36m \u001b[0m│\u001b[35m \u001b[0m\u001b[35m   0.03099474124610424   \u001b[0m\u001b[35m \u001b[0m│\n",
       "│\u001b[36m \u001b[0m\u001b[36m      test/sc/AUGRC      \u001b[0m\u001b[36m \u001b[0m│\u001b[35m \u001b[0m\u001b[35m  0.017534291371703148   \u001b[0m\u001b[35m \u001b[0m│\n",
       "│\u001b[36m \u001b[0m\u001b[36m      test/sc/AURC       \u001b[0m\u001b[36m \u001b[0m│\u001b[35m \u001b[0m\u001b[35m  0.021730227395892143   \u001b[0m\u001b[35m \u001b[0m│\n",
       "│\u001b[36m \u001b[0m\u001b[36m   test/sc/CovAt5Risk    \u001b[0m\u001b[36m \u001b[0m│\u001b[35m \u001b[0m\u001b[35m   0.8392055630683899    \u001b[0m\u001b[35m \u001b[0m│\n",
       "│\u001b[36m \u001b[0m\u001b[36m   test/sc/RiskAt80Cov   \u001b[0m\u001b[36m \u001b[0m│\u001b[35m \u001b[0m\u001b[35m   0.04154844954609871   \u001b[0m\u001b[35m \u001b[0m│\n",
       "└───────────────────────────┴───────────────────────────┘\n"
      ]
     },
     "metadata": {},
     "output_type": "display_data"
    },
    {
     "name": "stderr",
     "output_type": "stream",
     "text": [
      "LOCAL_RANK: 0 - CUDA_VISIBLE_DEVICES: [0]\n",
      "/home/ubuntu/anaconda3/lib/python3.11/site-packages/lightning/pytorch/trainer/connectors/data_connector.py:424: The 'test_dataloader' does not have many workers which may be a bottleneck. Consider increasing the value of the `num_workers` argument` to `num_workers=63` in the `DataLoader` to improve performance.\n"
     ]
    },
    {
     "data": {
      "text/html": [
       "<pre style=\"white-space:pre;overflow-x:auto;line-height:normal;font-family:Menlo,'DejaVu Sans Mono',consolas,'Courier New',monospace\">┏━━━━━━━━━━━━━━━━━━━━━━━━━━━┳━━━━━━━━━━━━━━━━━━━━━━━━━━━┓\n",
       "┃<span style=\"font-weight: bold\">        Test metric        </span>┃<span style=\"font-weight: bold\">       DataLoader 0        </span>┃\n",
       "┡━━━━━━━━━━━━━━━━━━━━━━━━━━━╇━━━━━━━━━━━━━━━━━━━━━━━━━━━┩\n",
       "│<span style=\"color: #008080; text-decoration-color: #008080\">       test/cal/ECE        </span>│<span style=\"color: #800080; text-decoration-color: #800080\">   0.004133633803576231    </span>│\n",
       "│<span style=\"color: #008080; text-decoration-color: #008080\">       test/cal/aECE       </span>│<span style=\"color: #800080; text-decoration-color: #800080\">   0.004470176063477993    </span>│\n",
       "│<span style=\"color: #008080; text-decoration-color: #008080\">       test/cls/Acc        </span>│<span style=\"color: #800080; text-decoration-color: #800080\">     0.986387312412262     </span>│\n",
       "│<span style=\"color: #008080; text-decoration-color: #008080\">      test/cls/Brier       </span>│<span style=\"color: #800080; text-decoration-color: #800080\">   0.026593269780278206    </span>│\n",
       "│<span style=\"color: #008080; text-decoration-color: #008080\">       test/cls/NLL        </span>│<span style=\"color: #800080; text-decoration-color: #800080\">    0.07051648944616318    </span>│\n",
       "│<span style=\"color: #008080; text-decoration-color: #008080\">     test/cls/entropy      </span>│<span style=\"color: #800080; text-decoration-color: #800080\">   0.050741516053676605    </span>│\n",
       "│<span style=\"color: #008080; text-decoration-color: #008080\">   test/ens_Disagreement   </span>│<span style=\"color: #800080; text-decoration-color: #800080\">   0.058698270469903946    </span>│\n",
       "│<span style=\"color: #008080; text-decoration-color: #008080\">     test/ens_Entropy      </span>│<span style=\"color: #800080; text-decoration-color: #800080\">    0.19154928624629974    </span>│\n",
       "│<span style=\"color: #008080; text-decoration-color: #008080\">        test/ens_MI        </span>│<span style=\"color: #800080; text-decoration-color: #800080\">   0.023497669026255608    </span>│\n",
       "│<span style=\"color: #008080; text-decoration-color: #008080\">       test/sc/AUGRC       </span>│<span style=\"color: #800080; text-decoration-color: #800080\">   0.0037661800161004066   </span>│\n",
       "│<span style=\"color: #008080; text-decoration-color: #008080\">       test/sc/AURC        </span>│<span style=\"color: #800080; text-decoration-color: #800080\">   0.006204493809491396    </span>│\n",
       "│<span style=\"color: #008080; text-decoration-color: #008080\">    test/sc/CovAt5Risk     </span>│<span style=\"color: #800080; text-decoration-color: #800080\">            1.0            </span>│\n",
       "│<span style=\"color: #008080; text-decoration-color: #008080\">    test/sc/RiskAt80Cov    </span>│<span style=\"color: #800080; text-decoration-color: #800080\">   0.008302778005599976    </span>│\n",
       "└───────────────────────────┴───────────────────────────┘\n",
       "</pre>\n"
      ],
      "text/plain": [
       "┏━━━━━━━━━━━━━━━━━━━━━━━━━━━┳━━━━━━━━━━━━━━━━━━━━━━━━━━━┓\n",
       "┃\u001b[1m \u001b[0m\u001b[1m       Test metric       \u001b[0m\u001b[1m \u001b[0m┃\u001b[1m \u001b[0m\u001b[1m      DataLoader 0       \u001b[0m\u001b[1m \u001b[0m┃\n",
       "┡━━━━━━━━━━━━━━━━━━━━━━━━━━━╇━━━━━━━━━━━━━━━━━━━━━━━━━━━┩\n",
       "│\u001b[36m \u001b[0m\u001b[36m      test/cal/ECE       \u001b[0m\u001b[36m \u001b[0m│\u001b[35m \u001b[0m\u001b[35m  0.004133633803576231   \u001b[0m\u001b[35m \u001b[0m│\n",
       "│\u001b[36m \u001b[0m\u001b[36m      test/cal/aECE      \u001b[0m\u001b[36m \u001b[0m│\u001b[35m \u001b[0m\u001b[35m  0.004470176063477993   \u001b[0m\u001b[35m \u001b[0m│\n",
       "│\u001b[36m \u001b[0m\u001b[36m      test/cls/Acc       \u001b[0m\u001b[36m \u001b[0m│\u001b[35m \u001b[0m\u001b[35m    0.986387312412262    \u001b[0m\u001b[35m \u001b[0m│\n",
       "│\u001b[36m \u001b[0m\u001b[36m     test/cls/Brier      \u001b[0m\u001b[36m \u001b[0m│\u001b[35m \u001b[0m\u001b[35m  0.026593269780278206   \u001b[0m\u001b[35m \u001b[0m│\n",
       "│\u001b[36m \u001b[0m\u001b[36m      test/cls/NLL       \u001b[0m\u001b[36m \u001b[0m│\u001b[35m \u001b[0m\u001b[35m   0.07051648944616318   \u001b[0m\u001b[35m \u001b[0m│\n",
       "│\u001b[36m \u001b[0m\u001b[36m    test/cls/entropy     \u001b[0m\u001b[36m \u001b[0m│\u001b[35m \u001b[0m\u001b[35m  0.050741516053676605   \u001b[0m\u001b[35m \u001b[0m│\n",
       "│\u001b[36m \u001b[0m\u001b[36m  test/ens_Disagreement  \u001b[0m\u001b[36m \u001b[0m│\u001b[35m \u001b[0m\u001b[35m  0.058698270469903946   \u001b[0m\u001b[35m \u001b[0m│\n",
       "│\u001b[36m \u001b[0m\u001b[36m    test/ens_Entropy     \u001b[0m\u001b[36m \u001b[0m│\u001b[35m \u001b[0m\u001b[35m   0.19154928624629974   \u001b[0m\u001b[35m \u001b[0m│\n",
       "│\u001b[36m \u001b[0m\u001b[36m       test/ens_MI       \u001b[0m\u001b[36m \u001b[0m│\u001b[35m \u001b[0m\u001b[35m  0.023497669026255608   \u001b[0m\u001b[35m \u001b[0m│\n",
       "│\u001b[36m \u001b[0m\u001b[36m      test/sc/AUGRC      \u001b[0m\u001b[36m \u001b[0m│\u001b[35m \u001b[0m\u001b[35m  0.0037661800161004066  \u001b[0m\u001b[35m \u001b[0m│\n",
       "│\u001b[36m \u001b[0m\u001b[36m      test/sc/AURC       \u001b[0m\u001b[36m \u001b[0m│\u001b[35m \u001b[0m\u001b[35m  0.006204493809491396   \u001b[0m\u001b[35m \u001b[0m│\n",
       "│\u001b[36m \u001b[0m\u001b[36m   test/sc/CovAt5Risk    \u001b[0m\u001b[36m \u001b[0m│\u001b[35m \u001b[0m\u001b[35m           1.0           \u001b[0m\u001b[35m \u001b[0m│\n",
       "│\u001b[36m \u001b[0m\u001b[36m   test/sc/RiskAt80Cov   \u001b[0m\u001b[36m \u001b[0m│\u001b[35m \u001b[0m\u001b[35m  0.008302778005599976   \u001b[0m\u001b[35m \u001b[0m│\n",
       "└───────────────────────────┴───────────────────────────┘\n"
      ]
     },
     "metadata": {},
     "output_type": "display_data"
    },
    {
     "name": "stderr",
     "output_type": "stream",
     "text": [
      "100%|██████████| 5/5 [01:26<00:00, 17.23s/it]\n",
      "100%|██████████| 3/3 [31:02<00:00, 620.79s/it]\n"
     ]
    }
   ],
   "source": [
    "class TwoLayerNet(nn.Module):\n",
    "    def __init__(self, input_size, hidden_size, num_classes):\n",
    "        super(TwoLayerNet, self).__init__()\n",
    "        self.fc1 = nn.Linear(input_size, hidden_size)\n",
    "        self.dropout1 = nn.Dropout(p=0.5)\n",
    "        self.fc2 = nn.Linear(hidden_size, num_classes)\n",
    "\n",
    "    def forward(self, x):\n",
    "        x = F.relu(self.fc1(x))\n",
    "        x = self.dropout1(x)\n",
    "        x = F.relu(self.fc2(x))\n",
    "        return x\n",
    "\n",
    "def optim_recipe(model, lr_mult: float = 1.0):\n",
    "    optimizer = torch.optim.SGD(model.parameters(), lr=0.05 * lr_mult)\n",
    "    scheduler = torch.optim.lr_scheduler.CosineAnnealingLR(optimizer, T_max=10)\n",
    "    return {\"optimizer\": optimizer, \"scheduler\": scheduler}\n",
    "\n",
    "max_epochs = 50\n",
    "batch_size = 64\n",
    "\n",
    "for i in tqdm(range(len(all_tasks))):\n",
    "# for i in [0]:\n",
    "\n",
    "    general_task_name = all_tasks_name[i]\n",
    "\n",
    "    folder_path = f'multi_task_data_uq/{general_task_name}'\n",
    "\n",
    "    train_x_name = os.path.join(folder_path, 'X_train_all.csv')\n",
    "    train_y_name = os.path.join(folder_path, 'y_train_all.csv')\n",
    "    val_x_name = os.path.join(folder_path, 'X_val_all.csv')\n",
    "    val_y_name = os.path.join(folder_path, 'y_val_all.csv')\n",
    "\n",
    "    X_train = pd.read_csv(train_x_name).to_numpy()\n",
    "    y_train = pd.read_csv(train_y_name).to_numpy().reshape(-1)\n",
    "    X_val = pd.read_csv(val_x_name).to_numpy()\n",
    "    y_val = pd.read_csv(val_y_name).to_numpy().reshape(-1)\n",
    "\n",
    "    # Create class weights\n",
    "    class_weights = compute_class_weight('balanced', classes=np.unique(y_train), y=y_train)\n",
    "    class_weights = torch.tensor(class_weights, dtype=torch.float)\n",
    "\n",
    "    X_train = torch.tensor(X_train).float()\n",
    "    X_val = torch.tensor(X_val).float()\n",
    "\n",
    "    y_train = torch.tensor(y_train).long()\n",
    "    y_val = torch.tensor(y_val).long()\n",
    "\n",
    "    # Create TensorDatasets\n",
    "    train_dataset = TensorDataset(X_train, y_train)\n",
    "    val_dataset = TensorDataset(X_val, y_val)\n",
    "\n",
    "    # Create DataLoaders\n",
    "    train_dl = DataLoader(train_dataset, batch_size=batch_size, shuffle=True)\n",
    "    val_dl = DataLoader(val_dataset, batch_size=batch_size, shuffle=False)\n",
    "\n",
    "    input_size = X_train.shape[1]\n",
    "    hidden_size = 128\n",
    "    num_classes = 2\n",
    "    \n",
    "    model = TwoLayerNet(input_size, hidden_size, num_classes)\n",
    "\n",
    "    mc_model = mc_dropout(model, num_estimators=5, last_layer=False, on_batch=False)\n",
    "\n",
    "    routine = ClassificationRoutine(\n",
    "        num_classes=2,\n",
    "        model=mc_model,\n",
    "        loss=nn.CrossEntropyLoss(),\n",
    "        optim_recipe=optim_recipe(mc_model),\n",
    "        is_ensemble=True,\n",
    "    )\n",
    "    trainer = Trainer(accelerator=\"gpu\", max_epochs=max_epochs, enable_progress_bar=False)\n",
    "\n",
    "    trainer.fit(model=routine, train_dataloaders=train_dl, val_dataloaders=val_dl)\n",
    "\n",
    "    current_all_tasks_list = all_tasks[i]\n",
    "    for j in tqdm(range(len(current_all_tasks_list))):\n",
    "        folder_path_test = f'multi_task_data_uq/{general_task_name}/{current_all_tasks_list[j]}'\n",
    "        \n",
    "        test_x_name = os.path.join(folder_path_test, 'X_test.csv')\n",
    "        test_y_name = os.path.join(folder_path_test, 'y_test.csv')\n",
    "\n",
    "        X_test = pd.read_csv(test_x_name).to_numpy()\n",
    "        y_test = pd.read_csv(test_y_name).to_numpy().reshape(-1)\n",
    "\n",
    "        X_test = torch.tensor(X_test).float()\n",
    "        y_test = torch.tensor(y_test).long()\n",
    "\n",
    "        test_dataset = TensorDataset(X_test, y_test)\n",
    "        test_dl = DataLoader(test_dataset, batch_size=batch_size, shuffle=False)\n",
    "\n",
    "        ens_perf = trainer.test(routine, dataloaders=[test_dl])\n",
    "        \n",
    "        results_dict[current_all_tasks_list[j]] = ens_perf"
   ]
  },
  {
   "cell_type": "code",
   "execution_count": 6,
   "metadata": {},
   "outputs": [
    {
     "data": {
      "text/plain": [
       "896"
      ]
     },
     "execution_count": 6,
     "metadata": {},
     "output_type": "execute_result"
    }
   ],
   "source": [
    "input_size"
   ]
  },
  {
   "cell_type": "code",
   "execution_count": 5,
   "metadata": {},
   "outputs": [
    {
     "data": {
      "text/plain": [
       "'lab_hypoglycemia'"
      ]
     },
     "execution_count": 5,
     "metadata": {},
     "output_type": "execute_result"
    }
   ],
   "source": [
    "import json\n",
    "with open('results_model_uq/results_multi_task_mc_dropout.json', 'w') as f:\n",
    "    json.dump(results_dict, f)\n",
    "current_all_tasks_list[j]"
   ]
  }
 ],
 "metadata": {
  "kernelspec": {
   "display_name": "base",
   "language": "python",
   "name": "python3"
  },
  "language_info": {
   "codemirror_mode": {
    "name": "ipython",
    "version": 3
   },
   "file_extension": ".py",
   "mimetype": "text/x-python",
   "name": "python",
   "nbconvert_exporter": "python",
   "pygments_lexer": "ipython3",
   "version": "3.11.7"
  }
 },
 "nbformat": 4,
 "nbformat_minor": 2
}
