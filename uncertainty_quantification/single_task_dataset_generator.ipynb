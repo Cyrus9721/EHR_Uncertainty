{
 "cells": [
  {
   "cell_type": "code",
   "execution_count": 1,
   "metadata": {},
   "outputs": [],
   "source": [
    "import sys\n",
    "sys.path.append('..')\n",
    "sys.path.append('../ehrshot')\n",
    "import copy\n",
    "from typing import Literal\n",
    "import argparse\n",
    "import pandas as pd\n",
    "import numpy as np\n",
    "import os\n",
    "from tqdm import tqdm\n",
    "\n",
    "import torch\n",
    "from torch import nn\n",
    "from torch.distributions import Distribution\n",
    "from torch_uncertainty.utils.distributions import cat_dist\n"
   ]
  },
  {
   "cell_type": "code",
   "execution_count": 32,
   "metadata": {},
   "outputs": [],
   "source": [
    "labeling_functions=[\n",
    "    \"guo_los\",\n",
    "    \"guo_readmission\",\n",
    "    \"guo_icu\",\n",
    "    \"new_hypertension\",\n",
    "    \"new_hyperlipidemia\",\n",
    "    \"new_pancan\",\n",
    "    \"new_celiac\",\n",
    "    \"new_lupus\",\n",
    "    \"new_acutemi\",\n",
    "    \"lab_thrombocytopenia\",\n",
    "    \"lab_hyperkalemia\",\n",
    "    \"lab_hyponatremia\",\n",
    "    \"lab_anemia\",\n",
    "    \"lab_hypoglycemia\" # will OOM at 200G on `gpu` partition\n",
    "]"
   ]
  },
  {
   "cell_type": "code",
   "execution_count": 2,
   "metadata": {},
   "outputs": [],
   "source": [
    "X_train = pd.read_csv('multi_task_data/X_train_all.csv')\n",
    "X_val = pd.read_csv('multi_task_data/X_val_all.csv')\n",
    "X_test = pd.read_csv('multi_task_data/X_test_all.csv')\n",
    "\n",
    "y_train = pd.read_csv('multi_task_data/y_train_all.csv')\n",
    "y_val = pd.read_csv('multi_task_data/y_val_all.csv')\n",
    "y_test = pd.read_csv('multi_task_data/y_test_all.csv')\n",
    "\n",
    "y_train['task'] = X_train['task']\n",
    "y_val['task'] = X_val['task']\n",
    "y_test['task'] = X_test['task']"
   ]
  },
  {
   "cell_type": "code",
   "execution_count": 18,
   "metadata": {},
   "outputs": [],
   "source": [
    "def process_data_subtask(X, y, subtask):\n",
    "    X = X.drop(columns=['Unnamed: 0'])\n",
    "    X_subtask = X[X['task'] == subtask]\n",
    "    X_subtask = X_subtask.drop(columns=['task'])\n",
    "\n",
    "    y = y.drop(columns=['Unnamed: 0'])\n",
    "    y_subtask = y[y['task'] == subtask]\n",
    "    y_subtask = y_subtask.drop(columns=['task'])\n",
    "\n",
    "    return X_subtask, y_subtask"
   ]
  },
  {
   "cell_type": "code",
   "execution_count": 33,
   "metadata": {},
   "outputs": [],
   "source": [
    "for i in range(len(labeling_functions)):\n",
    "    task = labeling_functions[i]\n",
    "    X_subtask_train, y_subtask_train = process_data_subtask(X_train, y_train, labeling_functions[i])\n",
    "    X_subtask_val, y_subtask_val = process_data_subtask(X_val, y_val, labeling_functions[i])\n",
    "    X_subtask_test, y_subtask_test = process_data_subtask(X_test, y_test, labeling_functions[i])\n",
    "    \n",
    "    folder_path = f'single_task_data/{task}'\n",
    "    if not os.path.exists(folder_path):\n",
    "        os.makedirs(folder_path)\n",
    "    train_x_name = os.path.join(folder_path, 'X_train.csv')\n",
    "    train_y_name = os.path.join(folder_path, 'y_train.csv')\n",
    "    val_x_name = os.path.join(folder_path, 'X_val.csv')\n",
    "    val_y_name = os.path.join(folder_path, 'y_val.csv')\n",
    "    test_x_name = os.path.join(folder_path, 'X_test.csv')\n",
    "    test_y_name = os.path.join(folder_path, 'y_test.csv')\n",
    "\n",
    "    X_subtask_train.to_csv(train_x_name, index = False)\n",
    "    y_subtask_train.to_csv(train_y_name, index = False)\n",
    "    X_subtask_val.to_csv(val_x_name, index = False)\n",
    "    y_subtask_val.to_csv(val_y_name, index = False)\n",
    "    X_subtask_test.to_csv(test_x_name, index = False)\n",
    "    y_subtask_test.to_csv(test_y_name, index = False)\n"
   ]
  }
 ],
 "metadata": {
  "kernelspec": {
   "display_name": "base",
   "language": "python",
   "name": "python3"
  },
  "language_info": {
   "codemirror_mode": {
    "name": "ipython",
    "version": 3
   },
   "file_extension": ".py",
   "mimetype": "text/x-python",
   "name": "python",
   "nbconvert_exporter": "python",
   "pygments_lexer": "ipython3",
   "version": "3.11.7"
  }
 },
 "nbformat": 4,
 "nbformat_minor": 2
}
